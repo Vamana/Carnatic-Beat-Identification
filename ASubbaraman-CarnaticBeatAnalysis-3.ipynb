{
 "cells": [
  {
   "cell_type": "markdown",
   "metadata": {},
   "source": [
    "# Carnatic Beat Detection: what is that beat?\n"
   ]
  },
  {
   "cell_type": "markdown",
   "metadata": {},
   "source": [
    "### Overview\n",
    "\n",
    "This project develops an ML/AI classifier that identifies the Carnatic beat cycle (taalam) of a mridangam solo\n"
   ]
  },
  {
   "cell_type": "markdown",
   "metadata": {},
   "source": [
    "### Goal\n",
    "\n",
    "Given a clip of a drum solo, identify the taalam (beat cycle) in which it is performed.\n"
   ]
  },
  {
   "cell_type": "markdown",
   "metadata": {},
   "source": [
    "### Data"
   ]
  },
  {
   "cell_type": "code",
   "execution_count": 2,
   "metadata": {},
   "outputs": [],
   "source": [
    "import numpy as np\n",
    "import plotly.express as px\n",
    "import matplotlib.pyplot as plt\n",
    "import pandas as pd\n",
    "import warnings\n",
    "import seaborn as sns\n",
    "import os\n",
    "import random\n",
    "import math\n",
    "\n",
    "from sklearn.pipeline import Pipeline, make_pipeline\n",
    "from sklearn.model_selection import GridSearchCV\n",
    "from sklearn.preprocessing import StandardScaler, OneHotEncoder, TargetEncoder, LabelEncoder\n",
    "from sklearn.compose import make_column_transformer, ColumnTransformer\n",
    "from sklearn.model_selection import train_test_split\n",
    "from sklearn.metrics import mean_squared_error, accuracy_score\n",
    "\n",
    "from sklearn.linear_model import LogisticRegression, LogisticRegressionCV\n",
    "from sklearn.tree import DecisionTreeClassifier\n",
    "from sklearn.neighbors import KNeighborsClassifier\n",
    "from sklearn.svm import SVC\n",
    "\n",
    "from sklearn.ensemble import BaggingClassifier, AdaBoostClassifier, RandomForestClassifier\n",
    "\n",
    "import time"
   ]
  },
  {
   "cell_type": "code",
   "execution_count": 3,
   "metadata": {
    "scrolled": true
   },
   "outputs": [
    {
     "data": {
      "text/html": [
       "<div>\n",
       "<style scoped>\n",
       "    .dataframe tbody tr th:only-of-type {\n",
       "        vertical-align: middle;\n",
       "    }\n",
       "\n",
       "    .dataframe tbody tr th {\n",
       "        vertical-align: top;\n",
       "    }\n",
       "\n",
       "    .dataframe thead th {\n",
       "        text-align: right;\n",
       "    }\n",
       "</style>\n",
       "<table border=\"1\" class=\"dataframe\">\n",
       "  <thead>\n",
       "    <tr style=\"text-align: right;\">\n",
       "      <th></th>\n",
       "      <th>FileName</th>\n",
       "      <th>Beat</th>\n",
       "      <th>1</th>\n",
       "      <th>2</th>\n",
       "      <th>3</th>\n",
       "      <th>4</th>\n",
       "      <th>5</th>\n",
       "      <th>6</th>\n",
       "      <th>7</th>\n",
       "      <th>8</th>\n",
       "      <th>...</th>\n",
       "      <th>491</th>\n",
       "      <th>492</th>\n",
       "      <th>493</th>\n",
       "      <th>494</th>\n",
       "      <th>495</th>\n",
       "      <th>496</th>\n",
       "      <th>497</th>\n",
       "      <th>498</th>\n",
       "      <th>499</th>\n",
       "      <th>500</th>\n",
       "    </tr>\n",
       "  </thead>\n",
       "  <tbody>\n",
       "    <tr>\n",
       "      <th>96</th>\n",
       "      <td>KhandaChapu2026</td>\n",
       "      <td>K</td>\n",
       "      <td>0.000579</td>\n",
       "      <td>0.003476</td>\n",
       "      <td>0.011587</td>\n",
       "      <td>0.014774</td>\n",
       "      <td>0.017961</td>\n",
       "      <td>0.021437</td>\n",
       "      <td>0.024913</td>\n",
       "      <td>0.028679</td>\n",
       "      <td>...</td>\n",
       "      <td>NaN</td>\n",
       "      <td>NaN</td>\n",
       "      <td>NaN</td>\n",
       "      <td>NaN</td>\n",
       "      <td>NaN</td>\n",
       "      <td>NaN</td>\n",
       "      <td>NaN</td>\n",
       "      <td>NaN</td>\n",
       "      <td>NaN</td>\n",
       "      <td>NaN</td>\n",
       "    </tr>\n",
       "    <tr>\n",
       "      <th>8</th>\n",
       "      <td>Aadi-1008</td>\n",
       "      <td>A</td>\n",
       "      <td>0.000873</td>\n",
       "      <td>0.003201</td>\n",
       "      <td>0.006112</td>\n",
       "      <td>0.008149</td>\n",
       "      <td>0.012515</td>\n",
       "      <td>0.016007</td>\n",
       "      <td>0.019499</td>\n",
       "      <td>0.024156</td>\n",
       "      <td>...</td>\n",
       "      <td>NaN</td>\n",
       "      <td>NaN</td>\n",
       "      <td>NaN</td>\n",
       "      <td>NaN</td>\n",
       "      <td>NaN</td>\n",
       "      <td>NaN</td>\n",
       "      <td>NaN</td>\n",
       "      <td>NaN</td>\n",
       "      <td>NaN</td>\n",
       "      <td>NaN</td>\n",
       "    </tr>\n",
       "    <tr>\n",
       "      <th>18</th>\n",
       "      <td>Aadi-1018</td>\n",
       "      <td>A</td>\n",
       "      <td>0.003757</td>\n",
       "      <td>0.006936</td>\n",
       "      <td>0.009827</td>\n",
       "      <td>0.012428</td>\n",
       "      <td>0.015896</td>\n",
       "      <td>0.018208</td>\n",
       "      <td>0.020231</td>\n",
       "      <td>0.024277</td>\n",
       "      <td>...</td>\n",
       "      <td>NaN</td>\n",
       "      <td>NaN</td>\n",
       "      <td>NaN</td>\n",
       "      <td>NaN</td>\n",
       "      <td>NaN</td>\n",
       "      <td>NaN</td>\n",
       "      <td>NaN</td>\n",
       "      <td>NaN</td>\n",
       "      <td>NaN</td>\n",
       "      <td>NaN</td>\n",
       "    </tr>\n",
       "    <tr>\n",
       "      <th>35</th>\n",
       "      <td>MisraChapu-1001</td>\n",
       "      <td>M</td>\n",
       "      <td>0.003770</td>\n",
       "      <td>0.007831</td>\n",
       "      <td>0.009571</td>\n",
       "      <td>0.011891</td>\n",
       "      <td>0.016241</td>\n",
       "      <td>0.019722</td>\n",
       "      <td>0.022042</td>\n",
       "      <td>0.025522</td>\n",
       "      <td>...</td>\n",
       "      <td>NaN</td>\n",
       "      <td>NaN</td>\n",
       "      <td>NaN</td>\n",
       "      <td>NaN</td>\n",
       "      <td>NaN</td>\n",
       "      <td>NaN</td>\n",
       "      <td>NaN</td>\n",
       "      <td>NaN</td>\n",
       "      <td>NaN</td>\n",
       "      <td>NaN</td>\n",
       "    </tr>\n",
       "    <tr>\n",
       "      <th>22</th>\n",
       "      <td>Aadi-1022</td>\n",
       "      <td>A</td>\n",
       "      <td>0.000870</td>\n",
       "      <td>0.005800</td>\n",
       "      <td>0.011021</td>\n",
       "      <td>0.013341</td>\n",
       "      <td>0.015081</td>\n",
       "      <td>0.017111</td>\n",
       "      <td>0.022042</td>\n",
       "      <td>0.027552</td>\n",
       "      <td>...</td>\n",
       "      <td>NaN</td>\n",
       "      <td>NaN</td>\n",
       "      <td>NaN</td>\n",
       "      <td>NaN</td>\n",
       "      <td>NaN</td>\n",
       "      <td>NaN</td>\n",
       "      <td>NaN</td>\n",
       "      <td>NaN</td>\n",
       "      <td>NaN</td>\n",
       "      <td>NaN</td>\n",
       "    </tr>\n",
       "    <tr>\n",
       "      <th>65</th>\n",
       "      <td>MisraChapu-3</td>\n",
       "      <td>M</td>\n",
       "      <td>0.004348</td>\n",
       "      <td>0.007826</td>\n",
       "      <td>0.009855</td>\n",
       "      <td>0.014783</td>\n",
       "      <td>0.017971</td>\n",
       "      <td>0.022319</td>\n",
       "      <td>0.024058</td>\n",
       "      <td>0.026957</td>\n",
       "      <td>...</td>\n",
       "      <td>NaN</td>\n",
       "      <td>NaN</td>\n",
       "      <td>NaN</td>\n",
       "      <td>NaN</td>\n",
       "      <td>NaN</td>\n",
       "      <td>NaN</td>\n",
       "      <td>NaN</td>\n",
       "      <td>NaN</td>\n",
       "      <td>NaN</td>\n",
       "      <td>NaN</td>\n",
       "    </tr>\n",
       "    <tr>\n",
       "      <th>39</th>\n",
       "      <td>MisraChapu-1005</td>\n",
       "      <td>M</td>\n",
       "      <td>0.001162</td>\n",
       "      <td>0.004067</td>\n",
       "      <td>0.006682</td>\n",
       "      <td>0.026438</td>\n",
       "      <td>0.029343</td>\n",
       "      <td>0.031087</td>\n",
       "      <td>0.033411</td>\n",
       "      <td>0.036897</td>\n",
       "      <td>...</td>\n",
       "      <td>NaN</td>\n",
       "      <td>NaN</td>\n",
       "      <td>NaN</td>\n",
       "      <td>NaN</td>\n",
       "      <td>NaN</td>\n",
       "      <td>NaN</td>\n",
       "      <td>NaN</td>\n",
       "      <td>NaN</td>\n",
       "      <td>NaN</td>\n",
       "      <td>NaN</td>\n",
       "    </tr>\n",
       "  </tbody>\n",
       "</table>\n",
       "<p>7 rows × 502 columns</p>\n",
       "</div>"
      ],
      "text/plain": [
       "           FileName Beat         1         2         3         4         5  \\\n",
       "96  KhandaChapu2026    K  0.000579  0.003476  0.011587  0.014774  0.017961   \n",
       "8         Aadi-1008    A  0.000873  0.003201  0.006112  0.008149  0.012515   \n",
       "18        Aadi-1018    A  0.003757  0.006936  0.009827  0.012428  0.015896   \n",
       "35  MisraChapu-1001    M  0.003770  0.007831  0.009571  0.011891  0.016241   \n",
       "22        Aadi-1022    A  0.000870  0.005800  0.011021  0.013341  0.015081   \n",
       "65     MisraChapu-3    M  0.004348  0.007826  0.009855  0.014783  0.017971   \n",
       "39  MisraChapu-1005    M  0.001162  0.004067  0.006682  0.026438  0.029343   \n",
       "\n",
       "           6         7         8  ...  491  492  493  494  495  496  497  498  \\\n",
       "96  0.021437  0.024913  0.028679  ...  NaN  NaN  NaN  NaN  NaN  NaN  NaN  NaN   \n",
       "8   0.016007  0.019499  0.024156  ...  NaN  NaN  NaN  NaN  NaN  NaN  NaN  NaN   \n",
       "18  0.018208  0.020231  0.024277  ...  NaN  NaN  NaN  NaN  NaN  NaN  NaN  NaN   \n",
       "35  0.019722  0.022042  0.025522  ...  NaN  NaN  NaN  NaN  NaN  NaN  NaN  NaN   \n",
       "22  0.017111  0.022042  0.027552  ...  NaN  NaN  NaN  NaN  NaN  NaN  NaN  NaN   \n",
       "65  0.022319  0.024058  0.026957  ...  NaN  NaN  NaN  NaN  NaN  NaN  NaN  NaN   \n",
       "39  0.031087  0.033411  0.036897  ...  NaN  NaN  NaN  NaN  NaN  NaN  NaN  NaN   \n",
       "\n",
       "    499  500  \n",
       "96  NaN  NaN  \n",
       "8   NaN  NaN  \n",
       "18  NaN  NaN  \n",
       "35  NaN  NaN  \n",
       "22  NaN  NaN  \n",
       "65  NaN  NaN  \n",
       "39  NaN  NaN  \n",
       "\n",
       "[7 rows x 502 columns]"
      ]
     },
     "execution_count": 3,
     "metadata": {},
     "output_type": "execute_result"
    }
   ],
   "source": [
    "# Load the data\n",
    "beatsDf1 = pd.read_csv(\"data/Beats-3Class.csv\")\n",
    "beatsDf1.sample(7)"
   ]
  },
  {
   "cell_type": "code",
   "execution_count": 4,
   "metadata": {
    "scrolled": true
   },
   "outputs": [
    {
     "name": "stdout",
     "output_type": "stream",
     "text": [
      "<class 'pandas.core.frame.DataFrame'>\n",
      "RangeIndex: 116 entries, 0 to 115\n",
      "Columns: 502 entries, FileName to 500\n",
      "dtypes: float64(500), object(2)\n",
      "memory usage: 455.1+ KB\n"
     ]
    }
   ],
   "source": [
    "beatsDf1.info()"
   ]
  },
  {
   "cell_type": "markdown",
   "metadata": {},
   "source": [
    "#### Cleanup 1:\n",
    "We will set the number of numeric (time-lapse) features to be 250. Drop features with names > 250."
   ]
  },
  {
   "cell_type": "code",
   "execution_count": 5,
   "metadata": {},
   "outputs": [],
   "source": [
    "# We will drop features with names 251 -- 500\n",
    "featuresToDrop = []\n",
    "for nn in range(251, 501):\n",
    "    featuresToDrop.append(str(nn))"
   ]
  },
  {
   "cell_type": "code",
   "execution_count": 6,
   "metadata": {},
   "outputs": [],
   "source": [
    "# Drop the columns above\n",
    "beatsDf1 = beatsDf1.drop(featuresToDrop, axis = 1)"
   ]
  },
  {
   "cell_type": "code",
   "execution_count": 7,
   "metadata": {},
   "outputs": [
    {
     "data": {
      "text/html": [
       "<div>\n",
       "<style scoped>\n",
       "    .dataframe tbody tr th:only-of-type {\n",
       "        vertical-align: middle;\n",
       "    }\n",
       "\n",
       "    .dataframe tbody tr th {\n",
       "        vertical-align: top;\n",
       "    }\n",
       "\n",
       "    .dataframe thead th {\n",
       "        text-align: right;\n",
       "    }\n",
       "</style>\n",
       "<table border=\"1\" class=\"dataframe\">\n",
       "  <thead>\n",
       "    <tr style=\"text-align: right;\">\n",
       "      <th></th>\n",
       "      <th>FileName</th>\n",
       "      <th>Beat</th>\n",
       "      <th>1</th>\n",
       "      <th>2</th>\n",
       "      <th>3</th>\n",
       "      <th>4</th>\n",
       "      <th>5</th>\n",
       "      <th>6</th>\n",
       "      <th>7</th>\n",
       "      <th>8</th>\n",
       "      <th>...</th>\n",
       "      <th>241</th>\n",
       "      <th>242</th>\n",
       "      <th>243</th>\n",
       "      <th>244</th>\n",
       "      <th>245</th>\n",
       "      <th>246</th>\n",
       "      <th>247</th>\n",
       "      <th>248</th>\n",
       "      <th>249</th>\n",
       "      <th>250</th>\n",
       "    </tr>\n",
       "  </thead>\n",
       "  <tbody>\n",
       "    <tr>\n",
       "      <th>62</th>\n",
       "      <td>Aadi-3</td>\n",
       "      <td>A</td>\n",
       "      <td>0.001157</td>\n",
       "      <td>0.003762</td>\n",
       "      <td>0.006655</td>\n",
       "      <td>0.009259</td>\n",
       "      <td>0.011574</td>\n",
       "      <td>0.014178</td>\n",
       "      <td>0.017361</td>\n",
       "      <td>0.023727</td>\n",
       "      <td>...</td>\n",
       "      <td>0.725116</td>\n",
       "      <td>0.729745</td>\n",
       "      <td>0.732060</td>\n",
       "      <td>0.737558</td>\n",
       "      <td>0.740451</td>\n",
       "      <td>0.743345</td>\n",
       "      <td>0.746238</td>\n",
       "      <td>0.748553</td>\n",
       "      <td>0.760706</td>\n",
       "      <td>0.763600</td>\n",
       "    </tr>\n",
       "    <tr>\n",
       "      <th>20</th>\n",
       "      <td>Aadi-1020</td>\n",
       "      <td>A</td>\n",
       "      <td>0.002031</td>\n",
       "      <td>0.005514</td>\n",
       "      <td>0.007835</td>\n",
       "      <td>0.012478</td>\n",
       "      <td>0.018862</td>\n",
       "      <td>0.020894</td>\n",
       "      <td>0.022635</td>\n",
       "      <td>0.027568</td>\n",
       "      <td>...</td>\n",
       "      <td>NaN</td>\n",
       "      <td>NaN</td>\n",
       "      <td>NaN</td>\n",
       "      <td>NaN</td>\n",
       "      <td>NaN</td>\n",
       "      <td>NaN</td>\n",
       "      <td>NaN</td>\n",
       "      <td>NaN</td>\n",
       "      <td>NaN</td>\n",
       "      <td>NaN</td>\n",
       "    </tr>\n",
       "    <tr>\n",
       "      <th>40</th>\n",
       "      <td>MisraChapu-1006</td>\n",
       "      <td>M</td>\n",
       "      <td>0.003472</td>\n",
       "      <td>0.005787</td>\n",
       "      <td>0.007234</td>\n",
       "      <td>0.010417</td>\n",
       "      <td>0.013600</td>\n",
       "      <td>0.016204</td>\n",
       "      <td>0.019097</td>\n",
       "      <td>0.021991</td>\n",
       "      <td>...</td>\n",
       "      <td>0.678819</td>\n",
       "      <td>0.681713</td>\n",
       "      <td>0.684028</td>\n",
       "      <td>0.687500</td>\n",
       "      <td>0.690104</td>\n",
       "      <td>0.693576</td>\n",
       "      <td>0.699653</td>\n",
       "      <td>0.703993</td>\n",
       "      <td>0.705729</td>\n",
       "      <td>0.709780</td>\n",
       "    </tr>\n",
       "    <tr>\n",
       "      <th>6</th>\n",
       "      <td>Aadi-1006</td>\n",
       "      <td>A</td>\n",
       "      <td>0.001161</td>\n",
       "      <td>0.004063</td>\n",
       "      <td>0.007545</td>\n",
       "      <td>0.010157</td>\n",
       "      <td>0.014219</td>\n",
       "      <td>0.019153</td>\n",
       "      <td>0.021764</td>\n",
       "      <td>0.024086</td>\n",
       "      <td>...</td>\n",
       "      <td>0.795995</td>\n",
       "      <td>0.798897</td>\n",
       "      <td>0.803540</td>\n",
       "      <td>0.808183</td>\n",
       "      <td>0.809634</td>\n",
       "      <td>0.811956</td>\n",
       "      <td>0.814568</td>\n",
       "      <td>0.817179</td>\n",
       "      <td>0.820371</td>\n",
       "      <td>0.823273</td>\n",
       "    </tr>\n",
       "    <tr>\n",
       "      <th>61</th>\n",
       "      <td>Aadi-2Kalai-4</td>\n",
       "      <td>A</td>\n",
       "      <td>0.006094</td>\n",
       "      <td>0.010157</td>\n",
       "      <td>0.018282</td>\n",
       "      <td>0.020604</td>\n",
       "      <td>0.023506</td>\n",
       "      <td>0.028149</td>\n",
       "      <td>0.030470</td>\n",
       "      <td>0.035694</td>\n",
       "      <td>...</td>\n",
       "      <td>0.839234</td>\n",
       "      <td>0.857516</td>\n",
       "      <td>0.871735</td>\n",
       "      <td>0.873476</td>\n",
       "      <td>0.886825</td>\n",
       "      <td>0.889437</td>\n",
       "      <td>0.905978</td>\n",
       "      <td>0.908880</td>\n",
       "      <td>0.913523</td>\n",
       "      <td>0.917876</td>\n",
       "    </tr>\n",
       "    <tr>\n",
       "      <th>100</th>\n",
       "      <td>MishraChapu2000</td>\n",
       "      <td>M</td>\n",
       "      <td>0.000868</td>\n",
       "      <td>0.002604</td>\n",
       "      <td>0.004340</td>\n",
       "      <td>0.006655</td>\n",
       "      <td>0.008391</td>\n",
       "      <td>0.012442</td>\n",
       "      <td>0.014178</td>\n",
       "      <td>0.016204</td>\n",
       "      <td>...</td>\n",
       "      <td>0.748264</td>\n",
       "      <td>0.751447</td>\n",
       "      <td>0.755787</td>\n",
       "      <td>0.760706</td>\n",
       "      <td>0.765046</td>\n",
       "      <td>0.768519</td>\n",
       "      <td>0.771123</td>\n",
       "      <td>0.773438</td>\n",
       "      <td>0.777199</td>\n",
       "      <td>0.780382</td>\n",
       "    </tr>\n",
       "    <tr>\n",
       "      <th>0</th>\n",
       "      <td>Aadi-1000</td>\n",
       "      <td>A</td>\n",
       "      <td>0.002612</td>\n",
       "      <td>0.005514</td>\n",
       "      <td>0.008996</td>\n",
       "      <td>0.013349</td>\n",
       "      <td>0.016831</td>\n",
       "      <td>0.019733</td>\n",
       "      <td>0.023506</td>\n",
       "      <td>0.027858</td>\n",
       "      <td>...</td>\n",
       "      <td>0.799187</td>\n",
       "      <td>0.803250</td>\n",
       "      <td>0.806152</td>\n",
       "      <td>0.807893</td>\n",
       "      <td>0.809344</td>\n",
       "      <td>0.811956</td>\n",
       "      <td>0.814568</td>\n",
       "      <td>0.816599</td>\n",
       "      <td>0.819501</td>\n",
       "      <td>0.820952</td>\n",
       "    </tr>\n",
       "  </tbody>\n",
       "</table>\n",
       "<p>7 rows × 252 columns</p>\n",
       "</div>"
      ],
      "text/plain": [
       "            FileName Beat         1         2         3         4         5  \\\n",
       "62            Aadi-3    A  0.001157  0.003762  0.006655  0.009259  0.011574   \n",
       "20         Aadi-1020    A  0.002031  0.005514  0.007835  0.012478  0.018862   \n",
       "40   MisraChapu-1006    M  0.003472  0.005787  0.007234  0.010417  0.013600   \n",
       "6          Aadi-1006    A  0.001161  0.004063  0.007545  0.010157  0.014219   \n",
       "61     Aadi-2Kalai-4    A  0.006094  0.010157  0.018282  0.020604  0.023506   \n",
       "100  MishraChapu2000    M  0.000868  0.002604  0.004340  0.006655  0.008391   \n",
       "0          Aadi-1000    A  0.002612  0.005514  0.008996  0.013349  0.016831   \n",
       "\n",
       "            6         7         8  ...       241       242       243  \\\n",
       "62   0.014178  0.017361  0.023727  ...  0.725116  0.729745  0.732060   \n",
       "20   0.020894  0.022635  0.027568  ...       NaN       NaN       NaN   \n",
       "40   0.016204  0.019097  0.021991  ...  0.678819  0.681713  0.684028   \n",
       "6    0.019153  0.021764  0.024086  ...  0.795995  0.798897  0.803540   \n",
       "61   0.028149  0.030470  0.035694  ...  0.839234  0.857516  0.871735   \n",
       "100  0.012442  0.014178  0.016204  ...  0.748264  0.751447  0.755787   \n",
       "0    0.019733  0.023506  0.027858  ...  0.799187  0.803250  0.806152   \n",
       "\n",
       "          244       245       246       247       248       249       250  \n",
       "62   0.737558  0.740451  0.743345  0.746238  0.748553  0.760706  0.763600  \n",
       "20        NaN       NaN       NaN       NaN       NaN       NaN       NaN  \n",
       "40   0.687500  0.690104  0.693576  0.699653  0.703993  0.705729  0.709780  \n",
       "6    0.808183  0.809634  0.811956  0.814568  0.817179  0.820371  0.823273  \n",
       "61   0.873476  0.886825  0.889437  0.905978  0.908880  0.913523  0.917876  \n",
       "100  0.760706  0.765046  0.768519  0.771123  0.773438  0.777199  0.780382  \n",
       "0    0.807893  0.809344  0.811956  0.814568  0.816599  0.819501  0.820952  \n",
       "\n",
       "[7 rows x 252 columns]"
      ]
     },
     "execution_count": 7,
     "metadata": {},
     "output_type": "execute_result"
    }
   ],
   "source": [
    "beatsDf1.sample(7)"
   ]
  },
  {
   "cell_type": "code",
   "execution_count": 8,
   "metadata": {},
   "outputs": [
    {
     "name": "stdout",
     "output_type": "stream",
     "text": [
      "<class 'pandas.core.frame.DataFrame'>\n",
      "RangeIndex: 116 entries, 0 to 115\n",
      "Columns: 252 entries, FileName to 250\n",
      "dtypes: float64(250), object(2)\n",
      "memory usage: 228.5+ KB\n"
     ]
    }
   ],
   "source": [
    "beatsDf1.info()"
   ]
  },
  {
   "cell_type": "markdown",
   "metadata": {},
   "source": [
    "#### Cleanup 2:\n",
    "Drop rows with NaNs. These are really short clips and probably will not contain sufficient data for analysis. There is no meaningful way to fill in missing values."
   ]
  },
  {
   "cell_type": "code",
   "execution_count": 9,
   "metadata": {},
   "outputs": [],
   "source": [
    "beatsDf = beatsDf1.dropna()"
   ]
  },
  {
   "cell_type": "code",
   "execution_count": 10,
   "metadata": {},
   "outputs": [
    {
     "name": "stdout",
     "output_type": "stream",
     "text": [
      "<class 'pandas.core.frame.DataFrame'>\n",
      "Index: 101 entries, 0 to 115\n",
      "Columns: 252 entries, FileName to 250\n",
      "dtypes: float64(250), object(2)\n",
      "memory usage: 199.6+ KB\n"
     ]
    }
   ],
   "source": [
    "beatsDf.info()"
   ]
  },
  {
   "cell_type": "code",
   "execution_count": 11,
   "metadata": {},
   "outputs": [
    {
     "data": {
      "text/html": [
       "<div>\n",
       "<style scoped>\n",
       "    .dataframe tbody tr th:only-of-type {\n",
       "        vertical-align: middle;\n",
       "    }\n",
       "\n",
       "    .dataframe tbody tr th {\n",
       "        vertical-align: top;\n",
       "    }\n",
       "\n",
       "    .dataframe thead th {\n",
       "        text-align: right;\n",
       "    }\n",
       "</style>\n",
       "<table border=\"1\" class=\"dataframe\">\n",
       "  <thead>\n",
       "    <tr style=\"text-align: right;\">\n",
       "      <th></th>\n",
       "      <th>FileName</th>\n",
       "      <th>Beat</th>\n",
       "      <th>1</th>\n",
       "      <th>2</th>\n",
       "      <th>3</th>\n",
       "      <th>4</th>\n",
       "      <th>5</th>\n",
       "      <th>6</th>\n",
       "      <th>7</th>\n",
       "      <th>8</th>\n",
       "      <th>...</th>\n",
       "      <th>241</th>\n",
       "      <th>242</th>\n",
       "      <th>243</th>\n",
       "      <th>244</th>\n",
       "      <th>245</th>\n",
       "      <th>246</th>\n",
       "      <th>247</th>\n",
       "      <th>248</th>\n",
       "      <th>249</th>\n",
       "      <th>250</th>\n",
       "    </tr>\n",
       "  </thead>\n",
       "  <tbody>\n",
       "    <tr>\n",
       "      <th>108</th>\n",
       "      <td>KhandaChapu110</td>\n",
       "      <td>K</td>\n",
       "      <td>0.003480</td>\n",
       "      <td>0.007251</td>\n",
       "      <td>0.011311</td>\n",
       "      <td>0.015371</td>\n",
       "      <td>0.018852</td>\n",
       "      <td>0.021172</td>\n",
       "      <td>0.023492</td>\n",
       "      <td>0.026972</td>\n",
       "      <td>...</td>\n",
       "      <td>0.802494</td>\n",
       "      <td>0.806555</td>\n",
       "      <td>0.810035</td>\n",
       "      <td>0.814095</td>\n",
       "      <td>0.815835</td>\n",
       "      <td>0.818155</td>\n",
       "      <td>0.821636</td>\n",
       "      <td>0.825406</td>\n",
       "      <td>0.828596</td>\n",
       "      <td>0.833237</td>\n",
       "    </tr>\n",
       "    <tr>\n",
       "      <th>115</th>\n",
       "      <td>MisraChapu105</td>\n",
       "      <td>M</td>\n",
       "      <td>0.000579</td>\n",
       "      <td>0.004053</td>\n",
       "      <td>0.008686</td>\n",
       "      <td>0.012160</td>\n",
       "      <td>0.015055</td>\n",
       "      <td>0.019977</td>\n",
       "      <td>0.024320</td>\n",
       "      <td>0.026346</td>\n",
       "      <td>...</td>\n",
       "      <td>0.900405</td>\n",
       "      <td>0.903590</td>\n",
       "      <td>0.906196</td>\n",
       "      <td>0.909959</td>\n",
       "      <td>0.912565</td>\n",
       "      <td>0.914592</td>\n",
       "      <td>0.916329</td>\n",
       "      <td>0.919803</td>\n",
       "      <td>0.924146</td>\n",
       "      <td>0.926752</td>\n",
       "    </tr>\n",
       "    <tr>\n",
       "      <th>14</th>\n",
       "      <td>Aadi-1014</td>\n",
       "      <td>A</td>\n",
       "      <td>0.003482</td>\n",
       "      <td>0.006094</td>\n",
       "      <td>0.008416</td>\n",
       "      <td>0.011898</td>\n",
       "      <td>0.014219</td>\n",
       "      <td>0.017121</td>\n",
       "      <td>0.020023</td>\n",
       "      <td>0.022345</td>\n",
       "      <td>...</td>\n",
       "      <td>0.739988</td>\n",
       "      <td>0.748404</td>\n",
       "      <td>0.751886</td>\n",
       "      <td>0.754208</td>\n",
       "      <td>0.757110</td>\n",
       "      <td>0.760012</td>\n",
       "      <td>0.762914</td>\n",
       "      <td>0.765815</td>\n",
       "      <td>0.768137</td>\n",
       "      <td>0.770749</td>\n",
       "    </tr>\n",
       "    <tr>\n",
       "      <th>47</th>\n",
       "      <td>MisraChapu-1013</td>\n",
       "      <td>M</td>\n",
       "      <td>0.009059</td>\n",
       "      <td>0.016949</td>\n",
       "      <td>0.023670</td>\n",
       "      <td>0.031268</td>\n",
       "      <td>0.038574</td>\n",
       "      <td>0.045880</td>\n",
       "      <td>0.049971</td>\n",
       "      <td>0.053185</td>\n",
       "      <td>...</td>\n",
       "      <td>0.789889</td>\n",
       "      <td>0.793103</td>\n",
       "      <td>0.797779</td>\n",
       "      <td>0.800994</td>\n",
       "      <td>0.802747</td>\n",
       "      <td>0.805961</td>\n",
       "      <td>0.808884</td>\n",
       "      <td>0.812098</td>\n",
       "      <td>0.814144</td>\n",
       "      <td>0.815605</td>\n",
       "    </tr>\n",
       "    <tr>\n",
       "      <th>31</th>\n",
       "      <td>Aadi-1031</td>\n",
       "      <td>A</td>\n",
       "      <td>0.001448</td>\n",
       "      <td>0.004922</td>\n",
       "      <td>0.007817</td>\n",
       "      <td>0.009844</td>\n",
       "      <td>0.014186</td>\n",
       "      <td>0.016213</td>\n",
       "      <td>0.019687</td>\n",
       "      <td>0.023162</td>\n",
       "      <td>...</td>\n",
       "      <td>0.713665</td>\n",
       "      <td>0.717140</td>\n",
       "      <td>0.720614</td>\n",
       "      <td>0.722930</td>\n",
       "      <td>0.725246</td>\n",
       "      <td>0.727562</td>\n",
       "      <td>0.732195</td>\n",
       "      <td>0.734511</td>\n",
       "      <td>0.736827</td>\n",
       "      <td>0.740591</td>\n",
       "    </tr>\n",
       "  </tbody>\n",
       "</table>\n",
       "<p>5 rows × 252 columns</p>\n",
       "</div>"
      ],
      "text/plain": [
       "            FileName Beat         1         2         3         4         5  \\\n",
       "108   KhandaChapu110    K  0.003480  0.007251  0.011311  0.015371  0.018852   \n",
       "115    MisraChapu105    M  0.000579  0.004053  0.008686  0.012160  0.015055   \n",
       "14         Aadi-1014    A  0.003482  0.006094  0.008416  0.011898  0.014219   \n",
       "47   MisraChapu-1013    M  0.009059  0.016949  0.023670  0.031268  0.038574   \n",
       "31         Aadi-1031    A  0.001448  0.004922  0.007817  0.009844  0.014186   \n",
       "\n",
       "            6         7         8  ...       241       242       243  \\\n",
       "108  0.021172  0.023492  0.026972  ...  0.802494  0.806555  0.810035   \n",
       "115  0.019977  0.024320  0.026346  ...  0.900405  0.903590  0.906196   \n",
       "14   0.017121  0.020023  0.022345  ...  0.739988  0.748404  0.751886   \n",
       "47   0.045880  0.049971  0.053185  ...  0.789889  0.793103  0.797779   \n",
       "31   0.016213  0.019687  0.023162  ...  0.713665  0.717140  0.720614   \n",
       "\n",
       "          244       245       246       247       248       249       250  \n",
       "108  0.814095  0.815835  0.818155  0.821636  0.825406  0.828596  0.833237  \n",
       "115  0.909959  0.912565  0.914592  0.916329  0.919803  0.924146  0.926752  \n",
       "14   0.754208  0.757110  0.760012  0.762914  0.765815  0.768137  0.770749  \n",
       "47   0.800994  0.802747  0.805961  0.808884  0.812098  0.814144  0.815605  \n",
       "31   0.722930  0.725246  0.727562  0.732195  0.734511  0.736827  0.740591  \n",
       "\n",
       "[5 rows x 252 columns]"
      ]
     },
     "execution_count": 11,
     "metadata": {},
     "output_type": "execute_result"
    }
   ],
   "source": [
    "beatsDf.sample(5)"
   ]
  },
  {
   "cell_type": "code",
   "execution_count": 12,
   "metadata": {},
   "outputs": [],
   "source": [
    "# Drop the \"FileName\" column\n",
    "beatsDf = beatsDf.drop(\"FileName\", axis = 1)"
   ]
  },
  {
   "cell_type": "code",
   "execution_count": 13,
   "metadata": {},
   "outputs": [
    {
     "data": {
      "text/plain": [
       "Beat\n",
       "A    36\n",
       "M    34\n",
       "K    31\n",
       "Name: count, dtype: int64"
      ]
     },
     "execution_count": 13,
     "metadata": {},
     "output_type": "execute_result"
    }
   ],
   "source": [
    "beatsDf.value_counts('Beat')"
   ]
  },
  {
   "cell_type": "code",
   "execution_count": 14,
   "metadata": {},
   "outputs": [],
   "source": [
    "# For the current state of the data, we have only one 'K' beat. \n",
    "#Drop it so that we have a 2-fold (binary) classification situation.\n",
    "#beatsDf = beatsDf.drop(beatsDf[beatsDf.Beat == 'K'].index)"
   ]
  },
  {
   "cell_type": "code",
   "execution_count": 15,
   "metadata": {
    "scrolled": true
   },
   "outputs": [],
   "source": [
    "#beatsDf.value_counts('Beat')"
   ]
  },
  {
   "cell_type": "markdown",
   "metadata": {},
   "source": [
    "### Split data into training and test sets"
   ]
  },
  {
   "cell_type": "code",
   "execution_count": 16,
   "metadata": {},
   "outputs": [],
   "source": [
    "# Data: indepndent and dependent variables\n",
    "X = beatsDf.drop(['Beat'], axis = 1)\n",
    "\n",
    "# target\n",
    "labelEnc = LabelEncoder()\n",
    "y = labelEnc.fit_transform(beatsDf['Beat'])"
   ]
  },
  {
   "cell_type": "code",
   "execution_count": 17,
   "metadata": {},
   "outputs": [],
   "source": [
    "# Preprocessing pipeline for numerical features: StandardScaler\n",
    "numeric_feats = []\n",
    "for nn in range(1, 251):\n",
    "    numeric_feats.append(str(nn))    "
   ]
  },
  {
   "cell_type": "code",
   "execution_count": 18,
   "metadata": {},
   "outputs": [],
   "source": [
    "preprocPipe = ColumnTransformer(\n",
    "    transformers=[\n",
    "        ('numeric', StandardScaler(), numeric_feats)\n",
    "    ])"
   ]
  },
  {
   "cell_type": "code",
   "execution_count": 19,
   "metadata": {},
   "outputs": [],
   "source": [
    "rand_state = 44\n",
    "# Data, split into train and test\n",
    "X_train, X_test, y_train, y_test = train_test_split(X, y, test_size = 0.25, random_state = rand_state)"
   ]
  },
  {
   "cell_type": "markdown",
   "metadata": {},
   "source": [
    "#### KNN grid search for the n_neighbors hyperparameter"
   ]
  },
  {
   "cell_type": "code",
   "execution_count": 20,
   "metadata": {
    "scrolled": false
   },
   "outputs": [
    {
     "name": "stdout",
     "output_type": "stream",
     "text": [
      "Optimal num neighbors = 6, score =0.5384615384615384\n"
     ]
    }
   ],
   "source": [
    "test_score_knn = {}\n",
    "n_neighbors = np.arange(2, 51, 1)\n",
    "for neighbor in n_neighbors:\n",
    "\n",
    "    knn = KNeighborsClassifier(n_neighbors=neighbor)\n",
    "    pipe = make_pipeline(preprocPipe, knn)\n",
    "    pipe.fit(X_train, y_train)\n",
    "\n",
    " \n",
    "    y_pred_knn = pipe.predict(X_test)\n",
    "    score = accuracy_score(y_test, y_pred_knn)\n",
    "    \n",
    "    test_score_knn[neighbor] = score\n",
    "\n",
    "best_nbrs_knn = max(test_score_knn, key = test_score_knn.get)\n",
    "print('Optimal num neighbors = ' + str(best_nbrs_knn) + ', score =' + str(test_score_knn[best_nbrs_knn])) "
   ]
  },
  {
   "cell_type": "markdown",
   "metadata": {},
   "source": [
    "### Building a model for each classifier"
   ]
  },
  {
   "cell_type": "code",
   "execution_count": 21,
   "metadata": {},
   "outputs": [],
   "source": [
    "# Model pipelines\n",
    "logRegPipe = make_pipeline(preprocPipe, LogisticRegression(max_iter=10000, random_state = rand_state))\n",
    "decTreePipe = make_pipeline(preprocPipe, DecisionTreeClassifier(random_state = rand_state))\n",
    "knnPipe = make_pipeline(preprocPipe, KNeighborsClassifier(n_neighbors = best_nbrs_knn))\n",
    "svmPipe = make_pipeline(preprocPipe, SVC(random_state = rand_state))\n",
    "logRegCVPipe = make_pipeline(preprocPipe, LogisticRegressionCV(cv=5, random_state = rand_state, max_iter=10000))\n",
    "\n",
    "pipelines = [logRegPipe, decTreePipe, knnPipe, svmPipe, logRegCVPipe]"
   ]
  },
  {
   "cell_type": "markdown",
   "metadata": {},
   "source": [
    "### Model evaluation"
   ]
  },
  {
   "cell_type": "code",
   "execution_count": 22,
   "metadata": {
    "scrolled": false
   },
   "outputs": [],
   "source": [
    "# Evaluating the models\n",
    "model_performance = []\n",
    "\n",
    "for pipe in pipelines:\n",
    "        #Start a timer\n",
    "        start_time = time.time()\n",
    "        \n",
    "        # fit the data\n",
    "        pipe.fit(X_train, y_train)\n",
    "        \n",
    "        #End the timer, get elapsed time\n",
    "        end_time = time.time()\n",
    "        fit_time = end_time - start_time\n",
    "\n",
    "        # Make a prediction, measure the accuracy\n",
    "        y_pred = pipe.predict(X_test)\n",
    "        score = accuracy_score(y_test, y_pred)\n",
    "        \n",
    "        modelName = type(pipe._final_estimator).__name__\n",
    "\n",
    "        model_performance.append({\n",
    "            'Model': modelName,\n",
    "            'Score': score,\n",
    "            'Time': fit_time\n",
    "            })\n",
    "        "
   ]
  },
  {
   "cell_type": "code",
   "execution_count": 23,
   "metadata": {},
   "outputs": [],
   "source": [
    "\n",
    "# Dataframe out of the results\n",
    "performDf = pd.DataFrame(model_performance)"
   ]
  },
  {
   "cell_type": "code",
   "execution_count": 24,
   "metadata": {},
   "outputs": [
    {
     "data": {
      "text/html": [
       "<div>\n",
       "<style scoped>\n",
       "    .dataframe tbody tr th:only-of-type {\n",
       "        vertical-align: middle;\n",
       "    }\n",
       "\n",
       "    .dataframe tbody tr th {\n",
       "        vertical-align: top;\n",
       "    }\n",
       "\n",
       "    .dataframe thead th {\n",
       "        text-align: right;\n",
       "    }\n",
       "</style>\n",
       "<table border=\"1\" class=\"dataframe\">\n",
       "  <thead>\n",
       "    <tr style=\"text-align: right;\">\n",
       "      <th></th>\n",
       "      <th>Model</th>\n",
       "      <th>Score</th>\n",
       "      <th>Time</th>\n",
       "    </tr>\n",
       "  </thead>\n",
       "  <tbody>\n",
       "    <tr>\n",
       "      <th>0</th>\n",
       "      <td>LogisticRegression</td>\n",
       "      <td>0.500000</td>\n",
       "      <td>0.476009</td>\n",
       "    </tr>\n",
       "    <tr>\n",
       "      <th>1</th>\n",
       "      <td>DecisionTreeClassifier</td>\n",
       "      <td>0.461538</td>\n",
       "      <td>0.034906</td>\n",
       "    </tr>\n",
       "    <tr>\n",
       "      <th>2</th>\n",
       "      <td>KNeighborsClassifier</td>\n",
       "      <td>0.538462</td>\n",
       "      <td>0.010969</td>\n",
       "    </tr>\n",
       "    <tr>\n",
       "      <th>3</th>\n",
       "      <td>SVC</td>\n",
       "      <td>0.384615</td>\n",
       "      <td>0.010970</td>\n",
       "    </tr>\n",
       "    <tr>\n",
       "      <th>4</th>\n",
       "      <td>LogisticRegressionCV</td>\n",
       "      <td>0.346154</td>\n",
       "      <td>2.319973</td>\n",
       "    </tr>\n",
       "  </tbody>\n",
       "</table>\n",
       "</div>"
      ],
      "text/plain": [
       "                    Model     Score      Time\n",
       "0      LogisticRegression  0.500000  0.476009\n",
       "1  DecisionTreeClassifier  0.461538  0.034906\n",
       "2    KNeighborsClassifier  0.538462  0.010969\n",
       "3                     SVC  0.384615  0.010970\n",
       "4    LogisticRegressionCV  0.346154  2.319973"
      ]
     },
     "execution_count": 24,
     "metadata": {},
     "output_type": "execute_result"
    }
   ],
   "source": [
    "performDf"
   ]
  },
  {
   "cell_type": "markdown",
   "metadata": {},
   "source": [
    "### Ensemble classifiers"
   ]
  },
  {
   "cell_type": "markdown",
   "metadata": {},
   "source": [
    "#### BaggingClassifier with n_estimators hyperparameter tuning"
   ]
  },
  {
   "cell_type": "code",
   "execution_count": 25,
   "metadata": {},
   "outputs": [],
   "source": [
    "test_score_bg = {}\n",
    "fit_time_bg = {}\n",
    "n_estimators = np.arange(500, 5001, 500)\n",
    "for estimator in n_estimators:\n",
    "\n",
    "    bgClassifier = BaggingClassifier(DecisionTreeClassifier(random_state = rand_state), n_estimators = estimator, oob_score = True)\n",
    "    bgClassifierPipe = make_pipeline(preprocPipe, bgClassifier)\n",
    "\n",
    "    #Start a timer\n",
    "    start_time = time.time()\n",
    "            \n",
    "    bgClassifierPipe.fit(X_train, y_train)\n",
    "    \n",
    "    #End the timer, get elapsed time\n",
    "    end_time = time.time()\n",
    "    fit_time = end_time - start_time\n",
    "    \n",
    "    y_pred_bg = bgClassifierPipe.predict(X_test)\n",
    "    score_bg = accuracy_score(y_test, y_pred_bg)\n",
    "    \n",
    "    test_score_bg[estimator] = score_bg\n",
    "    fit_time_bg[estimator] = fit_time\n"
   ]
  },
  {
   "cell_type": "code",
   "execution_count": 26,
   "metadata": {
    "scrolled": true
   },
   "outputs": [
    {
     "name": "stdout",
     "output_type": "stream",
     "text": [
      "Optimal num estimators = 2500, score =0.5, time =59.32533669471741\n"
     ]
    }
   ],
   "source": [
    "best_nEstimators_bg = max(test_score_bg, key = test_score_bg.get)\n",
    "print('Optimal num estimators = ' + str(best_nEstimators_bg) + ', score =' + str(test_score_bg[best_nEstimators_bg]) + \n",
    "      ', time =' + str(fit_time_bg[best_nEstimators_bg]))\n",
    "\n",
    "# Append to performDf\n",
    "performDf.loc[len(performDf.index)] = ['Bagging', test_score_bg[best_nEstimators_bg], \n",
    "                                       fit_time_bg[best_nEstimators_bg]] "
   ]
  },
  {
   "cell_type": "markdown",
   "metadata": {},
   "source": [
    "#### RandomForest with n_estimators (trees) hyperparameter tuning"
   ]
  },
  {
   "cell_type": "code",
   "execution_count": 27,
   "metadata": {},
   "outputs": [],
   "source": [
    "n_trees = [2, 4, 8, 16, 32, 64]\n",
    "test_score_rf = {}\n",
    "fit_time_rf = {}\n",
    "for tr in n_trees:\n",
    "    rforest = RandomForestClassifier(random_state=rand_state, max_depth = 50, n_estimators = tr)\n",
    "    rfPipe = make_pipeline(preprocPipe, rforest)\n",
    "    \n",
    "    #Start a timer\n",
    "    start_time = time.time()\n",
    "    \n",
    "    rfPipe.fit(X_train, y_train)\n",
    "    \n",
    "    #End the timer, get elapsed time\n",
    "    end_time = time.time()\n",
    "    fit_time = end_time - start_time\n",
    "        \n",
    "    y_pred_rf = rfPipe.predict(X_test)\n",
    "    score_rf = accuracy_score(y_test, y_pred_rf)\n",
    "    \n",
    "    test_score_rf[tr] = score_rf\n",
    "    fit_time_rf[tr] = fit_time\n"
   ]
  },
  {
   "cell_type": "code",
   "execution_count": 28,
   "metadata": {},
   "outputs": [
    {
     "name": "stdout",
     "output_type": "stream",
     "text": [
      "Optimal num trees = 4, score =0.5384615384615384, time =0.016988515853881836\n"
     ]
    }
   ],
   "source": [
    "best_nTrees_rf = max(test_score_rf, key = test_score_rf.get)\n",
    "print('Optimal num trees = ' + str(best_nTrees_rf) + ', score =' + str(test_score_rf[best_nTrees_rf]) +\n",
    "     ', time =' + str(fit_time_rf[best_nTrees_rf])) \n",
    "\n",
    "# Append to performDf\n",
    "performDf.loc[len(performDf.index)] = ['RandomForest', test_score_rf[best_nTrees_rf], \n",
    "                                       fit_time_rf[best_nTrees_rf]] "
   ]
  },
  {
   "cell_type": "markdown",
   "metadata": {},
   "source": [
    "#### AdaBoost with n_estimators and depth hyperparameter tuning"
   ]
  },
  {
   "cell_type": "code",
   "execution_count": 31,
   "metadata": {
    "scrolled": true
   },
   "outputs": [],
   "source": [
    "# Run a GridSearchCV to get the optimal ada classifier\n",
    "import warnings\n",
    "warnings.filterwarnings('ignore')\n",
    "\n",
    "ada_params = {'n_estimators': [100, 150, 200, 250, 300],\n",
    "              'base_estimator__max_depth': [3, 4, 5, 6, 7]}\n",
    "ada_tree_grid = GridSearchCV(AdaBoostClassifier(base_estimator = DecisionTreeClassifier(), random_state = rand_state), \n",
    "                             param_grid = ada_params)\n",
    "ada_tree_grid.fit(X_train, y_train)\n",
    "ada_acc = ada_tree_grid.score(X_test, y_test)"
   ]
  },
  {
   "cell_type": "code",
   "execution_count": 32,
   "metadata": {},
   "outputs": [
    {
     "name": "stdout",
     "output_type": "stream",
     "text": [
      "ada_acc =0.5384615384615384\n",
      "{'base_estimator__max_depth': 5, 'n_estimators': 200}\n"
     ]
    }
   ],
   "source": [
    "print('ada_acc =' + str(ada_acc))\n",
    "ada_best_params = ada_tree_grid.best_params_\n",
    "print(ada_best_params)"
   ]
  },
  {
   "cell_type": "code",
   "execution_count": 33,
   "metadata": {},
   "outputs": [],
   "source": [
    "# Run the optimal classifier and get performance metrics\n",
    "ada = AdaBoostClassifier(base_estimator = DecisionTreeClassifier(max_depth = ada_best_params['base_estimator__max_depth']), \n",
    "                         random_state = rand_state, \n",
    "                         n_estimators = ada_best_params['n_estimators'])\n",
    "adaPipe = make_pipeline(preprocPipe, ada)\n",
    "\n",
    "#Start a timer\n",
    "start_time_ada = time.time()\n",
    "adaPipe.fit(X_train, y_train)\n",
    "    \n",
    "#End the timer, get elapsed time\n",
    "fit_time_ada = time.time() - start_time_ada\n",
    "\n",
    "y_pred_ada = adaPipe.predict(X_test)\n",
    "score_ada = accuracy_score(y_test, y_pred_ada)\n",
    "\n",
    "# Append to performDf\n",
    "performDf.loc[len(performDf.index)] = ['AdaBoost', score_ada, fit_time_ada]\n"
   ]
  },
  {
   "cell_type": "code",
   "execution_count": 34,
   "metadata": {
    "scrolled": true
   },
   "outputs": [
    {
     "data": {
      "text/html": [
       "<div>\n",
       "<style scoped>\n",
       "    .dataframe tbody tr th:only-of-type {\n",
       "        vertical-align: middle;\n",
       "    }\n",
       "\n",
       "    .dataframe tbody tr th {\n",
       "        vertical-align: top;\n",
       "    }\n",
       "\n",
       "    .dataframe thead th {\n",
       "        text-align: right;\n",
       "    }\n",
       "</style>\n",
       "<table border=\"1\" class=\"dataframe\">\n",
       "  <thead>\n",
       "    <tr style=\"text-align: right;\">\n",
       "      <th></th>\n",
       "      <th>Model</th>\n",
       "      <th>Score</th>\n",
       "      <th>Time</th>\n",
       "    </tr>\n",
       "  </thead>\n",
       "  <tbody>\n",
       "    <tr>\n",
       "      <th>0</th>\n",
       "      <td>LogisticRegression</td>\n",
       "      <td>0.500000</td>\n",
       "      <td>0.476009</td>\n",
       "    </tr>\n",
       "    <tr>\n",
       "      <th>1</th>\n",
       "      <td>DecisionTreeClassifier</td>\n",
       "      <td>0.461538</td>\n",
       "      <td>0.034906</td>\n",
       "    </tr>\n",
       "    <tr>\n",
       "      <th>2</th>\n",
       "      <td>KNeighborsClassifier</td>\n",
       "      <td>0.538462</td>\n",
       "      <td>0.010969</td>\n",
       "    </tr>\n",
       "    <tr>\n",
       "      <th>3</th>\n",
       "      <td>SVC</td>\n",
       "      <td>0.384615</td>\n",
       "      <td>0.010970</td>\n",
       "    </tr>\n",
       "    <tr>\n",
       "      <th>4</th>\n",
       "      <td>LogisticRegressionCV</td>\n",
       "      <td>0.346154</td>\n",
       "      <td>2.319973</td>\n",
       "    </tr>\n",
       "    <tr>\n",
       "      <th>5</th>\n",
       "      <td>Bagging</td>\n",
       "      <td>0.500000</td>\n",
       "      <td>59.325337</td>\n",
       "    </tr>\n",
       "    <tr>\n",
       "      <th>6</th>\n",
       "      <td>RandomForest</td>\n",
       "      <td>0.538462</td>\n",
       "      <td>0.016989</td>\n",
       "    </tr>\n",
       "    <tr>\n",
       "      <th>7</th>\n",
       "      <td>AdaBoost</td>\n",
       "      <td>0.538462</td>\n",
       "      <td>6.621587</td>\n",
       "    </tr>\n",
       "  </tbody>\n",
       "</table>\n",
       "</div>"
      ],
      "text/plain": [
       "                    Model     Score       Time\n",
       "0      LogisticRegression  0.500000   0.476009\n",
       "1  DecisionTreeClassifier  0.461538   0.034906\n",
       "2    KNeighborsClassifier  0.538462   0.010969\n",
       "3                     SVC  0.384615   0.010970\n",
       "4    LogisticRegressionCV  0.346154   2.319973\n",
       "5                 Bagging  0.500000  59.325337\n",
       "6            RandomForest  0.538462   0.016989\n",
       "7                AdaBoost  0.538462   6.621587"
      ]
     },
     "execution_count": 34,
     "metadata": {},
     "output_type": "execute_result"
    }
   ],
   "source": [
    "performDf"
   ]
  },
  {
   "cell_type": "code",
   "execution_count": 35,
   "metadata": {},
   "outputs": [],
   "source": [
    "# Plot model vs accuracy\n",
    "#pFig1 = px.bar(performDf, x = 'Model', y = 'Score', color = 'Model')\n",
    "#pFig1.update_layout(\n",
    "#            title={\n",
    "#            'text' : 'Model Accuracy',\n",
    "#            'x':0.4,\n",
    "#            'xanchor': 'center'\n",
    "#        })\n",
    "#pFig1.show()\n",
    "# Note: We suppress the plotly graph and use sns below for the saved notebook\n",
    "#       so that when opened without execution the plot is visible"
   ]
  },
  {
   "cell_type": "code",
   "execution_count": 39,
   "metadata": {},
   "outputs": [
    {
     "data": {
      "image/png": "[encoded data removed]",
      "text/plain": [
       "<Figure size 1200x600 with 1 Axes>"
      ]
     },
     "metadata": {},
     "output_type": "display_data"
    }
   ],
   "source": [
    "# Plot model vs accuracy\n",
    "figg, axx = plt.subplots(figsize=(12, 6))\n",
    "# Plot model vs accuracy\n",
    "snsF1 = sns.barplot(performDf, x = 'Model', y = 'Score', hue = 'Model')\n",
    "snsF1.set_title('Model Accuracy')\n",
    "snsF1.tick_params(axis='x', rotation = -90)\n",
    "sns.move_legend(snsF1, \"center right\")\n",
    "#snsF1.get_figure().savefig('./images/Model_vs_accuracy_sns.png')"
   ]
  },
  {
   "cell_type": "code",
   "execution_count": 37,
   "metadata": {},
   "outputs": [],
   "source": [
    "# Plot model vs time\n",
    "#pFig2 = px.bar(performDf, x = 'Model', y = 'Time', color = 'Model',\n",
    "#                labels = {\n",
    "#                     \"Model\": \"Model\",\n",
    "#                     \"Time\": \"Time (seconds)\",\n",
    "#                 })\n",
    "\n",
    "#pFig2.update_layout(\n",
    "#            title={\n",
    "#            'text' : 'Model Computation Time',\n",
    "#            'x':0.4,\n",
    "#            'xanchor': 'center'\n",
    "#        })\n",
    "#pFig2.show()\n",
    "# Note: We suppress the plotly graph and use sns below for the saved notebook\n",
    "#       so that when opened without execution the plot is visible"
   ]
  },
  {
   "cell_type": "code",
   "execution_count": 40,
   "metadata": {},
   "outputs": [
    {
     "data": {
      "image/png": "[encoded data removed]",
      "text/plain": [
       "<Figure size 640x480 with 1 Axes>"
      ]
     },
     "metadata": {},
     "output_type": "display_data"
    }
   ],
   "source": [
    "# Plot model vs time\n",
    "snsF2 = sns.barplot(performDf, x = 'Model', y = 'Time', hue = 'Model')\n",
    "snsF2.set_title('Model Computation Time')\n",
    "snsF2.tick_params(axis='x', rotation = -90)\n",
    "sns.move_legend(snsF2, \"center left\")\n",
    "#snsF1.get_figure().savefig('./images/Model_vs_time_sns.png')"
   ]
  },
  {
   "cell_type": "markdown",
   "metadata": {},
   "source": [
    "### Evaluation\n",
    "\n",
    "#### Model Accuracy\n",
    "Some models fared better than random chance (0.33) but none were very impressive. The best scores were from ensemble classifiers, close to 0.6 (almost twice as good as random chance). KNN also had a similar accuracy. More data is needed to make definitive conclusions about model accuracy.\n",
    "\n",
    "#### Computation time\n",
    "\n",
    "KNearestNeighbors was the speediest, and was also among the top performers accuracy-wise.\n",
    "\n",
    "#### Caveat\n",
    "The above analysis was done with a very small dataset! The results might change as more data is generated and brought into the analysis."
   ]
  },
  {
   "cell_type": "code",
   "execution_count": null,
   "metadata": {},
   "outputs": [],
   "source": []
  }
 ],
 "metadata": {
  "kernelspec": {
   "display_name": "Python 3 (ipykernel)",
   "language": "python",
   "name": "python3"
  },
  "language_info": {
   "codemirror_mode": {
    "name": "ipython",
    "version": 3
   },
   "file_extension": ".py",
   "mimetype": "text/x-python",
   "name": "python",
   "nbconvert_exporter": "python",
   "pygments_lexer": "ipython3",
   "version": "3.11.5"
  },
  "widgets": {
   "application/vnd.jupyter.widget-state+json": {
    "state": {},
    "version_major": 2,
    "version_minor": 0
   }
  }
 },
 "nbformat": 4,
 "nbformat_minor": 4
}
