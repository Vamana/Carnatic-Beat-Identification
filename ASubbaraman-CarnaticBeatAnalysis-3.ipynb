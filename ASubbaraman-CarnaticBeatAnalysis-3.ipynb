{
 "cells": [
  {
   "cell_type": "markdown",
   "metadata": {},
   "source": [
    "# Carnatic Beat Detection: what is that beat?\n"
   ]
  },
  {
   "cell_type": "markdown",
   "metadata": {},
   "source": [
    "### Overview\n",
    "\n",
    "This project develops an ML/AI classifier that identifies the Carnatic beat cycle (taalam) of a mridangam solo\n",
    "\n",
    "### Background\n",
    "In the South Indian classical music genre (also called Carnatic music), the concept of rhythm is very well developed and sophisticated. All songs follow a certain beat cycle called taalam. During a concert the percussionist, who typically plays a hand drum called mridangam, is given an opportunity to perform a drum solo, where he/she brings out the intricacies of the taalam of the preceding song. The solo can last from 5 to 10 minutes to as much as 30 to 40 minutes.\n"
   ]
  },
  {
   "cell_type": "markdown",
   "metadata": {},
   "source": [
    "### Goal\n",
    "\n",
    "Given a clip of a drum solo, identify the taalam (beat cycle) in which it is performed.\n",
    "\n",
    "While there are 5 main taalam types that are commonly performed (and in principle thousands of possible taalams), I have restricted the scope of this project to 3 well-known and often-used taalams: aadi talam (8-beat cycle), mishra-chapu talam (7 beat cycle) and khanda-chapu talam (5-beat cycle)."
   ]
  },
  {
   "cell_type": "markdown",
   "metadata": {},
   "source": [
    "### Data"
   ]
  },
  {
   "cell_type": "code",
   "execution_count": 278,
   "metadata": {},
   "outputs": [],
   "source": [
    "import numpy as np\n",
    "import plotly.express as px\n",
    "import matplotlib.pyplot as plt\n",
    "import pandas as pd\n",
    "import warnings\n",
    "import seaborn as sns\n",
    "import os\n",
    "import random\n",
    "import math\n",
    "\n",
    "from sklearn.pipeline import Pipeline, make_pipeline\n",
    "from sklearn.model_selection import GridSearchCV, KFold\n",
    "from sklearn.preprocessing import PolynomialFeatures, StandardScaler, OneHotEncoder, TargetEncoder, LabelEncoder\n",
    "from sklearn.preprocessing import OrdinalEncoder\n",
    "from sklearn.compose import make_column_transformer, TransformedTargetRegressor, ColumnTransformer\n",
    "from sklearn.feature_selection import SequentialFeatureSelector, RFE\n",
    "from sklearn.model_selection import train_test_split\n",
    "from sklearn.datasets import make_regression \n",
    "from sklearn.metrics import mean_squared_error, accuracy_score\n",
    "\n",
    "from sklearn.linear_model import LinearRegression, Ridge, Lasso, LogisticRegression, LogisticRegressionCV\n",
    "from sklearn.tree import DecisionTreeClassifier\n",
    "from sklearn.neighbors import KNeighborsClassifier\n",
    "from sklearn.svm import SVC\n",
    "\n",
    "from sklearn.ensemble import BaggingClassifier, AdaBoostClassifier, RandomForestClassifier\n",
    "\n",
    "import time"
   ]
  },
  {
   "cell_type": "code",
   "execution_count": 279,
   "metadata": {
    "scrolled": true
   },
   "outputs": [
    {
     "data": {
      "text/html": [
       "<div>\n",
       "<style scoped>\n",
       "    .dataframe tbody tr th:only-of-type {\n",
       "        vertical-align: middle;\n",
       "    }\n",
       "\n",
       "    .dataframe tbody tr th {\n",
       "        vertical-align: top;\n",
       "    }\n",
       "\n",
       "    .dataframe thead th {\n",
       "        text-align: right;\n",
       "    }\n",
       "</style>\n",
       "<table border=\"1\" class=\"dataframe\">\n",
       "  <thead>\n",
       "    <tr style=\"text-align: right;\">\n",
       "      <th></th>\n",
       "      <th>FileName</th>\n",
       "      <th>Beat</th>\n",
       "      <th>1</th>\n",
       "      <th>2</th>\n",
       "      <th>3</th>\n",
       "      <th>4</th>\n",
       "      <th>5</th>\n",
       "      <th>6</th>\n",
       "      <th>7</th>\n",
       "      <th>8</th>\n",
       "      <th>...</th>\n",
       "      <th>491</th>\n",
       "      <th>492</th>\n",
       "      <th>493</th>\n",
       "      <th>494</th>\n",
       "      <th>495</th>\n",
       "      <th>496</th>\n",
       "      <th>497</th>\n",
       "      <th>498</th>\n",
       "      <th>499</th>\n",
       "      <th>500</th>\n",
       "    </tr>\n",
       "  </thead>\n",
       "  <tbody>\n",
       "    <tr>\n",
       "      <th>103</th>\n",
       "      <td>KhandaChapu105</td>\n",
       "      <td>K</td>\n",
       "      <td>0.016016</td>\n",
       "      <td>0.018928</td>\n",
       "      <td>0.023005</td>\n",
       "      <td>0.025626</td>\n",
       "      <td>0.028829</td>\n",
       "      <td>0.031741</td>\n",
       "      <td>0.035236</td>\n",
       "      <td>0.037566</td>\n",
       "      <td>...</td>\n",
       "      <td>NaN</td>\n",
       "      <td>NaN</td>\n",
       "      <td>NaN</td>\n",
       "      <td>NaN</td>\n",
       "      <td>NaN</td>\n",
       "      <td>NaN</td>\n",
       "      <td>NaN</td>\n",
       "      <td>NaN</td>\n",
       "      <td>NaN</td>\n",
       "      <td>NaN</td>\n",
       "    </tr>\n",
       "    <tr>\n",
       "      <th>96</th>\n",
       "      <td>KhandaChapu2026</td>\n",
       "      <td>K</td>\n",
       "      <td>0.000579</td>\n",
       "      <td>0.003476</td>\n",
       "      <td>0.011587</td>\n",
       "      <td>0.014774</td>\n",
       "      <td>0.017961</td>\n",
       "      <td>0.021437</td>\n",
       "      <td>0.024913</td>\n",
       "      <td>0.028679</td>\n",
       "      <td>...</td>\n",
       "      <td>NaN</td>\n",
       "      <td>NaN</td>\n",
       "      <td>NaN</td>\n",
       "      <td>NaN</td>\n",
       "      <td>NaN</td>\n",
       "      <td>NaN</td>\n",
       "      <td>NaN</td>\n",
       "      <td>NaN</td>\n",
       "      <td>NaN</td>\n",
       "      <td>NaN</td>\n",
       "    </tr>\n",
       "    <tr>\n",
       "      <th>14</th>\n",
       "      <td>Aadi-1014</td>\n",
       "      <td>A</td>\n",
       "      <td>0.003482</td>\n",
       "      <td>0.006094</td>\n",
       "      <td>0.008416</td>\n",
       "      <td>0.011898</td>\n",
       "      <td>0.014219</td>\n",
       "      <td>0.017121</td>\n",
       "      <td>0.020023</td>\n",
       "      <td>0.022345</td>\n",
       "      <td>...</td>\n",
       "      <td>NaN</td>\n",
       "      <td>NaN</td>\n",
       "      <td>NaN</td>\n",
       "      <td>NaN</td>\n",
       "      <td>NaN</td>\n",
       "      <td>NaN</td>\n",
       "      <td>NaN</td>\n",
       "      <td>NaN</td>\n",
       "      <td>NaN</td>\n",
       "      <td>NaN</td>\n",
       "    </tr>\n",
       "    <tr>\n",
       "      <th>54</th>\n",
       "      <td>Palghat raghu misra chapu - 103</td>\n",
       "      <td>M</td>\n",
       "      <td>0.001448</td>\n",
       "      <td>0.004922</td>\n",
       "      <td>0.011581</td>\n",
       "      <td>0.014765</td>\n",
       "      <td>0.018240</td>\n",
       "      <td>0.025188</td>\n",
       "      <td>0.028662</td>\n",
       "      <td>0.031847</td>\n",
       "      <td>...</td>\n",
       "      <td>NaN</td>\n",
       "      <td>NaN</td>\n",
       "      <td>NaN</td>\n",
       "      <td>NaN</td>\n",
       "      <td>NaN</td>\n",
       "      <td>NaN</td>\n",
       "      <td>NaN</td>\n",
       "      <td>NaN</td>\n",
       "      <td>NaN</td>\n",
       "      <td>NaN</td>\n",
       "    </tr>\n",
       "    <tr>\n",
       "      <th>18</th>\n",
       "      <td>Aadi-1018</td>\n",
       "      <td>A</td>\n",
       "      <td>0.003757</td>\n",
       "      <td>0.006936</td>\n",
       "      <td>0.009827</td>\n",
       "      <td>0.012428</td>\n",
       "      <td>0.015896</td>\n",
       "      <td>0.018208</td>\n",
       "      <td>0.020231</td>\n",
       "      <td>0.024277</td>\n",
       "      <td>...</td>\n",
       "      <td>NaN</td>\n",
       "      <td>NaN</td>\n",
       "      <td>NaN</td>\n",
       "      <td>NaN</td>\n",
       "      <td>NaN</td>\n",
       "      <td>NaN</td>\n",
       "      <td>NaN</td>\n",
       "      <td>NaN</td>\n",
       "      <td>NaN</td>\n",
       "      <td>NaN</td>\n",
       "    </tr>\n",
       "    <tr>\n",
       "      <th>34</th>\n",
       "      <td>MisraChapu-1000</td>\n",
       "      <td>M</td>\n",
       "      <td>0.003764</td>\n",
       "      <td>0.007528</td>\n",
       "      <td>0.011870</td>\n",
       "      <td>0.013607</td>\n",
       "      <td>0.015924</td>\n",
       "      <td>0.019977</td>\n",
       "      <td>0.027504</td>\n",
       "      <td>0.032137</td>\n",
       "      <td>...</td>\n",
       "      <td>NaN</td>\n",
       "      <td>NaN</td>\n",
       "      <td>NaN</td>\n",
       "      <td>NaN</td>\n",
       "      <td>NaN</td>\n",
       "      <td>NaN</td>\n",
       "      <td>NaN</td>\n",
       "      <td>NaN</td>\n",
       "      <td>NaN</td>\n",
       "      <td>NaN</td>\n",
       "    </tr>\n",
       "    <tr>\n",
       "      <th>76</th>\n",
       "      <td>MisraChapu-1024</td>\n",
       "      <td>M</td>\n",
       "      <td>0.018841</td>\n",
       "      <td>0.023188</td>\n",
       "      <td>0.025797</td>\n",
       "      <td>0.028696</td>\n",
       "      <td>0.031594</td>\n",
       "      <td>0.035942</td>\n",
       "      <td>0.037681</td>\n",
       "      <td>0.040580</td>\n",
       "      <td>...</td>\n",
       "      <td>NaN</td>\n",
       "      <td>NaN</td>\n",
       "      <td>NaN</td>\n",
       "      <td>NaN</td>\n",
       "      <td>NaN</td>\n",
       "      <td>NaN</td>\n",
       "      <td>NaN</td>\n",
       "      <td>NaN</td>\n",
       "      <td>NaN</td>\n",
       "      <td>NaN</td>\n",
       "    </tr>\n",
       "  </tbody>\n",
       "</table>\n",
       "<p>7 rows × 502 columns</p>\n",
       "</div>"
      ],
      "text/plain": [
       "                            FileName Beat         1         2         3  \\\n",
       "103                   KhandaChapu105    K  0.016016  0.018928  0.023005   \n",
       "96                   KhandaChapu2026    K  0.000579  0.003476  0.011587   \n",
       "14                         Aadi-1014    A  0.003482  0.006094  0.008416   \n",
       "54   Palghat raghu misra chapu - 103    M  0.001448  0.004922  0.011581   \n",
       "18                         Aadi-1018    A  0.003757  0.006936  0.009827   \n",
       "34                   MisraChapu-1000    M  0.003764  0.007528  0.011870   \n",
       "76                   MisraChapu-1024    M  0.018841  0.023188  0.025797   \n",
       "\n",
       "            4         5         6         7         8  ...  491  492  493  \\\n",
       "103  0.025626  0.028829  0.031741  0.035236  0.037566  ...  NaN  NaN  NaN   \n",
       "96   0.014774  0.017961  0.021437  0.024913  0.028679  ...  NaN  NaN  NaN   \n",
       "14   0.011898  0.014219  0.017121  0.020023  0.022345  ...  NaN  NaN  NaN   \n",
       "54   0.014765  0.018240  0.025188  0.028662  0.031847  ...  NaN  NaN  NaN   \n",
       "18   0.012428  0.015896  0.018208  0.020231  0.024277  ...  NaN  NaN  NaN   \n",
       "34   0.013607  0.015924  0.019977  0.027504  0.032137  ...  NaN  NaN  NaN   \n",
       "76   0.028696  0.031594  0.035942  0.037681  0.040580  ...  NaN  NaN  NaN   \n",
       "\n",
       "     494  495  496  497  498  499  500  \n",
       "103  NaN  NaN  NaN  NaN  NaN  NaN  NaN  \n",
       "96   NaN  NaN  NaN  NaN  NaN  NaN  NaN  \n",
       "14   NaN  NaN  NaN  NaN  NaN  NaN  NaN  \n",
       "54   NaN  NaN  NaN  NaN  NaN  NaN  NaN  \n",
       "18   NaN  NaN  NaN  NaN  NaN  NaN  NaN  \n",
       "34   NaN  NaN  NaN  NaN  NaN  NaN  NaN  \n",
       "76   NaN  NaN  NaN  NaN  NaN  NaN  NaN  \n",
       "\n",
       "[7 rows x 502 columns]"
      ]
     },
     "execution_count": 279,
     "metadata": {},
     "output_type": "execute_result"
    }
   ],
   "source": [
    "# Load the data\n",
    "beatsDf1 = pd.read_csv(\"data/Beats-3Class.csv\")\n",
    "beatsDf1.sample(7)"
   ]
  },
  {
   "cell_type": "code",
   "execution_count": 280,
   "metadata": {
    "scrolled": true
   },
   "outputs": [
    {
     "name": "stdout",
     "output_type": "stream",
     "text": [
      "<class 'pandas.core.frame.DataFrame'>\n",
      "RangeIndex: 116 entries, 0 to 115\n",
      "Columns: 502 entries, FileName to 500\n",
      "dtypes: float64(500), object(2)\n",
      "memory usage: 455.1+ KB\n"
     ]
    }
   ],
   "source": [
    "beatsDf1.info()"
   ]
  },
  {
   "cell_type": "markdown",
   "metadata": {},
   "source": [
    "#### Cleanup 1:\n",
    "We will set the number of numeric (time-lapse) features to be 250. Drop features with names > 250."
   ]
  },
  {
   "cell_type": "code",
   "execution_count": 281,
   "metadata": {},
   "outputs": [],
   "source": [
    "# We will drop features with names 251 -- 500\n",
    "featuresToDrop = []\n",
    "for nn in range(251, 501):\n",
    "    featuresToDrop.append(str(nn))"
   ]
  },
  {
   "cell_type": "code",
   "execution_count": 282,
   "metadata": {},
   "outputs": [],
   "source": [
    "# Drop the columns above\n",
    "beatsDf1 = beatsDf1.drop(featuresToDrop, axis = 1)"
   ]
  },
  {
   "cell_type": "code",
   "execution_count": 283,
   "metadata": {},
   "outputs": [
    {
     "data": {
      "text/html": [
       "<div>\n",
       "<style scoped>\n",
       "    .dataframe tbody tr th:only-of-type {\n",
       "        vertical-align: middle;\n",
       "    }\n",
       "\n",
       "    .dataframe tbody tr th {\n",
       "        vertical-align: top;\n",
       "    }\n",
       "\n",
       "    .dataframe thead th {\n",
       "        text-align: right;\n",
       "    }\n",
       "</style>\n",
       "<table border=\"1\" class=\"dataframe\">\n",
       "  <thead>\n",
       "    <tr style=\"text-align: right;\">\n",
       "      <th></th>\n",
       "      <th>FileName</th>\n",
       "      <th>Beat</th>\n",
       "      <th>1</th>\n",
       "      <th>2</th>\n",
       "      <th>3</th>\n",
       "      <th>4</th>\n",
       "      <th>5</th>\n",
       "      <th>6</th>\n",
       "      <th>7</th>\n",
       "      <th>8</th>\n",
       "      <th>...</th>\n",
       "      <th>241</th>\n",
       "      <th>242</th>\n",
       "      <th>243</th>\n",
       "      <th>244</th>\n",
       "      <th>245</th>\n",
       "      <th>246</th>\n",
       "      <th>247</th>\n",
       "      <th>248</th>\n",
       "      <th>249</th>\n",
       "      <th>250</th>\n",
       "    </tr>\n",
       "  </thead>\n",
       "  <tbody>\n",
       "    <tr>\n",
       "      <th>84</th>\n",
       "      <td>KhandaChapu2014</td>\n",
       "      <td>K</td>\n",
       "      <td>0.000000</td>\n",
       "      <td>0.001158</td>\n",
       "      <td>0.003764</td>\n",
       "      <td>0.006080</td>\n",
       "      <td>0.009554</td>\n",
       "      <td>0.011870</td>\n",
       "      <td>0.015345</td>\n",
       "      <td>0.017082</td>\n",
       "      <td>...</td>\n",
       "      <td>0.736248</td>\n",
       "      <td>0.739143</td>\n",
       "      <td>0.741749</td>\n",
       "      <td>0.745223</td>\n",
       "      <td>0.749855</td>\n",
       "      <td>0.751882</td>\n",
       "      <td>0.755356</td>\n",
       "      <td>0.757672</td>\n",
       "      <td>0.760857</td>\n",
       "      <td>0.764621</td>\n",
       "    </tr>\n",
       "    <tr>\n",
       "      <th>42</th>\n",
       "      <td>MisraChapu-1008</td>\n",
       "      <td>M</td>\n",
       "      <td>0.000000</td>\n",
       "      <td>0.002064</td>\n",
       "      <td>0.009434</td>\n",
       "      <td>0.012677</td>\n",
       "      <td>0.020932</td>\n",
       "      <td>0.023880</td>\n",
       "      <td>0.026828</td>\n",
       "      <td>0.030366</td>\n",
       "      <td>...</td>\n",
       "      <td>0.854658</td>\n",
       "      <td>0.860554</td>\n",
       "      <td>0.863502</td>\n",
       "      <td>0.867630</td>\n",
       "      <td>0.872642</td>\n",
       "      <td>0.875295</td>\n",
       "      <td>0.880012</td>\n",
       "      <td>0.885024</td>\n",
       "      <td>0.887087</td>\n",
       "      <td>0.890920</td>\n",
       "    </tr>\n",
       "    <tr>\n",
       "      <th>28</th>\n",
       "      <td>Aadi-1028</td>\n",
       "      <td>A</td>\n",
       "      <td>0.000290</td>\n",
       "      <td>0.002899</td>\n",
       "      <td>0.005507</td>\n",
       "      <td>0.008696</td>\n",
       "      <td>0.011304</td>\n",
       "      <td>0.013913</td>\n",
       "      <td>0.016522</td>\n",
       "      <td>0.018261</td>\n",
       "      <td>...</td>\n",
       "      <td>0.885507</td>\n",
       "      <td>0.891304</td>\n",
       "      <td>0.898261</td>\n",
       "      <td>0.900290</td>\n",
       "      <td>0.901739</td>\n",
       "      <td>0.906087</td>\n",
       "      <td>0.909275</td>\n",
       "      <td>0.912754</td>\n",
       "      <td>0.914783</td>\n",
       "      <td>0.916232</td>\n",
       "    </tr>\n",
       "    <tr>\n",
       "      <th>72</th>\n",
       "      <td>MisraChapu-1020</td>\n",
       "      <td>M</td>\n",
       "      <td>0.001453</td>\n",
       "      <td>0.005520</td>\n",
       "      <td>0.009587</td>\n",
       "      <td>0.015979</td>\n",
       "      <td>0.019175</td>\n",
       "      <td>0.021499</td>\n",
       "      <td>0.023533</td>\n",
       "      <td>0.025276</td>\n",
       "      <td>...</td>\n",
       "      <td>0.750726</td>\n",
       "      <td>0.753632</td>\n",
       "      <td>0.757408</td>\n",
       "      <td>0.762057</td>\n",
       "      <td>0.764962</td>\n",
       "      <td>0.769030</td>\n",
       "      <td>0.770773</td>\n",
       "      <td>0.773097</td>\n",
       "      <td>0.776293</td>\n",
       "      <td>0.781522</td>\n",
       "    </tr>\n",
       "    <tr>\n",
       "      <th>55</th>\n",
       "      <td>UKS-KhandaChapu-101</td>\n",
       "      <td>K</td>\n",
       "      <td>0.001181</td>\n",
       "      <td>0.004135</td>\n",
       "      <td>0.009746</td>\n",
       "      <td>0.013881</td>\n",
       "      <td>0.018311</td>\n",
       "      <td>0.024808</td>\n",
       "      <td>0.030715</td>\n",
       "      <td>0.056999</td>\n",
       "      <td>...</td>\n",
       "      <td>NaN</td>\n",
       "      <td>NaN</td>\n",
       "      <td>NaN</td>\n",
       "      <td>NaN</td>\n",
       "      <td>NaN</td>\n",
       "      <td>NaN</td>\n",
       "      <td>NaN</td>\n",
       "      <td>NaN</td>\n",
       "      <td>NaN</td>\n",
       "      <td>NaN</td>\n",
       "    </tr>\n",
       "    <tr>\n",
       "      <th>75</th>\n",
       "      <td>MisraChapu-1023</td>\n",
       "      <td>M</td>\n",
       "      <td>0.000000</td>\n",
       "      <td>0.003201</td>\n",
       "      <td>0.010186</td>\n",
       "      <td>0.013097</td>\n",
       "      <td>0.016007</td>\n",
       "      <td>0.019208</td>\n",
       "      <td>0.022410</td>\n",
       "      <td>0.024156</td>\n",
       "      <td>...</td>\n",
       "      <td>0.836729</td>\n",
       "      <td>0.840221</td>\n",
       "      <td>0.848370</td>\n",
       "      <td>0.851863</td>\n",
       "      <td>0.854482</td>\n",
       "      <td>0.862922</td>\n",
       "      <td>0.866997</td>\n",
       "      <td>0.869034</td>\n",
       "      <td>0.875146</td>\n",
       "      <td>0.879802</td>\n",
       "    </tr>\n",
       "    <tr>\n",
       "      <th>101</th>\n",
       "      <td>MishraChapu2001</td>\n",
       "      <td>M</td>\n",
       "      <td>0.000290</td>\n",
       "      <td>0.005217</td>\n",
       "      <td>0.008986</td>\n",
       "      <td>0.011014</td>\n",
       "      <td>0.013043</td>\n",
       "      <td>0.016522</td>\n",
       "      <td>0.018841</td>\n",
       "      <td>0.020580</td>\n",
       "      <td>...</td>\n",
       "      <td>0.753333</td>\n",
       "      <td>0.756522</td>\n",
       "      <td>0.759130</td>\n",
       "      <td>0.762029</td>\n",
       "      <td>0.764928</td>\n",
       "      <td>0.767536</td>\n",
       "      <td>0.770725</td>\n",
       "      <td>0.773623</td>\n",
       "      <td>0.775362</td>\n",
       "      <td>0.777101</td>\n",
       "    </tr>\n",
       "  </tbody>\n",
       "</table>\n",
       "<p>7 rows × 252 columns</p>\n",
       "</div>"
      ],
      "text/plain": [
       "                FileName Beat         1         2         3         4  \\\n",
       "84       KhandaChapu2014    K  0.000000  0.001158  0.003764  0.006080   \n",
       "42       MisraChapu-1008    M  0.000000  0.002064  0.009434  0.012677   \n",
       "28             Aadi-1028    A  0.000290  0.002899  0.005507  0.008696   \n",
       "72       MisraChapu-1020    M  0.001453  0.005520  0.009587  0.015979   \n",
       "55   UKS-KhandaChapu-101    K  0.001181  0.004135  0.009746  0.013881   \n",
       "75       MisraChapu-1023    M  0.000000  0.003201  0.010186  0.013097   \n",
       "101      MishraChapu2001    M  0.000290  0.005217  0.008986  0.011014   \n",
       "\n",
       "            5         6         7         8  ...       241       242  \\\n",
       "84   0.009554  0.011870  0.015345  0.017082  ...  0.736248  0.739143   \n",
       "42   0.020932  0.023880  0.026828  0.030366  ...  0.854658  0.860554   \n",
       "28   0.011304  0.013913  0.016522  0.018261  ...  0.885507  0.891304   \n",
       "72   0.019175  0.021499  0.023533  0.025276  ...  0.750726  0.753632   \n",
       "55   0.018311  0.024808  0.030715  0.056999  ...       NaN       NaN   \n",
       "75   0.016007  0.019208  0.022410  0.024156  ...  0.836729  0.840221   \n",
       "101  0.013043  0.016522  0.018841  0.020580  ...  0.753333  0.756522   \n",
       "\n",
       "          243       244       245       246       247       248       249  \\\n",
       "84   0.741749  0.745223  0.749855  0.751882  0.755356  0.757672  0.760857   \n",
       "42   0.863502  0.867630  0.872642  0.875295  0.880012  0.885024  0.887087   \n",
       "28   0.898261  0.900290  0.901739  0.906087  0.909275  0.912754  0.914783   \n",
       "72   0.757408  0.762057  0.764962  0.769030  0.770773  0.773097  0.776293   \n",
       "55        NaN       NaN       NaN       NaN       NaN       NaN       NaN   \n",
       "75   0.848370  0.851863  0.854482  0.862922  0.866997  0.869034  0.875146   \n",
       "101  0.759130  0.762029  0.764928  0.767536  0.770725  0.773623  0.775362   \n",
       "\n",
       "          250  \n",
       "84   0.764621  \n",
       "42   0.890920  \n",
       "28   0.916232  \n",
       "72   0.781522  \n",
       "55        NaN  \n",
       "75   0.879802  \n",
       "101  0.777101  \n",
       "\n",
       "[7 rows x 252 columns]"
      ]
     },
     "execution_count": 283,
     "metadata": {},
     "output_type": "execute_result"
    }
   ],
   "source": [
    "beatsDf1.sample(7)"
   ]
  },
  {
   "cell_type": "code",
   "execution_count": 284,
   "metadata": {},
   "outputs": [
    {
     "name": "stdout",
     "output_type": "stream",
     "text": [
      "<class 'pandas.core.frame.DataFrame'>\n",
      "RangeIndex: 116 entries, 0 to 115\n",
      "Columns: 252 entries, FileName to 250\n",
      "dtypes: float64(250), object(2)\n",
      "memory usage: 228.5+ KB\n"
     ]
    }
   ],
   "source": [
    "beatsDf1.info()"
   ]
  },
  {
   "cell_type": "markdown",
   "metadata": {},
   "source": [
    "#### Cleanup 2:\n",
    "Drop rows with NaNs. These are really short clips and probably will not contain sufficient data for analysis. There is no meaningful way to fill in missing values."
   ]
  },
  {
   "cell_type": "code",
   "execution_count": 285,
   "metadata": {},
   "outputs": [],
   "source": [
    "beatsDf = beatsDf1.dropna()"
   ]
  },
  {
   "cell_type": "code",
   "execution_count": 286,
   "metadata": {},
   "outputs": [
    {
     "name": "stdout",
     "output_type": "stream",
     "text": [
      "<class 'pandas.core.frame.DataFrame'>\n",
      "Index: 101 entries, 0 to 115\n",
      "Columns: 252 entries, FileName to 250\n",
      "dtypes: float64(250), object(2)\n",
      "memory usage: 199.6+ KB\n"
     ]
    }
   ],
   "source": [
    "beatsDf.info()"
   ]
  },
  {
   "cell_type": "code",
   "execution_count": 287,
   "metadata": {},
   "outputs": [
    {
     "data": {
      "text/html": [
       "<div>\n",
       "<style scoped>\n",
       "    .dataframe tbody tr th:only-of-type {\n",
       "        vertical-align: middle;\n",
       "    }\n",
       "\n",
       "    .dataframe tbody tr th {\n",
       "        vertical-align: top;\n",
       "    }\n",
       "\n",
       "    .dataframe thead th {\n",
       "        text-align: right;\n",
       "    }\n",
       "</style>\n",
       "<table border=\"1\" class=\"dataframe\">\n",
       "  <thead>\n",
       "    <tr style=\"text-align: right;\">\n",
       "      <th></th>\n",
       "      <th>FileName</th>\n",
       "      <th>Beat</th>\n",
       "      <th>1</th>\n",
       "      <th>2</th>\n",
       "      <th>3</th>\n",
       "      <th>4</th>\n",
       "      <th>5</th>\n",
       "      <th>6</th>\n",
       "      <th>7</th>\n",
       "      <th>8</th>\n",
       "      <th>...</th>\n",
       "      <th>241</th>\n",
       "      <th>242</th>\n",
       "      <th>243</th>\n",
       "      <th>244</th>\n",
       "      <th>245</th>\n",
       "      <th>246</th>\n",
       "      <th>247</th>\n",
       "      <th>248</th>\n",
       "      <th>249</th>\n",
       "      <th>250</th>\n",
       "    </tr>\n",
       "  </thead>\n",
       "  <tbody>\n",
       "    <tr>\n",
       "      <th>16</th>\n",
       "      <td>Aadi-1016</td>\n",
       "      <td>A</td>\n",
       "      <td>0.000869</td>\n",
       "      <td>0.004922</td>\n",
       "      <td>0.006948</td>\n",
       "      <td>0.009554</td>\n",
       "      <td>0.012160</td>\n",
       "      <td>0.015345</td>\n",
       "      <td>0.019398</td>\n",
       "      <td>0.021424</td>\n",
       "      <td>...</td>\n",
       "      <td>0.761726</td>\n",
       "      <td>0.763463</td>\n",
       "      <td>0.765489</td>\n",
       "      <td>0.767516</td>\n",
       "      <td>0.769253</td>\n",
       "      <td>0.771280</td>\n",
       "      <td>0.773306</td>\n",
       "      <td>0.775043</td>\n",
       "      <td>0.776781</td>\n",
       "      <td>0.779097</td>\n",
       "    </tr>\n",
       "    <tr>\n",
       "      <th>23</th>\n",
       "      <td>Aadi-1023</td>\n",
       "      <td>A</td>\n",
       "      <td>0.001453</td>\n",
       "      <td>0.003777</td>\n",
       "      <td>0.007554</td>\n",
       "      <td>0.013655</td>\n",
       "      <td>0.017141</td>\n",
       "      <td>0.020628</td>\n",
       "      <td>0.024114</td>\n",
       "      <td>0.027891</td>\n",
       "      <td>...</td>\n",
       "      <td>0.852992</td>\n",
       "      <td>0.856479</td>\n",
       "      <td>0.864614</td>\n",
       "      <td>0.870134</td>\n",
       "      <td>0.872167</td>\n",
       "      <td>0.876235</td>\n",
       "      <td>0.879721</td>\n",
       "      <td>0.883498</td>\n",
       "      <td>0.887275</td>\n",
       "      <td>0.891633</td>\n",
       "    </tr>\n",
       "    <tr>\n",
       "      <th>43</th>\n",
       "      <td>MisraChapu-1009</td>\n",
       "      <td>M</td>\n",
       "      <td>0.011608</td>\n",
       "      <td>0.013639</td>\n",
       "      <td>0.017121</td>\n",
       "      <td>0.020023</td>\n",
       "      <td>0.024376</td>\n",
       "      <td>0.031050</td>\n",
       "      <td>0.034823</td>\n",
       "      <td>0.042658</td>\n",
       "      <td>...</td>\n",
       "      <td>0.931225</td>\n",
       "      <td>0.935287</td>\n",
       "      <td>0.939350</td>\n",
       "      <td>0.942542</td>\n",
       "      <td>0.945734</td>\n",
       "      <td>0.948636</td>\n",
       "      <td>0.953860</td>\n",
       "      <td>0.956181</td>\n",
       "      <td>0.959373</td>\n",
       "      <td>0.962855</td>\n",
       "    </tr>\n",
       "    <tr>\n",
       "      <th>25</th>\n",
       "      <td>Aadi-1025</td>\n",
       "      <td>A</td>\n",
       "      <td>0.000290</td>\n",
       "      <td>0.002613</td>\n",
       "      <td>0.004355</td>\n",
       "      <td>0.006969</td>\n",
       "      <td>0.011034</td>\n",
       "      <td>0.014228</td>\n",
       "      <td>0.016551</td>\n",
       "      <td>0.018873</td>\n",
       "      <td>...</td>\n",
       "      <td>0.796167</td>\n",
       "      <td>0.797909</td>\n",
       "      <td>0.802555</td>\n",
       "      <td>0.807491</td>\n",
       "      <td>0.813589</td>\n",
       "      <td>0.820267</td>\n",
       "      <td>0.822300</td>\n",
       "      <td>0.825203</td>\n",
       "      <td>0.828107</td>\n",
       "      <td>0.830139</td>\n",
       "    </tr>\n",
       "    <tr>\n",
       "      <th>107</th>\n",
       "      <td>KhandaChapu109</td>\n",
       "      <td>K</td>\n",
       "      <td>0.001450</td>\n",
       "      <td>0.004930</td>\n",
       "      <td>0.007251</td>\n",
       "      <td>0.011311</td>\n",
       "      <td>0.016531</td>\n",
       "      <td>0.018271</td>\n",
       "      <td>0.021752</td>\n",
       "      <td>0.027552</td>\n",
       "      <td>...</td>\n",
       "      <td>0.871520</td>\n",
       "      <td>0.876160</td>\n",
       "      <td>0.880220</td>\n",
       "      <td>0.882831</td>\n",
       "      <td>0.885441</td>\n",
       "      <td>0.890081</td>\n",
       "      <td>0.892401</td>\n",
       "      <td>0.895302</td>\n",
       "      <td>0.898202</td>\n",
       "      <td>0.900522</td>\n",
       "    </tr>\n",
       "  </tbody>\n",
       "</table>\n",
       "<p>5 rows × 252 columns</p>\n",
       "</div>"
      ],
      "text/plain": [
       "            FileName Beat         1         2         3         4         5  \\\n",
       "16         Aadi-1016    A  0.000869  0.004922  0.006948  0.009554  0.012160   \n",
       "23         Aadi-1023    A  0.001453  0.003777  0.007554  0.013655  0.017141   \n",
       "43   MisraChapu-1009    M  0.011608  0.013639  0.017121  0.020023  0.024376   \n",
       "25         Aadi-1025    A  0.000290  0.002613  0.004355  0.006969  0.011034   \n",
       "107   KhandaChapu109    K  0.001450  0.004930  0.007251  0.011311  0.016531   \n",
       "\n",
       "            6         7         8  ...       241       242       243  \\\n",
       "16   0.015345  0.019398  0.021424  ...  0.761726  0.763463  0.765489   \n",
       "23   0.020628  0.024114  0.027891  ...  0.852992  0.856479  0.864614   \n",
       "43   0.031050  0.034823  0.042658  ...  0.931225  0.935287  0.939350   \n",
       "25   0.014228  0.016551  0.018873  ...  0.796167  0.797909  0.802555   \n",
       "107  0.018271  0.021752  0.027552  ...  0.871520  0.876160  0.880220   \n",
       "\n",
       "          244       245       246       247       248       249       250  \n",
       "16   0.767516  0.769253  0.771280  0.773306  0.775043  0.776781  0.779097  \n",
       "23   0.870134  0.872167  0.876235  0.879721  0.883498  0.887275  0.891633  \n",
       "43   0.942542  0.945734  0.948636  0.953860  0.956181  0.959373  0.962855  \n",
       "25   0.807491  0.813589  0.820267  0.822300  0.825203  0.828107  0.830139  \n",
       "107  0.882831  0.885441  0.890081  0.892401  0.895302  0.898202  0.900522  \n",
       "\n",
       "[5 rows x 252 columns]"
      ]
     },
     "execution_count": 287,
     "metadata": {},
     "output_type": "execute_result"
    }
   ],
   "source": [
    "beatsDf.sample(5)"
   ]
  },
  {
   "cell_type": "code",
   "execution_count": 288,
   "metadata": {},
   "outputs": [],
   "source": [
    "# Drop the \"FileName\" column\n",
    "beatsDf = beatsDf.drop(\"FileName\", axis = 1)"
   ]
  },
  {
   "cell_type": "code",
   "execution_count": 289,
   "metadata": {},
   "outputs": [
    {
     "data": {
      "text/plain": [
       "Beat\n",
       "A    36\n",
       "M    34\n",
       "K    31\n",
       "Name: count, dtype: int64"
      ]
     },
     "execution_count": 289,
     "metadata": {},
     "output_type": "execute_result"
    }
   ],
   "source": [
    "beatsDf.value_counts('Beat')"
   ]
  },
  {
   "cell_type": "code",
   "execution_count": 290,
   "metadata": {},
   "outputs": [],
   "source": [
    "# For the current state of the data, we have only one 'K' beat. \n",
    "#Drop it so that we have a 2-fold (binary) classification situation.\n",
    "#beatsDf = beatsDf.drop(beatsDf[beatsDf.Beat == 'K'].index)"
   ]
  },
  {
   "cell_type": "code",
   "execution_count": 291,
   "metadata": {
    "scrolled": true
   },
   "outputs": [],
   "source": [
    "#beatsDf.value_counts('Beat')"
   ]
  },
  {
   "cell_type": "markdown",
   "metadata": {},
   "source": [
    "### Split data into training and test sets"
   ]
  },
  {
   "cell_type": "code",
   "execution_count": 292,
   "metadata": {},
   "outputs": [],
   "source": [
    "# Data: indepndent and dependent variables\n",
    "X = beatsDf.drop(['Beat'], axis = 1)\n",
    "\n",
    "# target\n",
    "labelEnc = LabelEncoder()\n",
    "y = labelEnc.fit_transform(beatsDf['Beat'])"
   ]
  },
  {
   "cell_type": "code",
   "execution_count": 293,
   "metadata": {},
   "outputs": [],
   "source": [
    "# Preprocessing pipeline for numerical features: StandardScaler\n",
    "numeric_feats = []\n",
    "for nn in range(1, 251):\n",
    "    numeric_feats.append(str(nn))    "
   ]
  },
  {
   "cell_type": "code",
   "execution_count": 294,
   "metadata": {},
   "outputs": [],
   "source": [
    "preprocPipe = ColumnTransformer(\n",
    "    transformers=[\n",
    "        ('numeric', StandardScaler(), numeric_feats)\n",
    "    ])"
   ]
  },
  {
   "cell_type": "code",
   "execution_count": 295,
   "metadata": {},
   "outputs": [],
   "source": [
    "rand_state = 44\n",
    "# Data, split into train and test\n",
    "X_train, X_test, y_train, y_test = train_test_split(X, y, test_size = 0.25, random_state = rand_state)"
   ]
  },
  {
   "cell_type": "markdown",
   "metadata": {},
   "source": [
    "#### KNN grid search for the n_neighbors hyperparameter"
   ]
  },
  {
   "cell_type": "code",
   "execution_count": 296,
   "metadata": {
    "scrolled": false
   },
   "outputs": [
    {
     "name": "stdout",
     "output_type": "stream",
     "text": [
      "Optimal num neighbors = 6, score =0.5384615384615384\n"
     ]
    }
   ],
   "source": [
    "test_score_knn = {}\n",
    "n_neighbors = np.arange(2, 51, 1)\n",
    "for neighbor in n_neighbors:\n",
    "\n",
    "    knn = KNeighborsClassifier(n_neighbors=neighbor)\n",
    "    pipe = make_pipeline(preprocPipe, knn)\n",
    "    pipe.fit(X_train, y_train)\n",
    "\n",
    " \n",
    "    y_pred_knn = pipe.predict(X_test)\n",
    "    score = accuracy_score(y_test, y_pred_knn)\n",
    "    \n",
    "    test_score_knn[neighbor] = score\n",
    "\n",
    "best_nbrs_knn = max(test_score_knn, key = test_score_knn.get)\n",
    "print('Optimal num neighbors = ' + str(best_nbrs_knn) + ', score =' + str(test_score_knn[best_nbrs_knn])) "
   ]
  },
  {
   "cell_type": "markdown",
   "metadata": {},
   "source": [
    "### Building a model for each classifier"
   ]
  },
  {
   "cell_type": "code",
   "execution_count": 297,
   "metadata": {},
   "outputs": [],
   "source": [
    "# Model pipelines\n",
    "logRegPipe = make_pipeline(preprocPipe, LogisticRegression(max_iter=10000, random_state = rand_state))\n",
    "decTreePipe = make_pipeline(preprocPipe, DecisionTreeClassifier(random_state = rand_state))\n",
    "knnPipe = make_pipeline(preprocPipe, KNeighborsClassifier(n_neighbors = best_nbrs_knn))\n",
    "svmPipe = make_pipeline(preprocPipe, SVC(random_state = rand_state))\n",
    "logRegCVPipe = make_pipeline(preprocPipe, LogisticRegressionCV(cv=5, random_state = rand_state, max_iter=10000))\n",
    "\n",
    "pipelines = [logRegPipe, decTreePipe, knnPipe, svmPipe, logRegCVPipe]"
   ]
  },
  {
   "cell_type": "markdown",
   "metadata": {},
   "source": [
    "### Model evaluation"
   ]
  },
  {
   "cell_type": "code",
   "execution_count": 298,
   "metadata": {
    "scrolled": false
   },
   "outputs": [],
   "source": [
    "# Evaluating the models\n",
    "model_performance = []\n",
    "\n",
    "for pipe in pipelines:\n",
    "        #Start a timer\n",
    "        start_time = time.time()\n",
    "        \n",
    "        # fit the data\n",
    "        pipe.fit(X_train, y_train)\n",
    "        \n",
    "        #End the timer, get elapsed time\n",
    "        end_time = time.time()\n",
    "        fit_time = end_time - start_time\n",
    "\n",
    "        # Make a prediction, measure the accuracy\n",
    "        y_pred = pipe.predict(X_test)\n",
    "        score = accuracy_score(y_test, y_pred)\n",
    "        \n",
    "        modelName = type(pipe._final_estimator).__name__\n",
    "\n",
    "        model_performance.append({\n",
    "            'Model': modelName,\n",
    "            'Score': score,\n",
    "            'Time': fit_time\n",
    "            })\n",
    "        "
   ]
  },
  {
   "cell_type": "code",
   "execution_count": 299,
   "metadata": {},
   "outputs": [],
   "source": [
    "\n",
    "# Dataframe out of the results\n",
    "performDf = pd.DataFrame(model_performance)"
   ]
  },
  {
   "cell_type": "code",
   "execution_count": 300,
   "metadata": {},
   "outputs": [
    {
     "data": {
      "text/html": [
       "<div>\n",
       "<style scoped>\n",
       "    .dataframe tbody tr th:only-of-type {\n",
       "        vertical-align: middle;\n",
       "    }\n",
       "\n",
       "    .dataframe tbody tr th {\n",
       "        vertical-align: top;\n",
       "    }\n",
       "\n",
       "    .dataframe thead th {\n",
       "        text-align: right;\n",
       "    }\n",
       "</style>\n",
       "<table border=\"1\" class=\"dataframe\">\n",
       "  <thead>\n",
       "    <tr style=\"text-align: right;\">\n",
       "      <th></th>\n",
       "      <th>Model</th>\n",
       "      <th>Score</th>\n",
       "      <th>Time</th>\n",
       "    </tr>\n",
       "  </thead>\n",
       "  <tbody>\n",
       "    <tr>\n",
       "      <th>0</th>\n",
       "      <td>LogisticRegression</td>\n",
       "      <td>0.500000</td>\n",
       "      <td>0.062830</td>\n",
       "    </tr>\n",
       "    <tr>\n",
       "      <th>1</th>\n",
       "      <td>DecisionTreeClassifier</td>\n",
       "      <td>0.461538</td>\n",
       "      <td>0.036868</td>\n",
       "    </tr>\n",
       "    <tr>\n",
       "      <th>2</th>\n",
       "      <td>KNeighborsClassifier</td>\n",
       "      <td>0.538462</td>\n",
       "      <td>0.011968</td>\n",
       "    </tr>\n",
       "    <tr>\n",
       "      <th>3</th>\n",
       "      <td>SVC</td>\n",
       "      <td>0.384615</td>\n",
       "      <td>0.011968</td>\n",
       "    </tr>\n",
       "    <tr>\n",
       "      <th>4</th>\n",
       "      <td>LogisticRegressionCV</td>\n",
       "      <td>0.346154</td>\n",
       "      <td>1.773256</td>\n",
       "    </tr>\n",
       "  </tbody>\n",
       "</table>\n",
       "</div>"
      ],
      "text/plain": [
       "                    Model     Score      Time\n",
       "0      LogisticRegression  0.500000  0.062830\n",
       "1  DecisionTreeClassifier  0.461538  0.036868\n",
       "2    KNeighborsClassifier  0.538462  0.011968\n",
       "3                     SVC  0.384615  0.011968\n",
       "4    LogisticRegressionCV  0.346154  1.773256"
      ]
     },
     "execution_count": 300,
     "metadata": {},
     "output_type": "execute_result"
    }
   ],
   "source": [
    "performDf"
   ]
  },
  {
   "cell_type": "markdown",
   "metadata": {},
   "source": [
    "### Ensemble classifiers"
   ]
  },
  {
   "cell_type": "markdown",
   "metadata": {},
   "source": [
    "#### BaggingClassifier with n_estimators hyperparameter tuning"
   ]
  },
  {
   "cell_type": "code",
   "execution_count": 301,
   "metadata": {},
   "outputs": [],
   "source": [
    "test_score_bg = {}\n",
    "fit_time_bg = {}\n",
    "n_estimators = np.arange(500, 5001, 500)\n",
    "for estimator in n_estimators:\n",
    "\n",
    "    bgClassifier = BaggingClassifier(DecisionTreeClassifier(random_state = rand_state), n_estimators = estimator, oob_score = True)\n",
    "    bgClassifierPipe = make_pipeline(preprocPipe, bgClassifier)\n",
    "\n",
    "    #Start a timer\n",
    "    start_time = time.time()\n",
    "            \n",
    "    bgClassifierPipe.fit(X_train, y_train)\n",
    "    \n",
    "    #End the timer, get elapsed time\n",
    "    end_time = time.time()\n",
    "    fit_time = end_time - start_time\n",
    "    \n",
    "    y_pred_bg = bgClassifierPipe.predict(X_test)\n",
    "    score_bg = accuracy_score(y_test, y_pred_bg)\n",
    "    \n",
    "    test_score_bg[estimator] = score_bg\n",
    "    fit_time_bg[estimator] = fit_time\n"
   ]
  },
  {
   "cell_type": "code",
   "execution_count": 302,
   "metadata": {
    "scrolled": true
   },
   "outputs": [
    {
     "name": "stdout",
     "output_type": "stream",
     "text": [
      "Optimal num estimators = 500, score =0.46153846153846156, time =8.572909355163574\n"
     ]
    }
   ],
   "source": [
    "best_nEstimators_bg = max(test_score_bg, key = test_score_bg.get)\n",
    "print('Optimal num estimators = ' + str(best_nEstimators_bg) + ', score =' + str(test_score_bg[best_nEstimators_bg]) + \n",
    "      ', time =' + str(fit_time_bg[best_nEstimators_bg]))\n",
    "\n",
    "# Append to performDf\n",
    "performDf.loc[len(performDf.index)] = ['Bagging', test_score_bg[best_nEstimators_bg], \n",
    "                                       fit_time_bg[best_nEstimators_bg]] "
   ]
  },
  {
   "cell_type": "markdown",
   "metadata": {},
   "source": [
    "#### RandomForest with n_estimators (trees) hyperparameter tuning"
   ]
  },
  {
   "cell_type": "code",
   "execution_count": 303,
   "metadata": {},
   "outputs": [],
   "source": [
    "n_trees = [2, 4, 8, 16, 32, 64]\n",
    "test_score_rf = {}\n",
    "fit_time_rf = {}\n",
    "for tr in n_trees:\n",
    "    rforest = RandomForestClassifier(random_state=rand_state, max_depth = 50, n_estimators = tr)\n",
    "    rfPipe = make_pipeline(preprocPipe, rforest)\n",
    "    \n",
    "    #Start a timer\n",
    "    start_time = time.time()\n",
    "    \n",
    "    rfPipe.fit(X_train, y_train)\n",
    "    \n",
    "    #End the timer, get elapsed time\n",
    "    end_time = time.time()\n",
    "    fit_time = end_time - start_time\n",
    "        \n",
    "    y_pred_rf = rfPipe.predict(X_test)\n",
    "    score_rf = accuracy_score(y_test, y_pred_rf)\n",
    "    \n",
    "    test_score_rf[tr] = score_rf\n",
    "    fit_time_rf[tr] = fit_time\n"
   ]
  },
  {
   "cell_type": "code",
   "execution_count": 304,
   "metadata": {},
   "outputs": [
    {
     "name": "stdout",
     "output_type": "stream",
     "text": [
      "Optimal num trees = 4, score =0.5384615384615384, time =0.019950389862060547\n"
     ]
    }
   ],
   "source": [
    "best_nTrees_rf = max(test_score_rf, key = test_score_rf.get)\n",
    "print('Optimal num trees = ' + str(best_nTrees_rf) + ', score =' + str(test_score_rf[best_nTrees_rf]) +\n",
    "     ', time =' + str(fit_time_rf[best_nTrees_rf])) \n",
    "\n",
    "# Append to performDf\n",
    "performDf.loc[len(performDf.index)] = ['RandomForest', test_score_rf[best_nTrees_rf], \n",
    "                                       fit_time_rf[best_nTrees_rf]] "
   ]
  },
  {
   "cell_type": "markdown",
   "metadata": {},
   "source": [
    "#### AdaBoost with n_estimators and depth hyperparameter tuning"
   ]
  },
  {
   "cell_type": "code",
   "execution_count": 305,
   "metadata": {
    "scrolled": true
   },
   "outputs": [],
   "source": [
    "# Run a GridSearchCV to get the optimal ada classifier\n",
    "import warnings\n",
    "warnings.filterwarnings('ignore')\n",
    "\n",
    "ada_params = {'n_estimators': [100, 150, 200, 250, 300],\n",
    "              'base_estimator__max_depth': [3, 4, 5, 6, 7]}\n",
    "ada_tree_grid = GridSearchCV(AdaBoostClassifier(base_estimator = DecisionTreeClassifier(), random_state = rand_state), \n",
    "                             param_grid = ada_params2)\n",
    "ada_tree_grid.fit(X_train, y_train)\n",
    "ada_acc = ada_tree_grid.score(X_test, y_test)"
   ]
  },
  {
   "cell_type": "code",
   "execution_count": 306,
   "metadata": {},
   "outputs": [
    {
     "name": "stdout",
     "output_type": "stream",
     "text": [
      "ada_acc =0.5384615384615384\n",
      "{'base_estimator__max_depth': 5, 'n_estimators': 200}\n"
     ]
    }
   ],
   "source": [
    "print('ada_acc =' + str(ada_acc))\n",
    "ada_best_params = ada_tree_grid.best_params_\n",
    "print(ada_best_params)"
   ]
  },
  {
   "cell_type": "code",
   "execution_count": 307,
   "metadata": {},
   "outputs": [],
   "source": [
    "# Run the optimal classifier and get performance metrics\n",
    "ada = AdaBoostClassifier(base_estimator = DecisionTreeClassifier(max_depth = ada_best_params['base_estimator__max_depth']), \n",
    "                         random_state = rand_state, \n",
    "                         n_estimators = ada_best_params['n_estimators'])\n",
    "adaPipe = make_pipeline(preprocPipe, ada)\n",
    "\n",
    "#Start a timer\n",
    "start_time_ada = time.time()\n",
    "adaPipe.fit(X_train, y_train)\n",
    "    \n",
    "#End the timer, get elapsed time\n",
    "fit_time_ada = time.time() - start_time_ada\n",
    "\n",
    "y_pred_ada = adaPipe.predict(X_test)\n",
    "score_ada = accuracy_score(y_test, y_pred_ada)\n",
    "\n",
    "# Append to performDf\n",
    "performDf.loc[len(performDf.index)] = ['AdaBoost', score_ada, fit_time_ada]\n"
   ]
  },
  {
   "cell_type": "code",
   "execution_count": 308,
   "metadata": {
    "scrolled": true
   },
   "outputs": [
    {
     "data": {
      "text/html": [
       "<div>\n",
       "<style scoped>\n",
       "    .dataframe tbody tr th:only-of-type {\n",
       "        vertical-align: middle;\n",
       "    }\n",
       "\n",
       "    .dataframe tbody tr th {\n",
       "        vertical-align: top;\n",
       "    }\n",
       "\n",
       "    .dataframe thead th {\n",
       "        text-align: right;\n",
       "    }\n",
       "</style>\n",
       "<table border=\"1\" class=\"dataframe\">\n",
       "  <thead>\n",
       "    <tr style=\"text-align: right;\">\n",
       "      <th></th>\n",
       "      <th>Model</th>\n",
       "      <th>Score</th>\n",
       "      <th>Time</th>\n",
       "    </tr>\n",
       "  </thead>\n",
       "  <tbody>\n",
       "    <tr>\n",
       "      <th>0</th>\n",
       "      <td>LogisticRegression</td>\n",
       "      <td>0.500000</td>\n",
       "      <td>0.062830</td>\n",
       "    </tr>\n",
       "    <tr>\n",
       "      <th>1</th>\n",
       "      <td>DecisionTreeClassifier</td>\n",
       "      <td>0.461538</td>\n",
       "      <td>0.036868</td>\n",
       "    </tr>\n",
       "    <tr>\n",
       "      <th>2</th>\n",
       "      <td>KNeighborsClassifier</td>\n",
       "      <td>0.538462</td>\n",
       "      <td>0.011968</td>\n",
       "    </tr>\n",
       "    <tr>\n",
       "      <th>3</th>\n",
       "      <td>SVC</td>\n",
       "      <td>0.384615</td>\n",
       "      <td>0.011968</td>\n",
       "    </tr>\n",
       "    <tr>\n",
       "      <th>4</th>\n",
       "      <td>LogisticRegressionCV</td>\n",
       "      <td>0.346154</td>\n",
       "      <td>1.773256</td>\n",
       "    </tr>\n",
       "    <tr>\n",
       "      <th>5</th>\n",
       "      <td>Bagging</td>\n",
       "      <td>0.461538</td>\n",
       "      <td>8.572909</td>\n",
       "    </tr>\n",
       "    <tr>\n",
       "      <th>6</th>\n",
       "      <td>RandomForest</td>\n",
       "      <td>0.538462</td>\n",
       "      <td>0.019950</td>\n",
       "    </tr>\n",
       "    <tr>\n",
       "      <th>7</th>\n",
       "      <td>AdaBoost</td>\n",
       "      <td>0.538462</td>\n",
       "      <td>7.336270</td>\n",
       "    </tr>\n",
       "  </tbody>\n",
       "</table>\n",
       "</div>"
      ],
      "text/plain": [
       "                    Model     Score      Time\n",
       "0      LogisticRegression  0.500000  0.062830\n",
       "1  DecisionTreeClassifier  0.461538  0.036868\n",
       "2    KNeighborsClassifier  0.538462  0.011968\n",
       "3                     SVC  0.384615  0.011968\n",
       "4    LogisticRegressionCV  0.346154  1.773256\n",
       "5                 Bagging  0.461538  8.572909\n",
       "6            RandomForest  0.538462  0.019950\n",
       "7                AdaBoost  0.538462  7.336270"
      ]
     },
     "execution_count": 308,
     "metadata": {},
     "output_type": "execute_result"
    }
   ],
   "source": [
    "performDf"
   ]
  },
  {
   "cell_type": "code",
   "execution_count": 309,
   "metadata": {},
   "outputs": [],
   "source": [
    "# Plot model vs accuracy\n",
    "#pFig1 = px.bar(performDf, x = 'Model', y = 'Score', color = 'Model')\n",
    "#pFig1.update_layout(\n",
    "#            title={\n",
    "#            'text' : 'Model Accuracy',\n",
    "#            'x':0.4,\n",
    "#            'xanchor': 'center'\n",
    "#        })\n",
    "#pFig1.show()\n",
    "# Note: We suppress the plotly graph and use sns below for the saved notebook\n",
    "#       so that when opened without execution the plot is visible"
   ]
  },
  {
   "cell_type": "code",
   "execution_count": 310,
   "metadata": {},
   "outputs": [
    {
     "data": {
      "image/png": "[encoded data removed]",
      "text/plain": [
       "<Figure size 1200x600 with 1 Axes>"
      ]
     },
     "metadata": {},
     "output_type": "display_data"
    }
   ],
   "source": [
    "# Plot model vs accuracy\n",
    "figg, axx = plt.subplots(figsize=(12, 6))\n",
    "# Plot model vs accuracy\n",
    "snsF1 = sns.barplot(performDf, x = 'Model', y = 'Score', hue = 'Model')\n",
    "snsF1.set_title('Model Accuracy')\n",
    "snsF1.tick_params(axis='x', rotation = -90)\n",
    "sns.move_legend(snsF1, \"center right\")\n",
    "snsF1.get_figure().savefig('./images/Model_vs_accuracy_sns.png')"
   ]
  },
  {
   "cell_type": "code",
   "execution_count": 311,
   "metadata": {},
   "outputs": [],
   "source": [
    "# Plot model vs time\n",
    "#pFig2 = px.bar(performDf, x = 'Model', y = 'Time', color = 'Model',\n",
    "#                labels = {\n",
    "#                     \"Model\": \"Model\",\n",
    "#                     \"Time\": \"Time (seconds)\",\n",
    "#                 })\n",
    "\n",
    "#pFig2.update_layout(\n",
    "#            title={\n",
    "#            'text' : 'Model Computation Time',\n",
    "#            'x':0.4,\n",
    "#            'xanchor': 'center'\n",
    "#        })\n",
    "#pFig2.show()\n",
    "# Note: We suppress the plotly graph and use sns below for the saved notebook\n",
    "#       so that when opened without execution the plot is visible"
   ]
  },
  {
   "cell_type": "code",
   "execution_count": 312,
   "metadata": {},
   "outputs": [
    {
     "data": {
      "image/png": "[encoded data removed]",
      "text/plain": [
       "<Figure size 640x480 with 1 Axes>"
      ]
     },
     "metadata": {},
     "output_type": "display_data"
    }
   ],
   "source": [
    "# Plot model vs time\n",
    "snsF2 = sns.barplot(performDf, x = 'Model', y = 'Time', hue = 'Model')\n",
    "snsF2.set_title('Model Computation Time')\n",
    "snsF2.tick_params(axis='x', rotation = -90)\n",
    "sns.move_legend(snsF2, \"center left\")\n",
    "snsF1.get_figure().savefig('./images/Model_vs_time_sns.png')"
   ]
  },
  {
   "cell_type": "markdown",
   "metadata": {},
   "source": [
    "### Evaluation\n",
    "\n",
    "#### Model Accuracy\n",
    "Some models fared better than random chance (0.33) but none were very impressive. The best scores were from ensemble classifiers, close to 0.6 (almost twice as good as random chance). KNN also had a similar accuracy. More data is needed to make definitive conclusions about model accuracy.\n",
    "\n",
    "#### Computation time\n",
    "\n",
    "KNearestNeighbors was the speediest, and was also among the top performers accuracy-wise.\n",
    "\n",
    "#### Caveat\n",
    "The above analysis was done with a very small dataset! The results might change as more data is generated and brought into the analysis."
   ]
  },
  {
   "cell_type": "code",
   "execution_count": null,
   "metadata": {},
   "outputs": [],
   "source": []
  }
 ],
 "metadata": {
  "kernelspec": {
   "display_name": "Python 3 (ipykernel)",
   "language": "python",
   "name": "python3"
  },
  "language_info": {
   "codemirror_mode": {
    "name": "ipython",
    "version": 3
   },
   "file_extension": ".py",
   "mimetype": "text/x-python",
   "name": "python",
   "nbconvert_exporter": "python",
   "pygments_lexer": "ipython3",
   "version": "3.11.5"
  },
  "widgets": {
   "application/vnd.jupyter.widget-state+json": {
    "state": {},
    "version_major": 2,
    "version_minor": 0
   }
  }
 },
 "nbformat": 4,
 "nbformat_minor": 4
}
