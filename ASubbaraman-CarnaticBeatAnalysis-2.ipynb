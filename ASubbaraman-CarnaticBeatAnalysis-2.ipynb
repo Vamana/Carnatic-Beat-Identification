{
 "cells": [
  {
   "cell_type": "markdown",
   "metadata": {},
   "source": [
    "# Carnatic Beat Detection: what is that beat?\n"
   ]
  },
  {
   "cell_type": "markdown",
   "metadata": {},
   "source": [
    "### Overview\n",
    "\n",
    "This project develops an ML/AI classifier that identifies the Carnatic beat cycle (taalam) of a mridangam solo\n",
    "\n"
   ]
  },
  {
   "cell_type": "markdown",
   "metadata": {},
   "source": [
    "### Goal\n",
    "\n",
    "Given a clip of a drum solo, identify the taalam (beat cycle) in which it is performed.\n",
    "\n",
    "In this notebook, we will do an exploratory data analysis with only 2 taalam classes: aadi talam (8-beat cycle) and misra-chapu talam (7-beat cycle), to investigate if classic ML/AI techniques can successfully classify these two types with the data at hand."
   ]
  },
  {
   "cell_type": "markdown",
   "metadata": {},
   "source": [
    "### Data"
   ]
  },
  {
   "cell_type": "code",
   "execution_count": 51,
   "metadata": {},
   "outputs": [],
   "source": [
    "import numpy as np\n",
    "import plotly.express as px\n",
    "import matplotlib.pyplot as plt\n",
    "import pandas as pd\n",
    "import warnings\n",
    "import seaborn as sns\n",
    "import os\n",
    "import random\n",
    "import math\n",
    "\n",
    "from sklearn.pipeline import Pipeline, make_pipeline\n",
    "from sklearn.model_selection import GridSearchCV\n",
    "from sklearn.preprocessing import PolynomialFeatures, StandardScaler, OneHotEncoder, TargetEncoder, LabelEncoder\n",
    "from sklearn.preprocessing import OrdinalEncoder\n",
    "from sklearn.compose import make_column_transformer, TransformedTargetRegressor, ColumnTransformer\n",
    "from sklearn.feature_selection import SequentialFeatureSelector, RFE\n",
    "from sklearn.model_selection import train_test_split\n",
    "from sklearn.datasets import make_regression \n",
    "from sklearn.metrics import mean_squared_error, accuracy_score\n",
    "\n",
    "from sklearn.linear_model import LinearRegression, Ridge, Lasso, LogisticRegression, LogisticRegressionCV\n",
    "from sklearn.tree import DecisionTreeClassifier\n",
    "from sklearn.neighbors import KNeighborsClassifier\n",
    "from sklearn.svm import SVC\n",
    "\n",
    "from sklearn.ensemble import BaggingClassifier, AdaBoostClassifier, RandomForestClassifier\n",
    "\n",
    "import time"
   ]
  },
  {
   "cell_type": "code",
   "execution_count": 52,
   "metadata": {
    "scrolled": true
   },
   "outputs": [
    {
     "data": {
      "text/html": [
       "<div>\n",
       "<style scoped>\n",
       "    .dataframe tbody tr th:only-of-type {\n",
       "        vertical-align: middle;\n",
       "    }\n",
       "\n",
       "    .dataframe tbody tr th {\n",
       "        vertical-align: top;\n",
       "    }\n",
       "\n",
       "    .dataframe thead th {\n",
       "        text-align: right;\n",
       "    }\n",
       "</style>\n",
       "<table border=\"1\" class=\"dataframe\">\n",
       "  <thead>\n",
       "    <tr style=\"text-align: right;\">\n",
       "      <th></th>\n",
       "      <th>FileName</th>\n",
       "      <th>Beat</th>\n",
       "      <th>1</th>\n",
       "      <th>2</th>\n",
       "      <th>3</th>\n",
       "      <th>4</th>\n",
       "      <th>5</th>\n",
       "      <th>6</th>\n",
       "      <th>7</th>\n",
       "      <th>8</th>\n",
       "      <th>...</th>\n",
       "      <th>491</th>\n",
       "      <th>492</th>\n",
       "      <th>493</th>\n",
       "      <th>494</th>\n",
       "      <th>495</th>\n",
       "      <th>496</th>\n",
       "      <th>497</th>\n",
       "      <th>498</th>\n",
       "      <th>499</th>\n",
       "      <th>500</th>\n",
       "    </tr>\n",
       "  </thead>\n",
       "  <tbody>\n",
       "    <tr>\n",
       "      <th>41</th>\n",
       "      <td>MisraChapu-1007</td>\n",
       "      <td>M</td>\n",
       "      <td>0.003768</td>\n",
       "      <td>0.007246</td>\n",
       "      <td>0.014203</td>\n",
       "      <td>0.018841</td>\n",
       "      <td>0.023188</td>\n",
       "      <td>0.027246</td>\n",
       "      <td>0.030435</td>\n",
       "      <td>0.042029</td>\n",
       "      <td>...</td>\n",
       "      <td>NaN</td>\n",
       "      <td>NaN</td>\n",
       "      <td>NaN</td>\n",
       "      <td>NaN</td>\n",
       "      <td>NaN</td>\n",
       "      <td>NaN</td>\n",
       "      <td>NaN</td>\n",
       "      <td>NaN</td>\n",
       "      <td>NaN</td>\n",
       "      <td>NaN</td>\n",
       "    </tr>\n",
       "    <tr>\n",
       "      <th>46</th>\n",
       "      <td>MisraChapu-1012</td>\n",
       "      <td>M</td>\n",
       "      <td>0.000290</td>\n",
       "      <td>0.002323</td>\n",
       "      <td>0.004355</td>\n",
       "      <td>0.006388</td>\n",
       "      <td>0.009001</td>\n",
       "      <td>0.013066</td>\n",
       "      <td>0.015970</td>\n",
       "      <td>0.019454</td>\n",
       "      <td>...</td>\n",
       "      <td>NaN</td>\n",
       "      <td>NaN</td>\n",
       "      <td>NaN</td>\n",
       "      <td>NaN</td>\n",
       "      <td>NaN</td>\n",
       "      <td>NaN</td>\n",
       "      <td>NaN</td>\n",
       "      <td>NaN</td>\n",
       "      <td>NaN</td>\n",
       "      <td>NaN</td>\n",
       "    </tr>\n",
       "    <tr>\n",
       "      <th>54</th>\n",
       "      <td>Palghat raghu misra chapu - 103</td>\n",
       "      <td>M</td>\n",
       "      <td>0.001448</td>\n",
       "      <td>0.004922</td>\n",
       "      <td>0.011581</td>\n",
       "      <td>0.014765</td>\n",
       "      <td>0.018240</td>\n",
       "      <td>0.025188</td>\n",
       "      <td>0.028662</td>\n",
       "      <td>0.031847</td>\n",
       "      <td>...</td>\n",
       "      <td>NaN</td>\n",
       "      <td>NaN</td>\n",
       "      <td>NaN</td>\n",
       "      <td>NaN</td>\n",
       "      <td>NaN</td>\n",
       "      <td>NaN</td>\n",
       "      <td>NaN</td>\n",
       "      <td>NaN</td>\n",
       "      <td>NaN</td>\n",
       "      <td>NaN</td>\n",
       "    </tr>\n",
       "    <tr>\n",
       "      <th>115</th>\n",
       "      <td>MisraChapu105</td>\n",
       "      <td>M</td>\n",
       "      <td>0.000579</td>\n",
       "      <td>0.004053</td>\n",
       "      <td>0.008686</td>\n",
       "      <td>0.012160</td>\n",
       "      <td>0.015055</td>\n",
       "      <td>0.019977</td>\n",
       "      <td>0.024320</td>\n",
       "      <td>0.026346</td>\n",
       "      <td>...</td>\n",
       "      <td>NaN</td>\n",
       "      <td>NaN</td>\n",
       "      <td>NaN</td>\n",
       "      <td>NaN</td>\n",
       "      <td>NaN</td>\n",
       "      <td>NaN</td>\n",
       "      <td>NaN</td>\n",
       "      <td>NaN</td>\n",
       "      <td>NaN</td>\n",
       "      <td>NaN</td>\n",
       "    </tr>\n",
       "    <tr>\n",
       "      <th>64</th>\n",
       "      <td>MisraChapu-2</td>\n",
       "      <td>M</td>\n",
       "      <td>0.004353</td>\n",
       "      <td>0.008416</td>\n",
       "      <td>0.010737</td>\n",
       "      <td>0.013059</td>\n",
       "      <td>0.017702</td>\n",
       "      <td>0.021764</td>\n",
       "      <td>0.023506</td>\n",
       "      <td>0.026698</td>\n",
       "      <td>...</td>\n",
       "      <td>NaN</td>\n",
       "      <td>NaN</td>\n",
       "      <td>NaN</td>\n",
       "      <td>NaN</td>\n",
       "      <td>NaN</td>\n",
       "      <td>NaN</td>\n",
       "      <td>NaN</td>\n",
       "      <td>NaN</td>\n",
       "      <td>NaN</td>\n",
       "      <td>NaN</td>\n",
       "    </tr>\n",
       "    <tr>\n",
       "      <th>63</th>\n",
       "      <td>MisraChapu-1</td>\n",
       "      <td>M</td>\n",
       "      <td>0.002025</td>\n",
       "      <td>0.006655</td>\n",
       "      <td>0.012153</td>\n",
       "      <td>0.014178</td>\n",
       "      <td>0.018229</td>\n",
       "      <td>0.021991</td>\n",
       "      <td>0.033275</td>\n",
       "      <td>0.038484</td>\n",
       "      <td>...</td>\n",
       "      <td>NaN</td>\n",
       "      <td>NaN</td>\n",
       "      <td>NaN</td>\n",
       "      <td>NaN</td>\n",
       "      <td>NaN</td>\n",
       "      <td>NaN</td>\n",
       "      <td>NaN</td>\n",
       "      <td>NaN</td>\n",
       "      <td>NaN</td>\n",
       "      <td>NaN</td>\n",
       "    </tr>\n",
       "    <tr>\n",
       "      <th>97</th>\n",
       "      <td>KhandaChapu2027</td>\n",
       "      <td>K</td>\n",
       "      <td>0.003196</td>\n",
       "      <td>0.005811</td>\n",
       "      <td>0.008425</td>\n",
       "      <td>0.011331</td>\n",
       "      <td>0.014817</td>\n",
       "      <td>0.018884</td>\n",
       "      <td>0.022371</td>\n",
       "      <td>0.028472</td>\n",
       "      <td>...</td>\n",
       "      <td>NaN</td>\n",
       "      <td>NaN</td>\n",
       "      <td>NaN</td>\n",
       "      <td>NaN</td>\n",
       "      <td>NaN</td>\n",
       "      <td>NaN</td>\n",
       "      <td>NaN</td>\n",
       "      <td>NaN</td>\n",
       "      <td>NaN</td>\n",
       "      <td>NaN</td>\n",
       "    </tr>\n",
       "  </tbody>\n",
       "</table>\n",
       "<p>7 rows × 502 columns</p>\n",
       "</div>"
      ],
      "text/plain": [
       "                            FileName Beat         1         2         3  \\\n",
       "41                   MisraChapu-1007    M  0.003768  0.007246  0.014203   \n",
       "46                   MisraChapu-1012    M  0.000290  0.002323  0.004355   \n",
       "54   Palghat raghu misra chapu - 103    M  0.001448  0.004922  0.011581   \n",
       "115                    MisraChapu105    M  0.000579  0.004053  0.008686   \n",
       "64                      MisraChapu-2    M  0.004353  0.008416  0.010737   \n",
       "63                      MisraChapu-1    M  0.002025  0.006655  0.012153   \n",
       "97                   KhandaChapu2027    K  0.003196  0.005811  0.008425   \n",
       "\n",
       "            4         5         6         7         8  ...  491  492  493  \\\n",
       "41   0.018841  0.023188  0.027246  0.030435  0.042029  ...  NaN  NaN  NaN   \n",
       "46   0.006388  0.009001  0.013066  0.015970  0.019454  ...  NaN  NaN  NaN   \n",
       "54   0.014765  0.018240  0.025188  0.028662  0.031847  ...  NaN  NaN  NaN   \n",
       "115  0.012160  0.015055  0.019977  0.024320  0.026346  ...  NaN  NaN  NaN   \n",
       "64   0.013059  0.017702  0.021764  0.023506  0.026698  ...  NaN  NaN  NaN   \n",
       "63   0.014178  0.018229  0.021991  0.033275  0.038484  ...  NaN  NaN  NaN   \n",
       "97   0.011331  0.014817  0.018884  0.022371  0.028472  ...  NaN  NaN  NaN   \n",
       "\n",
       "     494  495  496  497  498  499  500  \n",
       "41   NaN  NaN  NaN  NaN  NaN  NaN  NaN  \n",
       "46   NaN  NaN  NaN  NaN  NaN  NaN  NaN  \n",
       "54   NaN  NaN  NaN  NaN  NaN  NaN  NaN  \n",
       "115  NaN  NaN  NaN  NaN  NaN  NaN  NaN  \n",
       "64   NaN  NaN  NaN  NaN  NaN  NaN  NaN  \n",
       "63   NaN  NaN  NaN  NaN  NaN  NaN  NaN  \n",
       "97   NaN  NaN  NaN  NaN  NaN  NaN  NaN  \n",
       "\n",
       "[7 rows x 502 columns]"
      ]
     },
     "execution_count": 52,
     "metadata": {},
     "output_type": "execute_result"
    }
   ],
   "source": [
    "# Load the data\n",
    "beatsDf1 = pd.read_csv(\"data/beats-3Class.csv\")\n",
    "beatsDf1.sample(7)"
   ]
  },
  {
   "cell_type": "code",
   "execution_count": 53,
   "metadata": {
    "scrolled": true
   },
   "outputs": [
    {
     "name": "stdout",
     "output_type": "stream",
     "text": [
      "<class 'pandas.core.frame.DataFrame'>\n",
      "RangeIndex: 116 entries, 0 to 115\n",
      "Columns: 502 entries, FileName to 500\n",
      "dtypes: float64(500), object(2)\n",
      "memory usage: 455.1+ KB\n"
     ]
    }
   ],
   "source": [
    "beatsDf1.info()"
   ]
  },
  {
   "cell_type": "markdown",
   "metadata": {},
   "source": [
    "#### Cleanup 1:\n",
    "We will set the number of numeric (time-lapse) features to be 250. Drop features with names > 250."
   ]
  },
  {
   "cell_type": "code",
   "execution_count": 54,
   "metadata": {},
   "outputs": [],
   "source": [
    "# We will drop features with names 251 -- 500\n",
    "featuresToDrop = []\n",
    "for nn in range(251, 501):\n",
    "    featuresToDrop.append(str(nn))"
   ]
  },
  {
   "cell_type": "code",
   "execution_count": 55,
   "metadata": {},
   "outputs": [],
   "source": [
    "# Drop the columns above\n",
    "beatsDf1 = beatsDf1.drop(featuresToDrop, axis = 1)"
   ]
  },
  {
   "cell_type": "code",
   "execution_count": 56,
   "metadata": {},
   "outputs": [
    {
     "data": {
      "text/html": [
       "<div>\n",
       "<style scoped>\n",
       "    .dataframe tbody tr th:only-of-type {\n",
       "        vertical-align: middle;\n",
       "    }\n",
       "\n",
       "    .dataframe tbody tr th {\n",
       "        vertical-align: top;\n",
       "    }\n",
       "\n",
       "    .dataframe thead th {\n",
       "        text-align: right;\n",
       "    }\n",
       "</style>\n",
       "<table border=\"1\" class=\"dataframe\">\n",
       "  <thead>\n",
       "    <tr style=\"text-align: right;\">\n",
       "      <th></th>\n",
       "      <th>FileName</th>\n",
       "      <th>Beat</th>\n",
       "      <th>1</th>\n",
       "      <th>2</th>\n",
       "      <th>3</th>\n",
       "      <th>4</th>\n",
       "      <th>5</th>\n",
       "      <th>6</th>\n",
       "      <th>7</th>\n",
       "      <th>8</th>\n",
       "      <th>...</th>\n",
       "      <th>241</th>\n",
       "      <th>242</th>\n",
       "      <th>243</th>\n",
       "      <th>244</th>\n",
       "      <th>245</th>\n",
       "      <th>246</th>\n",
       "      <th>247</th>\n",
       "      <th>248</th>\n",
       "      <th>249</th>\n",
       "      <th>250</th>\n",
       "    </tr>\n",
       "  </thead>\n",
       "  <tbody>\n",
       "    <tr>\n",
       "      <th>47</th>\n",
       "      <td>MisraChapu-1013</td>\n",
       "      <td>M</td>\n",
       "      <td>0.009059</td>\n",
       "      <td>0.016949</td>\n",
       "      <td>0.023670</td>\n",
       "      <td>0.031268</td>\n",
       "      <td>0.038574</td>\n",
       "      <td>0.045880</td>\n",
       "      <td>0.049971</td>\n",
       "      <td>0.053185</td>\n",
       "      <td>...</td>\n",
       "      <td>0.789889</td>\n",
       "      <td>0.793103</td>\n",
       "      <td>0.797779</td>\n",
       "      <td>0.800994</td>\n",
       "      <td>0.802747</td>\n",
       "      <td>0.805961</td>\n",
       "      <td>0.808884</td>\n",
       "      <td>0.812098</td>\n",
       "      <td>0.814144</td>\n",
       "      <td>0.815605</td>\n",
       "    </tr>\n",
       "    <tr>\n",
       "      <th>87</th>\n",
       "      <td>KhandaChapu2017</td>\n",
       "      <td>K</td>\n",
       "      <td>0.000000</td>\n",
       "      <td>0.003205</td>\n",
       "      <td>0.006702</td>\n",
       "      <td>0.010781</td>\n",
       "      <td>0.013112</td>\n",
       "      <td>0.017191</td>\n",
       "      <td>0.021270</td>\n",
       "      <td>0.024476</td>\n",
       "      <td>...</td>\n",
       "      <td>0.735140</td>\n",
       "      <td>0.738054</td>\n",
       "      <td>0.741550</td>\n",
       "      <td>0.745047</td>\n",
       "      <td>0.747378</td>\n",
       "      <td>0.750291</td>\n",
       "      <td>0.752914</td>\n",
       "      <td>0.754662</td>\n",
       "      <td>0.756702</td>\n",
       "      <td>0.759033</td>\n",
       "    </tr>\n",
       "    <tr>\n",
       "      <th>99</th>\n",
       "      <td>KhandaChapu2029</td>\n",
       "      <td>K</td>\n",
       "      <td>0.002023</td>\n",
       "      <td>0.005202</td>\n",
       "      <td>0.013584</td>\n",
       "      <td>0.017630</td>\n",
       "      <td>0.019942</td>\n",
       "      <td>0.025723</td>\n",
       "      <td>0.028035</td>\n",
       "      <td>0.033815</td>\n",
       "      <td>...</td>\n",
       "      <td>0.741908</td>\n",
       "      <td>0.744798</td>\n",
       "      <td>0.746821</td>\n",
       "      <td>0.750000</td>\n",
       "      <td>0.751734</td>\n",
       "      <td>0.753468</td>\n",
       "      <td>0.756936</td>\n",
       "      <td>0.759827</td>\n",
       "      <td>0.762717</td>\n",
       "      <td>0.765318</td>\n",
       "    </tr>\n",
       "    <tr>\n",
       "      <th>17</th>\n",
       "      <td>Aadi-1017</td>\n",
       "      <td>A</td>\n",
       "      <td>0.001445</td>\n",
       "      <td>0.004624</td>\n",
       "      <td>0.008671</td>\n",
       "      <td>0.013584</td>\n",
       "      <td>0.017052</td>\n",
       "      <td>0.019942</td>\n",
       "      <td>0.022543</td>\n",
       "      <td>0.025145</td>\n",
       "      <td>...</td>\n",
       "      <td>0.793064</td>\n",
       "      <td>0.796821</td>\n",
       "      <td>0.798555</td>\n",
       "      <td>0.800289</td>\n",
       "      <td>0.803757</td>\n",
       "      <td>0.806069</td>\n",
       "      <td>0.808671</td>\n",
       "      <td>0.811272</td>\n",
       "      <td>0.815318</td>\n",
       "      <td>0.817630</td>\n",
       "    </tr>\n",
       "    <tr>\n",
       "      <th>3</th>\n",
       "      <td>Aadi-1003</td>\n",
       "      <td>A</td>\n",
       "      <td>0.003196</td>\n",
       "      <td>0.006392</td>\n",
       "      <td>0.009587</td>\n",
       "      <td>0.028181</td>\n",
       "      <td>0.031668</td>\n",
       "      <td>0.035445</td>\n",
       "      <td>0.038640</td>\n",
       "      <td>0.049680</td>\n",
       "      <td>...</td>\n",
       "      <td>0.938698</td>\n",
       "      <td>0.941894</td>\n",
       "      <td>0.944509</td>\n",
       "      <td>0.946833</td>\n",
       "      <td>0.948286</td>\n",
       "      <td>0.949739</td>\n",
       "      <td>0.951772</td>\n",
       "      <td>0.957873</td>\n",
       "      <td>0.961650</td>\n",
       "      <td>0.964265</td>\n",
       "    </tr>\n",
       "    <tr>\n",
       "      <th>77</th>\n",
       "      <td>MisraChapu-1025</td>\n",
       "      <td>M</td>\n",
       "      <td>0.002033</td>\n",
       "      <td>0.003775</td>\n",
       "      <td>0.006098</td>\n",
       "      <td>0.008420</td>\n",
       "      <td>0.012485</td>\n",
       "      <td>0.015970</td>\n",
       "      <td>0.022358</td>\n",
       "      <td>0.028165</td>\n",
       "      <td>...</td>\n",
       "      <td>0.939315</td>\n",
       "      <td>0.943961</td>\n",
       "      <td>0.948606</td>\n",
       "      <td>0.951510</td>\n",
       "      <td>0.953833</td>\n",
       "      <td>0.957317</td>\n",
       "      <td>0.959640</td>\n",
       "      <td>0.961963</td>\n",
       "      <td>0.963705</td>\n",
       "      <td>0.966609</td>\n",
       "    </tr>\n",
       "    <tr>\n",
       "      <th>79</th>\n",
       "      <td>KhandaChapu2009</td>\n",
       "      <td>K</td>\n",
       "      <td>0.000000</td>\n",
       "      <td>0.002328</td>\n",
       "      <td>0.004948</td>\n",
       "      <td>0.007276</td>\n",
       "      <td>0.010477</td>\n",
       "      <td>0.013679</td>\n",
       "      <td>0.016589</td>\n",
       "      <td>0.018917</td>\n",
       "      <td>...</td>\n",
       "      <td>0.750873</td>\n",
       "      <td>0.753492</td>\n",
       "      <td>0.755821</td>\n",
       "      <td>0.758149</td>\n",
       "      <td>0.761350</td>\n",
       "      <td>0.763970</td>\n",
       "      <td>0.767753</td>\n",
       "      <td>0.770955</td>\n",
       "      <td>0.773283</td>\n",
       "      <td>0.775029</td>\n",
       "    </tr>\n",
       "  </tbody>\n",
       "</table>\n",
       "<p>7 rows × 252 columns</p>\n",
       "</div>"
      ],
      "text/plain": [
       "           FileName Beat         1         2         3         4         5  \\\n",
       "47  MisraChapu-1013    M  0.009059  0.016949  0.023670  0.031268  0.038574   \n",
       "87  KhandaChapu2017    K  0.000000  0.003205  0.006702  0.010781  0.013112   \n",
       "99  KhandaChapu2029    K  0.002023  0.005202  0.013584  0.017630  0.019942   \n",
       "17        Aadi-1017    A  0.001445  0.004624  0.008671  0.013584  0.017052   \n",
       "3         Aadi-1003    A  0.003196  0.006392  0.009587  0.028181  0.031668   \n",
       "77  MisraChapu-1025    M  0.002033  0.003775  0.006098  0.008420  0.012485   \n",
       "79  KhandaChapu2009    K  0.000000  0.002328  0.004948  0.007276  0.010477   \n",
       "\n",
       "           6         7         8  ...       241       242       243       244  \\\n",
       "47  0.045880  0.049971  0.053185  ...  0.789889  0.793103  0.797779  0.800994   \n",
       "87  0.017191  0.021270  0.024476  ...  0.735140  0.738054  0.741550  0.745047   \n",
       "99  0.025723  0.028035  0.033815  ...  0.741908  0.744798  0.746821  0.750000   \n",
       "17  0.019942  0.022543  0.025145  ...  0.793064  0.796821  0.798555  0.800289   \n",
       "3   0.035445  0.038640  0.049680  ...  0.938698  0.941894  0.944509  0.946833   \n",
       "77  0.015970  0.022358  0.028165  ...  0.939315  0.943961  0.948606  0.951510   \n",
       "79  0.013679  0.016589  0.018917  ...  0.750873  0.753492  0.755821  0.758149   \n",
       "\n",
       "         245       246       247       248       249       250  \n",
       "47  0.802747  0.805961  0.808884  0.812098  0.814144  0.815605  \n",
       "87  0.747378  0.750291  0.752914  0.754662  0.756702  0.759033  \n",
       "99  0.751734  0.753468  0.756936  0.759827  0.762717  0.765318  \n",
       "17  0.803757  0.806069  0.808671  0.811272  0.815318  0.817630  \n",
       "3   0.948286  0.949739  0.951772  0.957873  0.961650  0.964265  \n",
       "77  0.953833  0.957317  0.959640  0.961963  0.963705  0.966609  \n",
       "79  0.761350  0.763970  0.767753  0.770955  0.773283  0.775029  \n",
       "\n",
       "[7 rows x 252 columns]"
      ]
     },
     "execution_count": 56,
     "metadata": {},
     "output_type": "execute_result"
    }
   ],
   "source": [
    "beatsDf1.sample(7)"
   ]
  },
  {
   "cell_type": "code",
   "execution_count": 57,
   "metadata": {},
   "outputs": [
    {
     "name": "stdout",
     "output_type": "stream",
     "text": [
      "<class 'pandas.core.frame.DataFrame'>\n",
      "RangeIndex: 116 entries, 0 to 115\n",
      "Columns: 252 entries, FileName to 250\n",
      "dtypes: float64(250), object(2)\n",
      "memory usage: 228.5+ KB\n"
     ]
    }
   ],
   "source": [
    "beatsDf1.info()"
   ]
  },
  {
   "cell_type": "markdown",
   "metadata": {},
   "source": [
    "#### Cleanup 2:\n",
    "Drop rows with NaNs. These are really short clips and probably will not contain sufficient data for analysis. There is no meaningful way to fill in missing values."
   ]
  },
  {
   "cell_type": "code",
   "execution_count": 58,
   "metadata": {},
   "outputs": [],
   "source": [
    "beatsDf_full = beatsDf1.dropna()"
   ]
  },
  {
   "cell_type": "code",
   "execution_count": 59,
   "metadata": {},
   "outputs": [
    {
     "name": "stdout",
     "output_type": "stream",
     "text": [
      "<class 'pandas.core.frame.DataFrame'>\n",
      "Index: 101 entries, 0 to 115\n",
      "Columns: 252 entries, FileName to 250\n",
      "dtypes: float64(250), object(2)\n",
      "memory usage: 199.6+ KB\n"
     ]
    }
   ],
   "source": [
    "beatsDf_full.info()"
   ]
  },
  {
   "cell_type": "code",
   "execution_count": 60,
   "metadata": {},
   "outputs": [
    {
     "data": {
      "text/html": [
       "<div>\n",
       "<style scoped>\n",
       "    .dataframe tbody tr th:only-of-type {\n",
       "        vertical-align: middle;\n",
       "    }\n",
       "\n",
       "    .dataframe tbody tr th {\n",
       "        vertical-align: top;\n",
       "    }\n",
       "\n",
       "    .dataframe thead th {\n",
       "        text-align: right;\n",
       "    }\n",
       "</style>\n",
       "<table border=\"1\" class=\"dataframe\">\n",
       "  <thead>\n",
       "    <tr style=\"text-align: right;\">\n",
       "      <th></th>\n",
       "      <th>FileName</th>\n",
       "      <th>Beat</th>\n",
       "      <th>1</th>\n",
       "      <th>2</th>\n",
       "      <th>3</th>\n",
       "      <th>4</th>\n",
       "      <th>5</th>\n",
       "      <th>6</th>\n",
       "      <th>7</th>\n",
       "      <th>8</th>\n",
       "      <th>...</th>\n",
       "      <th>241</th>\n",
       "      <th>242</th>\n",
       "      <th>243</th>\n",
       "      <th>244</th>\n",
       "      <th>245</th>\n",
       "      <th>246</th>\n",
       "      <th>247</th>\n",
       "      <th>248</th>\n",
       "      <th>249</th>\n",
       "      <th>250</th>\n",
       "    </tr>\n",
       "  </thead>\n",
       "  <tbody>\n",
       "    <tr>\n",
       "      <th>46</th>\n",
       "      <td>MisraChapu-1012</td>\n",
       "      <td>M</td>\n",
       "      <td>0.000290</td>\n",
       "      <td>0.002323</td>\n",
       "      <td>0.004355</td>\n",
       "      <td>0.006388</td>\n",
       "      <td>0.009001</td>\n",
       "      <td>0.013066</td>\n",
       "      <td>0.015970</td>\n",
       "      <td>0.019454</td>\n",
       "      <td>...</td>\n",
       "      <td>0.868467</td>\n",
       "      <td>0.874855</td>\n",
       "      <td>0.881243</td>\n",
       "      <td>0.883566</td>\n",
       "      <td>0.887050</td>\n",
       "      <td>0.889373</td>\n",
       "      <td>0.892857</td>\n",
       "      <td>0.895470</td>\n",
       "      <td>0.898084</td>\n",
       "      <td>0.900407</td>\n",
       "    </tr>\n",
       "    <tr>\n",
       "      <th>27</th>\n",
       "      <td>Aadi-1027</td>\n",
       "      <td>A</td>\n",
       "      <td>0.000581</td>\n",
       "      <td>0.003486</td>\n",
       "      <td>0.005230</td>\n",
       "      <td>0.006682</td>\n",
       "      <td>0.009006</td>\n",
       "      <td>0.013074</td>\n",
       "      <td>0.016560</td>\n",
       "      <td>0.020046</td>\n",
       "      <td>...</td>\n",
       "      <td>0.833818</td>\n",
       "      <td>0.839338</td>\n",
       "      <td>0.842243</td>\n",
       "      <td>0.843986</td>\n",
       "      <td>0.845729</td>\n",
       "      <td>0.848925</td>\n",
       "      <td>0.851540</td>\n",
       "      <td>0.855607</td>\n",
       "      <td>0.859965</td>\n",
       "      <td>0.865776</td>\n",
       "    </tr>\n",
       "    <tr>\n",
       "      <th>99</th>\n",
       "      <td>KhandaChapu2029</td>\n",
       "      <td>K</td>\n",
       "      <td>0.002023</td>\n",
       "      <td>0.005202</td>\n",
       "      <td>0.013584</td>\n",
       "      <td>0.017630</td>\n",
       "      <td>0.019942</td>\n",
       "      <td>0.025723</td>\n",
       "      <td>0.028035</td>\n",
       "      <td>0.033815</td>\n",
       "      <td>...</td>\n",
       "      <td>0.741908</td>\n",
       "      <td>0.744798</td>\n",
       "      <td>0.746821</td>\n",
       "      <td>0.750000</td>\n",
       "      <td>0.751734</td>\n",
       "      <td>0.753468</td>\n",
       "      <td>0.756936</td>\n",
       "      <td>0.759827</td>\n",
       "      <td>0.762717</td>\n",
       "      <td>0.765318</td>\n",
       "    </tr>\n",
       "    <tr>\n",
       "      <th>111</th>\n",
       "      <td>MisraChapu106</td>\n",
       "      <td>M</td>\n",
       "      <td>0.000869</td>\n",
       "      <td>0.004635</td>\n",
       "      <td>0.008691</td>\n",
       "      <td>0.011008</td>\n",
       "      <td>0.012746</td>\n",
       "      <td>0.015643</td>\n",
       "      <td>0.019988</td>\n",
       "      <td>0.022885</td>\n",
       "      <td>...</td>\n",
       "      <td>0.813731</td>\n",
       "      <td>0.815469</td>\n",
       "      <td>0.820684</td>\n",
       "      <td>0.824739</td>\n",
       "      <td>0.838644</td>\n",
       "      <td>0.843569</td>\n",
       "      <td>0.845597</td>\n",
       "      <td>0.848783</td>\n",
       "      <td>0.852549</td>\n",
       "      <td>0.854867</td>\n",
       "    </tr>\n",
       "    <tr>\n",
       "      <th>45</th>\n",
       "      <td>MisraChapu-1011</td>\n",
       "      <td>M</td>\n",
       "      <td>0.003187</td>\n",
       "      <td>0.006373</td>\n",
       "      <td>0.009560</td>\n",
       "      <td>0.011877</td>\n",
       "      <td>0.016512</td>\n",
       "      <td>0.018830</td>\n",
       "      <td>0.020568</td>\n",
       "      <td>0.029258</td>\n",
       "      <td>...</td>\n",
       "      <td>0.754345</td>\n",
       "      <td>0.756952</td>\n",
       "      <td>0.760429</td>\n",
       "      <td>0.763036</td>\n",
       "      <td>0.765933</td>\n",
       "      <td>0.769119</td>\n",
       "      <td>0.772016</td>\n",
       "      <td>0.773754</td>\n",
       "      <td>0.775492</td>\n",
       "      <td>0.776941</td>\n",
       "    </tr>\n",
       "  </tbody>\n",
       "</table>\n",
       "<p>5 rows × 252 columns</p>\n",
       "</div>"
      ],
      "text/plain": [
       "            FileName Beat         1         2         3         4         5  \\\n",
       "46   MisraChapu-1012    M  0.000290  0.002323  0.004355  0.006388  0.009001   \n",
       "27         Aadi-1027    A  0.000581  0.003486  0.005230  0.006682  0.009006   \n",
       "99   KhandaChapu2029    K  0.002023  0.005202  0.013584  0.017630  0.019942   \n",
       "111    MisraChapu106    M  0.000869  0.004635  0.008691  0.011008  0.012746   \n",
       "45   MisraChapu-1011    M  0.003187  0.006373  0.009560  0.011877  0.016512   \n",
       "\n",
       "            6         7         8  ...       241       242       243  \\\n",
       "46   0.013066  0.015970  0.019454  ...  0.868467  0.874855  0.881243   \n",
       "27   0.013074  0.016560  0.020046  ...  0.833818  0.839338  0.842243   \n",
       "99   0.025723  0.028035  0.033815  ...  0.741908  0.744798  0.746821   \n",
       "111  0.015643  0.019988  0.022885  ...  0.813731  0.815469  0.820684   \n",
       "45   0.018830  0.020568  0.029258  ...  0.754345  0.756952  0.760429   \n",
       "\n",
       "          244       245       246       247       248       249       250  \n",
       "46   0.883566  0.887050  0.889373  0.892857  0.895470  0.898084  0.900407  \n",
       "27   0.843986  0.845729  0.848925  0.851540  0.855607  0.859965  0.865776  \n",
       "99   0.750000  0.751734  0.753468  0.756936  0.759827  0.762717  0.765318  \n",
       "111  0.824739  0.838644  0.843569  0.845597  0.848783  0.852549  0.854867  \n",
       "45   0.763036  0.765933  0.769119  0.772016  0.773754  0.775492  0.776941  \n",
       "\n",
       "[5 rows x 252 columns]"
      ]
     },
     "execution_count": 60,
     "metadata": {},
     "output_type": "execute_result"
    }
   ],
   "source": [
    "beatsDf_full.sample(5)"
   ]
  },
  {
   "cell_type": "code",
   "execution_count": 61,
   "metadata": {},
   "outputs": [],
   "source": [
    "# Drop the \"FileName\" column\n",
    "beatsDf_full = beatsDf_full.drop(\"FileName\", axis = 1)"
   ]
  },
  {
   "cell_type": "code",
   "execution_count": 62,
   "metadata": {},
   "outputs": [
    {
     "data": {
      "text/plain": [
       "Beat\n",
       "A    36\n",
       "M    34\n",
       "K    31\n",
       "Name: count, dtype: int64"
      ]
     },
     "execution_count": 62,
     "metadata": {},
     "output_type": "execute_result"
    }
   ],
   "source": [
    "beatsDf_full.value_counts('Beat')"
   ]
  },
  {
   "cell_type": "code",
   "execution_count": 63,
   "metadata": {},
   "outputs": [],
   "source": [
    "# For the current state of the data, we have only one 'K' beat. \n",
    "#Drop it so that we have a 2-fold (binary) classification situation.\n",
    "beatsDf_2Class = beatsDf_full.drop(beatsDf_full[beatsDf_full.Beat == 'K'].index)"
   ]
  },
  {
   "cell_type": "code",
   "execution_count": 64,
   "metadata": {
    "scrolled": true
   },
   "outputs": [
    {
     "data": {
      "text/plain": [
       "Beat\n",
       "A    36\n",
       "M    34\n",
       "Name: count, dtype: int64"
      ]
     },
     "execution_count": 64,
     "metadata": {},
     "output_type": "execute_result"
    }
   ],
   "source": [
    "beatsDf_2Class.value_counts('Beat')"
   ]
  },
  {
   "cell_type": "markdown",
   "metadata": {},
   "source": [
    "### Split data into training and test sets"
   ]
  },
  {
   "cell_type": "code",
   "execution_count": 65,
   "metadata": {},
   "outputs": [],
   "source": [
    "# Data: indepndent and target variables\n",
    "X = beatsDf_2Class.drop(['Beat'], axis = 1)\n",
    "\n",
    "# target\n",
    "labelEnc = LabelEncoder()\n",
    "y = labelEnc.fit_transform(beatsDf_2Class['Beat'])"
   ]
  },
  {
   "cell_type": "code",
   "execution_count": 66,
   "metadata": {},
   "outputs": [
    {
     "data": {
      "text/plain": [
       "array([0, 0, 0, 0, 0, 0, 0, 0, 0, 0, 0, 0, 0, 0, 0, 0, 0, 0, 0, 0, 0, 0,\n",
       "       0, 0, 0, 0, 0, 0, 0, 0, 1, 1, 1, 1, 1, 1, 1, 1, 1, 1, 1, 1, 0, 0,\n",
       "       0, 1, 1, 0, 0, 0, 1, 1, 1, 1, 1, 1, 1, 1, 1, 1, 1, 1, 1, 1, 1, 1,\n",
       "       1, 1, 1, 1])"
      ]
     },
     "execution_count": 66,
     "metadata": {},
     "output_type": "execute_result"
    }
   ],
   "source": [
    "y"
   ]
  },
  {
   "cell_type": "code",
   "execution_count": 67,
   "metadata": {},
   "outputs": [],
   "source": [
    "# Preprocessing pipeline for numerical features\n",
    "numeric_feats = []\n",
    "for nn in range(1, 251):\n",
    "    numeric_feats.append(str(nn))    "
   ]
  },
  {
   "cell_type": "code",
   "execution_count": 68,
   "metadata": {},
   "outputs": [],
   "source": [
    "preprocPipe = ColumnTransformer(\n",
    "    transformers=[\n",
    "        ('numeric', StandardScaler(), numeric_feats)\n",
    "    ])"
   ]
  },
  {
   "cell_type": "code",
   "execution_count": 69,
   "metadata": {},
   "outputs": [],
   "source": [
    "rand_state = 44\n",
    "# Data, split into train and test\n",
    "X_train, X_test, y_train, y_test = train_test_split(X, y, test_size = 0.2, random_state = rand_state)"
   ]
  },
  {
   "cell_type": "markdown",
   "metadata": {},
   "source": [
    "### Building a model for each classifier"
   ]
  },
  {
   "cell_type": "code",
   "execution_count": 70,
   "metadata": {},
   "outputs": [],
   "source": [
    "warnings.filterwarnings('ignore')\n",
    "\n",
    "# Model pipelines\n",
    "logRegPipe = make_pipeline(preprocPipe, LogisticRegression(max_iter=10000, random_state = rand_state))\n",
    "decTreePipe = make_pipeline(preprocPipe, DecisionTreeClassifier(random_state = rand_state))\n",
    "knnPipe = make_pipeline(preprocPipe, KNeighborsClassifier())\n",
    "svmPipe = make_pipeline(preprocPipe, SVC(random_state = rand_state))\n",
    "logRegCVPipe = make_pipeline(preprocPipe, LogisticRegressionCV(cv=5, random_state = rand_state, max_iter=10000))\n",
    "\n",
    "bgClassifierPipe = make_pipeline(preprocPipe, BaggingClassifier(DecisionTreeClassifier(random_state = rand_state), oob_score = True))\n",
    "rfClassifierPipe = make_pipeline(preprocPipe, RandomForestClassifier(random_state=rand_state))\n",
    "adaPipe = make_pipeline(preprocPipe, AdaBoostClassifier(DecisionTreeClassifier(), random_state = rand_state))\n",
    "\n",
    "pipelines = [logRegPipe, decTreePipe, knnPipe, svmPipe, logRegCVPipe, bgClassifierPipe, rfClassifierPipe, adaPipe]"
   ]
  },
  {
   "cell_type": "markdown",
   "metadata": {},
   "source": [
    "### Model evaluation"
   ]
  },
  {
   "cell_type": "code",
   "execution_count": 71,
   "metadata": {
    "scrolled": false
   },
   "outputs": [],
   "source": [
    "# Evaluating the models\n",
    "model_performance = []\n",
    "\n",
    "for pipe in pipelines:\n",
    "        #Start a timer\n",
    "        start_time = time.time()\n",
    "        \n",
    "        # fit the data\n",
    "        pipe.fit(X_train, y_train)\n",
    "        \n",
    "        #End the timer, get elapsed time\n",
    "        end_time = time.time()\n",
    "        fit_time = end_time - start_time\n",
    "\n",
    "        # Make a prediction, measure the accuracy\n",
    "        y_pred = pipe.predict(X_test)\n",
    "        score = accuracy_score(y_test, y_pred)\n",
    "        \n",
    "        modelName = type(pipe._final_estimator).__name__\n",
    "\n",
    "        model_performance.append({\n",
    "            'Model': modelName,\n",
    "            'Score': score,\n",
    "            'Time': fit_time\n",
    "            })\n",
    "        "
   ]
  },
  {
   "cell_type": "code",
   "execution_count": 72,
   "metadata": {},
   "outputs": [],
   "source": [
    "\n",
    "# Dataframe out of the results\n",
    "performDf = pd.DataFrame(model_performance)"
   ]
  },
  {
   "cell_type": "code",
   "execution_count": 73,
   "metadata": {},
   "outputs": [
    {
     "data": {
      "text/html": [
       "<div>\n",
       "<style scoped>\n",
       "    .dataframe tbody tr th:only-of-type {\n",
       "        vertical-align: middle;\n",
       "    }\n",
       "\n",
       "    .dataframe tbody tr th {\n",
       "        vertical-align: top;\n",
       "    }\n",
       "\n",
       "    .dataframe thead th {\n",
       "        text-align: right;\n",
       "    }\n",
       "</style>\n",
       "<table border=\"1\" class=\"dataframe\">\n",
       "  <thead>\n",
       "    <tr style=\"text-align: right;\">\n",
       "      <th></th>\n",
       "      <th>Model</th>\n",
       "      <th>Score</th>\n",
       "      <th>Time</th>\n",
       "    </tr>\n",
       "  </thead>\n",
       "  <tbody>\n",
       "    <tr>\n",
       "      <th>0</th>\n",
       "      <td>LogisticRegression</td>\n",
       "      <td>0.500000</td>\n",
       "      <td>0.036930</td>\n",
       "    </tr>\n",
       "    <tr>\n",
       "      <th>1</th>\n",
       "      <td>DecisionTreeClassifier</td>\n",
       "      <td>0.428571</td>\n",
       "      <td>0.019945</td>\n",
       "    </tr>\n",
       "    <tr>\n",
       "      <th>2</th>\n",
       "      <td>KNeighborsClassifier</td>\n",
       "      <td>0.571429</td>\n",
       "      <td>0.005982</td>\n",
       "    </tr>\n",
       "    <tr>\n",
       "      <th>3</th>\n",
       "      <td>SVC</td>\n",
       "      <td>0.571429</td>\n",
       "      <td>0.005984</td>\n",
       "    </tr>\n",
       "    <tr>\n",
       "      <th>4</th>\n",
       "      <td>LogisticRegressionCV</td>\n",
       "      <td>0.500000</td>\n",
       "      <td>0.526559</td>\n",
       "    </tr>\n",
       "    <tr>\n",
       "      <th>5</th>\n",
       "      <td>BaggingClassifier</td>\n",
       "      <td>0.500000</td>\n",
       "      <td>0.090793</td>\n",
       "    </tr>\n",
       "    <tr>\n",
       "      <th>6</th>\n",
       "      <td>RandomForestClassifier</td>\n",
       "      <td>0.714286</td>\n",
       "      <td>0.161531</td>\n",
       "    </tr>\n",
       "    <tr>\n",
       "      <th>7</th>\n",
       "      <td>AdaBoostClassifier</td>\n",
       "      <td>0.428571</td>\n",
       "      <td>0.021971</td>\n",
       "    </tr>\n",
       "  </tbody>\n",
       "</table>\n",
       "</div>"
      ],
      "text/plain": [
       "                    Model     Score      Time\n",
       "0      LogisticRegression  0.500000  0.036930\n",
       "1  DecisionTreeClassifier  0.428571  0.019945\n",
       "2    KNeighborsClassifier  0.571429  0.005982\n",
       "3                     SVC  0.571429  0.005984\n",
       "4    LogisticRegressionCV  0.500000  0.526559\n",
       "5       BaggingClassifier  0.500000  0.090793\n",
       "6  RandomForestClassifier  0.714286  0.161531\n",
       "7      AdaBoostClassifier  0.428571  0.021971"
      ]
     },
     "execution_count": 73,
     "metadata": {},
     "output_type": "execute_result"
    }
   ],
   "source": [
    "performDf"
   ]
  },
  {
   "cell_type": "code",
   "execution_count": 80,
   "metadata": {},
   "outputs": [
    {
     "data": {
      "application/vnd.plotly.v1+json": {
       "config": {
        "plotlyServerURL": "https://plot.ly"
       },
       "data": [
        {
         "alignmentgroup": "True",
         "hovertemplate": "Model=%{x}<br>Score=%{y}<extra></extra>",
         "legendgroup": "LogisticRegression",
         "marker": {
          "color": "#636efa",
          "pattern": {
           "shape": ""
          }
         },
         "name": "LogisticRegression",
         "offsetgroup": "LogisticRegression",
         "orientation": "v",
         "showlegend": true,
         "textposition": "auto",
         "type": "bar",
         "x": [
          "LogisticRegression"
         ],
         "xaxis": "x",
         "y": [
          0.5
         ],
         "yaxis": "y"
        },
        {
         "alignmentgroup": "True",
         "hovertemplate": "Model=%{x}<br>Score=%{y}<extra></extra>",
         "legendgroup": "DecisionTreeClassifier",
         "marker": {
          "color": "#EF553B",
          "pattern": {
           "shape": ""
          }
         },
         "name": "DecisionTreeClassifier",
         "offsetgroup": "DecisionTreeClassifier",
         "orientation": "v",
         "showlegend": true,
         "textposition": "auto",
         "type": "bar",
         "x": [
          "DecisionTreeClassifier"
         ],
         "xaxis": "x",
         "y": [
          0.42857142857142855
         ],
         "yaxis": "y"
        },
        {
         "alignmentgroup": "True",
         "hovertemplate": "Model=%{x}<br>Score=%{y}<extra></extra>",
         "legendgroup": "KNeighborsClassifier",
         "marker": {
          "color": "#00cc96",
          "pattern": {
           "shape": ""
          }
         },
         "name": "KNeighborsClassifier",
         "offsetgroup": "KNeighborsClassifier",
         "orientation": "v",
         "showlegend": true,
         "textposition": "auto",
         "type": "bar",
         "x": [
          "KNeighborsClassifier"
         ],
         "xaxis": "x",
         "y": [
          0.5714285714285714
         ],
         "yaxis": "y"
        },
        {
         "alignmentgroup": "True",
         "hovertemplate": "Model=%{x}<br>Score=%{y}<extra></extra>",
         "legendgroup": "SVC",
         "marker": {
          "color": "#ab63fa",
          "pattern": {
           "shape": ""
          }
         },
         "name": "SVC",
         "offsetgroup": "SVC",
         "orientation": "v",
         "showlegend": true,
         "textposition": "auto",
         "type": "bar",
         "x": [
          "SVC"
         ],
         "xaxis": "x",
         "y": [
          0.5714285714285714
         ],
         "yaxis": "y"
        },
        {
         "alignmentgroup": "True",
         "hovertemplate": "Model=%{x}<br>Score=%{y}<extra></extra>",
         "legendgroup": "LogisticRegressionCV",
         "marker": {
          "color": "#FFA15A",
          "pattern": {
           "shape": ""
          }
         },
         "name": "LogisticRegressionCV",
         "offsetgroup": "LogisticRegressionCV",
         "orientation": "v",
         "showlegend": true,
         "textposition": "auto",
         "type": "bar",
         "x": [
          "LogisticRegressionCV"
         ],
         "xaxis": "x",
         "y": [
          0.5
         ],
         "yaxis": "y"
        },
        {
         "alignmentgroup": "True",
         "hovertemplate": "Model=%{x}<br>Score=%{y}<extra></extra>",
         "legendgroup": "BaggingClassifier",
         "marker": {
          "color": "#19d3f3",
          "pattern": {
           "shape": ""
          }
         },
         "name": "BaggingClassifier",
         "offsetgroup": "BaggingClassifier",
         "orientation": "v",
         "showlegend": true,
         "textposition": "auto",
         "type": "bar",
         "x": [
          "BaggingClassifier"
         ],
         "xaxis": "x",
         "y": [
          0.5
         ],
         "yaxis": "y"
        },
        {
         "alignmentgroup": "True",
         "hovertemplate": "Model=%{x}<br>Score=%{y}<extra></extra>",
         "legendgroup": "RandomForestClassifier",
         "marker": {
          "color": "#FF6692",
          "pattern": {
           "shape": ""
          }
         },
         "name": "RandomForestClassifier",
         "offsetgroup": "RandomForestClassifier",
         "orientation": "v",
         "showlegend": true,
         "textposition": "auto",
         "type": "bar",
         "x": [
          "RandomForestClassifier"
         ],
         "xaxis": "x",
         "y": [
          0.7142857142857143
         ],
         "yaxis": "y"
        },
        {
         "alignmentgroup": "True",
         "hovertemplate": "Model=%{x}<br>Score=%{y}<extra></extra>",
         "legendgroup": "AdaBoostClassifier",
         "marker": {
          "color": "#B6E880",
          "pattern": {
           "shape": ""
          }
         },
         "name": "AdaBoostClassifier",
         "offsetgroup": "AdaBoostClassifier",
         "orientation": "v",
         "showlegend": true,
         "textposition": "auto",
         "type": "bar",
         "x": [
          "AdaBoostClassifier"
         ],
         "xaxis": "x",
         "y": [
          0.42857142857142855
         ],
         "yaxis": "y"
        }
       ],
       "layout": {
        "barmode": "relative",
        "legend": {
         "title": {
          "text": "Model"
         },
         "tracegroupgap": 0
        },
        "margin": {
         "t": 60
        },
        "template": {
         "data": {
          "bar": [
           {
            "error_x": {
             "color": "#2a3f5f"
            },
            "error_y": {
             "color": "#2a3f5f"
            },
            "marker": {
             "line": {
              "color": "#E5ECF6",
              "width": 0.5
             },
             "pattern": {
              "fillmode": "overlay",
              "size": 10,
              "solidity": 0.2
             }
            },
            "type": "bar"
           }
          ],
          "barpolar": [
           {
            "marker": {
             "line": {
              "color": "#E5ECF6",
              "width": 0.5
             },
             "pattern": {
              "fillmode": "overlay",
              "size": 10,
              "solidity": 0.2
             }
            },
            "type": "barpolar"
           }
          ],
          "carpet": [
           {
            "aaxis": {
             "endlinecolor": "#2a3f5f",
             "gridcolor": "white",
             "linecolor": "white",
             "minorgridcolor": "white",
             "startlinecolor": "#2a3f5f"
            },
            "baxis": {
             "endlinecolor": "#2a3f5f",
             "gridcolor": "white",
             "linecolor": "white",
             "minorgridcolor": "white",
             "startlinecolor": "#2a3f5f"
            },
            "type": "carpet"
           }
          ],
          "choropleth": [
           {
            "colorbar": {
             "outlinewidth": 0,
             "ticks": ""
            },
            "type": "choropleth"
           }
          ],
          "contour": [
           {
            "colorbar": {
             "outlinewidth": 0,
             "ticks": ""
            },
            "colorscale": [
             [
              0,
              "#0d0887"
             ],
             [
              0.1111111111111111,
              "#46039f"
             ],
             [
              0.2222222222222222,
              "#7201a8"
             ],
             [
              0.3333333333333333,
              "#9c179e"
             ],
             [
              0.4444444444444444,
              "#bd3786"
             ],
             [
              0.5555555555555556,
              "#d8576b"
             ],
             [
              0.6666666666666666,
              "#ed7953"
             ],
             [
              0.7777777777777778,
              "#fb9f3a"
             ],
             [
              0.8888888888888888,
              "#fdca26"
             ],
             [
              1,
              "#f0f921"
             ]
            ],
            "type": "contour"
           }
          ],
          "contourcarpet": [
           {
            "colorbar": {
             "outlinewidth": 0,
             "ticks": ""
            },
            "type": "contourcarpet"
           }
          ],
          "heatmap": [
           {
            "colorbar": {
             "outlinewidth": 0,
             "ticks": ""
            },
            "colorscale": [
             [
              0,
              "#0d0887"
             ],
             [
              0.1111111111111111,
              "#46039f"
             ],
             [
              0.2222222222222222,
              "#7201a8"
             ],
             [
              0.3333333333333333,
              "#9c179e"
             ],
             [
              0.4444444444444444,
              "#bd3786"
             ],
             [
              0.5555555555555556,
              "#d8576b"
             ],
             [
              0.6666666666666666,
              "#ed7953"
             ],
             [
              0.7777777777777778,
              "#fb9f3a"
             ],
             [
              0.8888888888888888,
              "#fdca26"
             ],
             [
              1,
              "#f0f921"
             ]
            ],
            "type": "heatmap"
           }
          ],
          "heatmapgl": [
           {
            "colorbar": {
             "outlinewidth": 0,
             "ticks": ""
            },
            "colorscale": [
             [
              0,
              "#0d0887"
             ],
             [
              0.1111111111111111,
              "#46039f"
             ],
             [
              0.2222222222222222,
              "#7201a8"
             ],
             [
              0.3333333333333333,
              "#9c179e"
             ],
             [
              0.4444444444444444,
              "#bd3786"
             ],
             [
              0.5555555555555556,
              "#d8576b"
             ],
             [
              0.6666666666666666,
              "#ed7953"
             ],
             [
              0.7777777777777778,
              "#fb9f3a"
             ],
             [
              0.8888888888888888,
              "#fdca26"
             ],
             [
              1,
              "#f0f921"
             ]
            ],
            "type": "heatmapgl"
           }
          ],
          "histogram": [
           {
            "marker": {
             "pattern": {
              "fillmode": "overlay",
              "size": 10,
              "solidity": 0.2
             }
            },
            "type": "histogram"
           }
          ],
          "histogram2d": [
           {
            "colorbar": {
             "outlinewidth": 0,
             "ticks": ""
            },
            "colorscale": [
             [
              0,
              "#0d0887"
             ],
             [
              0.1111111111111111,
              "#46039f"
             ],
             [
              0.2222222222222222,
              "#7201a8"
             ],
             [
              0.3333333333333333,
              "#9c179e"
             ],
             [
              0.4444444444444444,
              "#bd3786"
             ],
             [
              0.5555555555555556,
              "#d8576b"
             ],
             [
              0.6666666666666666,
              "#ed7953"
             ],
             [
              0.7777777777777778,
              "#fb9f3a"
             ],
             [
              0.8888888888888888,
              "#fdca26"
             ],
             [
              1,
              "#f0f921"
             ]
            ],
            "type": "histogram2d"
           }
          ],
          "histogram2dcontour": [
           {
            "colorbar": {
             "outlinewidth": 0,
             "ticks": ""
            },
            "colorscale": [
             [
              0,
              "#0d0887"
             ],
             [
              0.1111111111111111,
              "#46039f"
             ],
             [
              0.2222222222222222,
              "#7201a8"
             ],
             [
              0.3333333333333333,
              "#9c179e"
             ],
             [
              0.4444444444444444,
              "#bd3786"
             ],
             [
              0.5555555555555556,
              "#d8576b"
             ],
             [
              0.6666666666666666,
              "#ed7953"
             ],
             [
              0.7777777777777778,
              "#fb9f3a"
             ],
             [
              0.8888888888888888,
              "#fdca26"
             ],
             [
              1,
              "#f0f921"
             ]
            ],
            "type": "histogram2dcontour"
           }
          ],
          "mesh3d": [
           {
            "colorbar": {
             "outlinewidth": 0,
             "ticks": ""
            },
            "type": "mesh3d"
           }
          ],
          "parcoords": [
           {
            "line": {
             "colorbar": {
              "outlinewidth": 0,
              "ticks": ""
             }
            },
            "type": "parcoords"
           }
          ],
          "pie": [
           {
            "automargin": true,
            "type": "pie"
           }
          ],
          "scatter": [
           {
            "fillpattern": {
             "fillmode": "overlay",
             "size": 10,
             "solidity": 0.2
            },
            "type": "scatter"
           }
          ],
          "scatter3d": [
           {
            "line": {
             "colorbar": {
              "outlinewidth": 0,
              "ticks": ""
             }
            },
            "marker": {
             "colorbar": {
              "outlinewidth": 0,
              "ticks": ""
             }
            },
            "type": "scatter3d"
           }
          ],
          "scattercarpet": [
           {
            "marker": {
             "colorbar": {
              "outlinewidth": 0,
              "ticks": ""
             }
            },
            "type": "scattercarpet"
           }
          ],
          "scattergeo": [
           {
            "marker": {
             "colorbar": {
              "outlinewidth": 0,
              "ticks": ""
             }
            },
            "type": "scattergeo"
           }
          ],
          "scattergl": [
           {
            "marker": {
             "colorbar": {
              "outlinewidth": 0,
              "ticks": ""
             }
            },
            "type": "scattergl"
           }
          ],
          "scattermapbox": [
           {
            "marker": {
             "colorbar": {
              "outlinewidth": 0,
              "ticks": ""
             }
            },
            "type": "scattermapbox"
           }
          ],
          "scatterpolar": [
           {
            "marker": {
             "colorbar": {
              "outlinewidth": 0,
              "ticks": ""
             }
            },
            "type": "scatterpolar"
           }
          ],
          "scatterpolargl": [
           {
            "marker": {
             "colorbar": {
              "outlinewidth": 0,
              "ticks": ""
             }
            },
            "type": "scatterpolargl"
           }
          ],
          "scatterternary": [
           {
            "marker": {
             "colorbar": {
              "outlinewidth": 0,
              "ticks": ""
             }
            },
            "type": "scatterternary"
           }
          ],
          "surface": [
           {
            "colorbar": {
             "outlinewidth": 0,
             "ticks": ""
            },
            "colorscale": [
             [
              0,
              "#0d0887"
             ],
             [
              0.1111111111111111,
              "#46039f"
             ],
             [
              0.2222222222222222,
              "#7201a8"
             ],
             [
              0.3333333333333333,
              "#9c179e"
             ],
             [
              0.4444444444444444,
              "#bd3786"
             ],
             [
              0.5555555555555556,
              "#d8576b"
             ],
             [
              0.6666666666666666,
              "#ed7953"
             ],
             [
              0.7777777777777778,
              "#fb9f3a"
             ],
             [
              0.8888888888888888,
              "#fdca26"
             ],
             [
              1,
              "#f0f921"
             ]
            ],
            "type": "surface"
           }
          ],
          "table": [
           {
            "cells": {
             "fill": {
              "color": "#EBF0F8"
             },
             "line": {
              "color": "white"
             }
            },
            "header": {
             "fill": {
              "color": "#C8D4E3"
             },
             "line": {
              "color": "white"
             }
            },
            "type": "table"
           }
          ]
         },
         "layout": {
          "annotationdefaults": {
           "arrowcolor": "#2a3f5f",
           "arrowhead": 0,
           "arrowwidth": 1
          },
          "autotypenumbers": "strict",
          "coloraxis": {
           "colorbar": {
            "outlinewidth": 0,
            "ticks": ""
           }
          },
          "colorscale": {
           "diverging": [
            [
             0,
             "#8e0152"
            ],
            [
             0.1,
             "#c51b7d"
            ],
            [
             0.2,
             "#de77ae"
            ],
            [
             0.3,
             "#f1b6da"
            ],
            [
             0.4,
             "#fde0ef"
            ],
            [
             0.5,
             "#f7f7f7"
            ],
            [
             0.6,
             "#e6f5d0"
            ],
            [
             0.7,
             "#b8e186"
            ],
            [
             0.8,
             "#7fbc41"
            ],
            [
             0.9,
             "#4d9221"
            ],
            [
             1,
             "#276419"
            ]
           ],
           "sequential": [
            [
             0,
             "#0d0887"
            ],
            [
             0.1111111111111111,
             "#46039f"
            ],
            [
             0.2222222222222222,
             "#7201a8"
            ],
            [
             0.3333333333333333,
             "#9c179e"
            ],
            [
             0.4444444444444444,
             "#bd3786"
            ],
            [
             0.5555555555555556,
             "#d8576b"
            ],
            [
             0.6666666666666666,
             "#ed7953"
            ],
            [
             0.7777777777777778,
             "#fb9f3a"
            ],
            [
             0.8888888888888888,
             "#fdca26"
            ],
            [
             1,
             "#f0f921"
            ]
           ],
           "sequentialminus": [
            [
             0,
             "#0d0887"
            ],
            [
             0.1111111111111111,
             "#46039f"
            ],
            [
             0.2222222222222222,
             "#7201a8"
            ],
            [
             0.3333333333333333,
             "#9c179e"
            ],
            [
             0.4444444444444444,
             "#bd3786"
            ],
            [
             0.5555555555555556,
             "#d8576b"
            ],
            [
             0.6666666666666666,
             "#ed7953"
            ],
            [
             0.7777777777777778,
             "#fb9f3a"
            ],
            [
             0.8888888888888888,
             "#fdca26"
            ],
            [
             1,
             "#f0f921"
            ]
           ]
          },
          "colorway": [
           "#636efa",
           "#EF553B",
           "#00cc96",
           "#ab63fa",
           "#FFA15A",
           "#19d3f3",
           "#FF6692",
           "#B6E880",
           "#FF97FF",
           "#FECB52"
          ],
          "font": {
           "color": "#2a3f5f"
          },
          "geo": {
           "bgcolor": "white",
           "lakecolor": "white",
           "landcolor": "#E5ECF6",
           "showlakes": true,
           "showland": true,
           "subunitcolor": "white"
          },
          "hoverlabel": {
           "align": "left"
          },
          "hovermode": "closest",
          "mapbox": {
           "style": "light"
          },
          "paper_bgcolor": "white",
          "plot_bgcolor": "#E5ECF6",
          "polar": {
           "angularaxis": {
            "gridcolor": "white",
            "linecolor": "white",
            "ticks": ""
           },
           "bgcolor": "#E5ECF6",
           "radialaxis": {
            "gridcolor": "white",
            "linecolor": "white",
            "ticks": ""
           }
          },
          "scene": {
           "xaxis": {
            "backgroundcolor": "#E5ECF6",
            "gridcolor": "white",
            "gridwidth": 2,
            "linecolor": "white",
            "showbackground": true,
            "ticks": "",
            "zerolinecolor": "white"
           },
           "yaxis": {
            "backgroundcolor": "#E5ECF6",
            "gridcolor": "white",
            "gridwidth": 2,
            "linecolor": "white",
            "showbackground": true,
            "ticks": "",
            "zerolinecolor": "white"
           },
           "zaxis": {
            "backgroundcolor": "#E5ECF6",
            "gridcolor": "white",
            "gridwidth": 2,
            "linecolor": "white",
            "showbackground": true,
            "ticks": "",
            "zerolinecolor": "white"
           }
          },
          "shapedefaults": {
           "line": {
            "color": "#2a3f5f"
           }
          },
          "ternary": {
           "aaxis": {
            "gridcolor": "white",
            "linecolor": "white",
            "ticks": ""
           },
           "baxis": {
            "gridcolor": "white",
            "linecolor": "white",
            "ticks": ""
           },
           "bgcolor": "#E5ECF6",
           "caxis": {
            "gridcolor": "white",
            "linecolor": "white",
            "ticks": ""
           }
          },
          "title": {
           "x": 0.05
          },
          "xaxis": {
           "automargin": true,
           "gridcolor": "white",
           "linecolor": "white",
           "ticks": "",
           "title": {
            "standoff": 15
           },
           "zerolinecolor": "white",
           "zerolinewidth": 2
          },
          "yaxis": {
           "automargin": true,
           "gridcolor": "white",
           "linecolor": "white",
           "ticks": "",
           "title": {
            "standoff": 15
           },
           "zerolinecolor": "white",
           "zerolinewidth": 2
          }
         }
        },
        "title": {
         "text": "Model Accuracy - 2 Classes",
         "x": 0.4,
         "xanchor": "center"
        },
        "xaxis": {
         "anchor": "y",
         "categoryarray": [
          "LogisticRegression",
          "DecisionTreeClassifier",
          "KNeighborsClassifier",
          "SVC",
          "LogisticRegressionCV",
          "BaggingClassifier",
          "RandomForestClassifier",
          "AdaBoostClassifier"
         ],
         "categoryorder": "array",
         "domain": [
          0,
          1
         ],
         "title": {
          "text": "Model"
         }
        },
        "yaxis": {
         "anchor": "x",
         "domain": [
          0,
          1
         ],
         "title": {
          "text": "Score"
         }
        }
       }
      },
      "text/html": [
       "<div>                            <div id=\"a670d9af-740d-41ce-9d84-1ecbd45cfbbd\" class=\"plotly-graph-div\" style=\"height:525px; width:100%;\"></div>            <script type=\"text/javascript\">                require([\"plotly\"], function(Plotly) {                    window.PLOTLYENV=window.PLOTLYENV || {};                                    if (document.getElementById(\"a670d9af-740d-41ce-9d84-1ecbd45cfbbd\")) {                    Plotly.newPlot(                        \"a670d9af-740d-41ce-9d84-1ecbd45cfbbd\",                        [{\"alignmentgroup\":\"True\",\"hovertemplate\":\"Model=%{x}<br>Score=%{y}<extra></extra>\",\"legendgroup\":\"LogisticRegression\",\"marker\":{\"color\":\"#636efa\",\"pattern\":{\"shape\":\"\"}},\"name\":\"LogisticRegression\",\"offsetgroup\":\"LogisticRegression\",\"orientation\":\"v\",\"showlegend\":true,\"textposition\":\"auto\",\"x\":[\"LogisticRegression\"],\"xaxis\":\"x\",\"y\":[0.5],\"yaxis\":\"y\",\"type\":\"bar\"},{\"alignmentgroup\":\"True\",\"hovertemplate\":\"Model=%{x}<br>Score=%{y}<extra></extra>\",\"legendgroup\":\"DecisionTreeClassifier\",\"marker\":{\"color\":\"#EF553B\",\"pattern\":{\"shape\":\"\"}},\"name\":\"DecisionTreeClassifier\",\"offsetgroup\":\"DecisionTreeClassifier\",\"orientation\":\"v\",\"showlegend\":true,\"textposition\":\"auto\",\"x\":[\"DecisionTreeClassifier\"],\"xaxis\":\"x\",\"y\":[0.42857142857142855],\"yaxis\":\"y\",\"type\":\"bar\"},{\"alignmentgroup\":\"True\",\"hovertemplate\":\"Model=%{x}<br>Score=%{y}<extra></extra>\",\"legendgroup\":\"KNeighborsClassifier\",\"marker\":{\"color\":\"#00cc96\",\"pattern\":{\"shape\":\"\"}},\"name\":\"KNeighborsClassifier\",\"offsetgroup\":\"KNeighborsClassifier\",\"orientation\":\"v\",\"showlegend\":true,\"textposition\":\"auto\",\"x\":[\"KNeighborsClassifier\"],\"xaxis\":\"x\",\"y\":[0.5714285714285714],\"yaxis\":\"y\",\"type\":\"bar\"},{\"alignmentgroup\":\"True\",\"hovertemplate\":\"Model=%{x}<br>Score=%{y}<extra></extra>\",\"legendgroup\":\"SVC\",\"marker\":{\"color\":\"#ab63fa\",\"pattern\":{\"shape\":\"\"}},\"name\":\"SVC\",\"offsetgroup\":\"SVC\",\"orientation\":\"v\",\"showlegend\":true,\"textposition\":\"auto\",\"x\":[\"SVC\"],\"xaxis\":\"x\",\"y\":[0.5714285714285714],\"yaxis\":\"y\",\"type\":\"bar\"},{\"alignmentgroup\":\"True\",\"hovertemplate\":\"Model=%{x}<br>Score=%{y}<extra></extra>\",\"legendgroup\":\"LogisticRegressionCV\",\"marker\":{\"color\":\"#FFA15A\",\"pattern\":{\"shape\":\"\"}},\"name\":\"LogisticRegressionCV\",\"offsetgroup\":\"LogisticRegressionCV\",\"orientation\":\"v\",\"showlegend\":true,\"textposition\":\"auto\",\"x\":[\"LogisticRegressionCV\"],\"xaxis\":\"x\",\"y\":[0.5],\"yaxis\":\"y\",\"type\":\"bar\"},{\"alignmentgroup\":\"True\",\"hovertemplate\":\"Model=%{x}<br>Score=%{y}<extra></extra>\",\"legendgroup\":\"BaggingClassifier\",\"marker\":{\"color\":\"#19d3f3\",\"pattern\":{\"shape\":\"\"}},\"name\":\"BaggingClassifier\",\"offsetgroup\":\"BaggingClassifier\",\"orientation\":\"v\",\"showlegend\":true,\"textposition\":\"auto\",\"x\":[\"BaggingClassifier\"],\"xaxis\":\"x\",\"y\":[0.5],\"yaxis\":\"y\",\"type\":\"bar\"},{\"alignmentgroup\":\"True\",\"hovertemplate\":\"Model=%{x}<br>Score=%{y}<extra></extra>\",\"legendgroup\":\"RandomForestClassifier\",\"marker\":{\"color\":\"#FF6692\",\"pattern\":{\"shape\":\"\"}},\"name\":\"RandomForestClassifier\",\"offsetgroup\":\"RandomForestClassifier\",\"orientation\":\"v\",\"showlegend\":true,\"textposition\":\"auto\",\"x\":[\"RandomForestClassifier\"],\"xaxis\":\"x\",\"y\":[0.7142857142857143],\"yaxis\":\"y\",\"type\":\"bar\"},{\"alignmentgroup\":\"True\",\"hovertemplate\":\"Model=%{x}<br>Score=%{y}<extra></extra>\",\"legendgroup\":\"AdaBoostClassifier\",\"marker\":{\"color\":\"#B6E880\",\"pattern\":{\"shape\":\"\"}},\"name\":\"AdaBoostClassifier\",\"offsetgroup\":\"AdaBoostClassifier\",\"orientation\":\"v\",\"showlegend\":true,\"textposition\":\"auto\",\"x\":[\"AdaBoostClassifier\"],\"xaxis\":\"x\",\"y\":[0.42857142857142855],\"yaxis\":\"y\",\"type\":\"bar\"}],                        {\"template\":{\"data\":{\"histogram2dcontour\":[{\"type\":\"histogram2dcontour\",\"colorbar\":{\"outlinewidth\":0,\"ticks\":\"\"},\"colorscale\":[[0.0,\"#0d0887\"],[0.1111111111111111,\"#46039f\"],[0.2222222222222222,\"#7201a8\"],[0.3333333333333333,\"#9c179e\"],[0.4444444444444444,\"#bd3786\"],[0.5555555555555556,\"#d8576b\"],[0.6666666666666666,\"#ed7953\"],[0.7777777777777778,\"#fb9f3a\"],[0.8888888888888888,\"#fdca26\"],[1.0,\"#f0f921\"]]}],\"choropleth\":[{\"type\":\"choropleth\",\"colorbar\":{\"outlinewidth\":0,\"ticks\":\"\"}}],\"histogram2d\":[{\"type\":\"histogram2d\",\"colorbar\":{\"outlinewidth\":0,\"ticks\":\"\"},\"colorscale\":[[0.0,\"#0d0887\"],[0.1111111111111111,\"#46039f\"],[0.2222222222222222,\"#7201a8\"],[0.3333333333333333,\"#9c179e\"],[0.4444444444444444,\"#bd3786\"],[0.5555555555555556,\"#d8576b\"],[0.6666666666666666,\"#ed7953\"],[0.7777777777777778,\"#fb9f3a\"],[0.8888888888888888,\"#fdca26\"],[1.0,\"#f0f921\"]]}],\"heatmap\":[{\"type\":\"heatmap\",\"colorbar\":{\"outlinewidth\":0,\"ticks\":\"\"},\"colorscale\":[[0.0,\"#0d0887\"],[0.1111111111111111,\"#46039f\"],[0.2222222222222222,\"#7201a8\"],[0.3333333333333333,\"#9c179e\"],[0.4444444444444444,\"#bd3786\"],[0.5555555555555556,\"#d8576b\"],[0.6666666666666666,\"#ed7953\"],[0.7777777777777778,\"#fb9f3a\"],[0.8888888888888888,\"#fdca26\"],[1.0,\"#f0f921\"]]}],\"heatmapgl\":[{\"type\":\"heatmapgl\",\"colorbar\":{\"outlinewidth\":0,\"ticks\":\"\"},\"colorscale\":[[0.0,\"#0d0887\"],[0.1111111111111111,\"#46039f\"],[0.2222222222222222,\"#7201a8\"],[0.3333333333333333,\"#9c179e\"],[0.4444444444444444,\"#bd3786\"],[0.5555555555555556,\"#d8576b\"],[0.6666666666666666,\"#ed7953\"],[0.7777777777777778,\"#fb9f3a\"],[0.8888888888888888,\"#fdca26\"],[1.0,\"#f0f921\"]]}],\"contourcarpet\":[{\"type\":\"contourcarpet\",\"colorbar\":{\"outlinewidth\":0,\"ticks\":\"\"}}],\"contour\":[{\"type\":\"contour\",\"colorbar\":{\"outlinewidth\":0,\"ticks\":\"\"},\"colorscale\":[[0.0,\"#0d0887\"],[0.1111111111111111,\"#46039f\"],[0.2222222222222222,\"#7201a8\"],[0.3333333333333333,\"#9c179e\"],[0.4444444444444444,\"#bd3786\"],[0.5555555555555556,\"#d8576b\"],[0.6666666666666666,\"#ed7953\"],[0.7777777777777778,\"#fb9f3a\"],[0.8888888888888888,\"#fdca26\"],[1.0,\"#f0f921\"]]}],\"surface\":[{\"type\":\"surface\",\"colorbar\":{\"outlinewidth\":0,\"ticks\":\"\"},\"colorscale\":[[0.0,\"#0d0887\"],[0.1111111111111111,\"#46039f\"],[0.2222222222222222,\"#7201a8\"],[0.3333333333333333,\"#9c179e\"],[0.4444444444444444,\"#bd3786\"],[0.5555555555555556,\"#d8576b\"],[0.6666666666666666,\"#ed7953\"],[0.7777777777777778,\"#fb9f3a\"],[0.8888888888888888,\"#fdca26\"],[1.0,\"#f0f921\"]]}],\"mesh3d\":[{\"type\":\"mesh3d\",\"colorbar\":{\"outlinewidth\":0,\"ticks\":\"\"}}],\"scatter\":[{\"fillpattern\":{\"fillmode\":\"overlay\",\"size\":10,\"solidity\":0.2},\"type\":\"scatter\"}],\"parcoords\":[{\"type\":\"parcoords\",\"line\":{\"colorbar\":{\"outlinewidth\":0,\"ticks\":\"\"}}}],\"scatterpolargl\":[{\"type\":\"scatterpolargl\",\"marker\":{\"colorbar\":{\"outlinewidth\":0,\"ticks\":\"\"}}}],\"bar\":[{\"error_x\":{\"color\":\"#2a3f5f\"},\"error_y\":{\"color\":\"#2a3f5f\"},\"marker\":{\"line\":{\"color\":\"#E5ECF6\",\"width\":0.5},\"pattern\":{\"fillmode\":\"overlay\",\"size\":10,\"solidity\":0.2}},\"type\":\"bar\"}],\"scattergeo\":[{\"type\":\"scattergeo\",\"marker\":{\"colorbar\":{\"outlinewidth\":0,\"ticks\":\"\"}}}],\"scatterpolar\":[{\"type\":\"scatterpolar\",\"marker\":{\"colorbar\":{\"outlinewidth\":0,\"ticks\":\"\"}}}],\"histogram\":[{\"marker\":{\"pattern\":{\"fillmode\":\"overlay\",\"size\":10,\"solidity\":0.2}},\"type\":\"histogram\"}],\"scattergl\":[{\"type\":\"scattergl\",\"marker\":{\"colorbar\":{\"outlinewidth\":0,\"ticks\":\"\"}}}],\"scatter3d\":[{\"type\":\"scatter3d\",\"line\":{\"colorbar\":{\"outlinewidth\":0,\"ticks\":\"\"}},\"marker\":{\"colorbar\":{\"outlinewidth\":0,\"ticks\":\"\"}}}],\"scattermapbox\":[{\"type\":\"scattermapbox\",\"marker\":{\"colorbar\":{\"outlinewidth\":0,\"ticks\":\"\"}}}],\"scatterternary\":[{\"type\":\"scatterternary\",\"marker\":{\"colorbar\":{\"outlinewidth\":0,\"ticks\":\"\"}}}],\"scattercarpet\":[{\"type\":\"scattercarpet\",\"marker\":{\"colorbar\":{\"outlinewidth\":0,\"ticks\":\"\"}}}],\"carpet\":[{\"aaxis\":{\"endlinecolor\":\"#2a3f5f\",\"gridcolor\":\"white\",\"linecolor\":\"white\",\"minorgridcolor\":\"white\",\"startlinecolor\":\"#2a3f5f\"},\"baxis\":{\"endlinecolor\":\"#2a3f5f\",\"gridcolor\":\"white\",\"linecolor\":\"white\",\"minorgridcolor\":\"white\",\"startlinecolor\":\"#2a3f5f\"},\"type\":\"carpet\"}],\"table\":[{\"cells\":{\"fill\":{\"color\":\"#EBF0F8\"},\"line\":{\"color\":\"white\"}},\"header\":{\"fill\":{\"color\":\"#C8D4E3\"},\"line\":{\"color\":\"white\"}},\"type\":\"table\"}],\"barpolar\":[{\"marker\":{\"line\":{\"color\":\"#E5ECF6\",\"width\":0.5},\"pattern\":{\"fillmode\":\"overlay\",\"size\":10,\"solidity\":0.2}},\"type\":\"barpolar\"}],\"pie\":[{\"automargin\":true,\"type\":\"pie\"}]},\"layout\":{\"autotypenumbers\":\"strict\",\"colorway\":[\"#636efa\",\"#EF553B\",\"#00cc96\",\"#ab63fa\",\"#FFA15A\",\"#19d3f3\",\"#FF6692\",\"#B6E880\",\"#FF97FF\",\"#FECB52\"],\"font\":{\"color\":\"#2a3f5f\"},\"hovermode\":\"closest\",\"hoverlabel\":{\"align\":\"left\"},\"paper_bgcolor\":\"white\",\"plot_bgcolor\":\"#E5ECF6\",\"polar\":{\"bgcolor\":\"#E5ECF6\",\"angularaxis\":{\"gridcolor\":\"white\",\"linecolor\":\"white\",\"ticks\":\"\"},\"radialaxis\":{\"gridcolor\":\"white\",\"linecolor\":\"white\",\"ticks\":\"\"}},\"ternary\":{\"bgcolor\":\"#E5ECF6\",\"aaxis\":{\"gridcolor\":\"white\",\"linecolor\":\"white\",\"ticks\":\"\"},\"baxis\":{\"gridcolor\":\"white\",\"linecolor\":\"white\",\"ticks\":\"\"},\"caxis\":{\"gridcolor\":\"white\",\"linecolor\":\"white\",\"ticks\":\"\"}},\"coloraxis\":{\"colorbar\":{\"outlinewidth\":0,\"ticks\":\"\"}},\"colorscale\":{\"sequential\":[[0.0,\"#0d0887\"],[0.1111111111111111,\"#46039f\"],[0.2222222222222222,\"#7201a8\"],[0.3333333333333333,\"#9c179e\"],[0.4444444444444444,\"#bd3786\"],[0.5555555555555556,\"#d8576b\"],[0.6666666666666666,\"#ed7953\"],[0.7777777777777778,\"#fb9f3a\"],[0.8888888888888888,\"#fdca26\"],[1.0,\"#f0f921\"]],\"sequentialminus\":[[0.0,\"#0d0887\"],[0.1111111111111111,\"#46039f\"],[0.2222222222222222,\"#7201a8\"],[0.3333333333333333,\"#9c179e\"],[0.4444444444444444,\"#bd3786\"],[0.5555555555555556,\"#d8576b\"],[0.6666666666666666,\"#ed7953\"],[0.7777777777777778,\"#fb9f3a\"],[0.8888888888888888,\"#fdca26\"],[1.0,\"#f0f921\"]],\"diverging\":[[0,\"#8e0152\"],[0.1,\"#c51b7d\"],[0.2,\"#de77ae\"],[0.3,\"#f1b6da\"],[0.4,\"#fde0ef\"],[0.5,\"#f7f7f7\"],[0.6,\"#e6f5d0\"],[0.7,\"#b8e186\"],[0.8,\"#7fbc41\"],[0.9,\"#4d9221\"],[1,\"#276419\"]]},\"xaxis\":{\"gridcolor\":\"white\",\"linecolor\":\"white\",\"ticks\":\"\",\"title\":{\"standoff\":15},\"zerolinecolor\":\"white\",\"automargin\":true,\"zerolinewidth\":2},\"yaxis\":{\"gridcolor\":\"white\",\"linecolor\":\"white\",\"ticks\":\"\",\"title\":{\"standoff\":15},\"zerolinecolor\":\"white\",\"automargin\":true,\"zerolinewidth\":2},\"scene\":{\"xaxis\":{\"backgroundcolor\":\"#E5ECF6\",\"gridcolor\":\"white\",\"linecolor\":\"white\",\"showbackground\":true,\"ticks\":\"\",\"zerolinecolor\":\"white\",\"gridwidth\":2},\"yaxis\":{\"backgroundcolor\":\"#E5ECF6\",\"gridcolor\":\"white\",\"linecolor\":\"white\",\"showbackground\":true,\"ticks\":\"\",\"zerolinecolor\":\"white\",\"gridwidth\":2},\"zaxis\":{\"backgroundcolor\":\"#E5ECF6\",\"gridcolor\":\"white\",\"linecolor\":\"white\",\"showbackground\":true,\"ticks\":\"\",\"zerolinecolor\":\"white\",\"gridwidth\":2}},\"shapedefaults\":{\"line\":{\"color\":\"#2a3f5f\"}},\"annotationdefaults\":{\"arrowcolor\":\"#2a3f5f\",\"arrowhead\":0,\"arrowwidth\":1},\"geo\":{\"bgcolor\":\"white\",\"landcolor\":\"#E5ECF6\",\"subunitcolor\":\"white\",\"showland\":true,\"showlakes\":true,\"lakecolor\":\"white\"},\"title\":{\"x\":0.05},\"mapbox\":{\"style\":\"light\"}}},\"xaxis\":{\"anchor\":\"y\",\"domain\":[0.0,1.0],\"title\":{\"text\":\"Model\"},\"categoryorder\":\"array\",\"categoryarray\":[\"LogisticRegression\",\"DecisionTreeClassifier\",\"KNeighborsClassifier\",\"SVC\",\"LogisticRegressionCV\",\"BaggingClassifier\",\"RandomForestClassifier\",\"AdaBoostClassifier\"]},\"yaxis\":{\"anchor\":\"x\",\"domain\":[0.0,1.0],\"title\":{\"text\":\"Score\"}},\"legend\":{\"title\":{\"text\":\"Model\"},\"tracegroupgap\":0},\"margin\":{\"t\":60},\"barmode\":\"relative\",\"title\":{\"text\":\"Model Accuracy - 2 Classes\",\"x\":0.4,\"xanchor\":\"center\"}},                        {\"responsive\": true}                    ).then(function(){\n",
       "                            \n",
       "var gd = document.getElementById('a670d9af-740d-41ce-9d84-1ecbd45cfbbd');\n",
       "var x = new MutationObserver(function (mutations, observer) {{\n",
       "        var display = window.getComputedStyle(gd).display;\n",
       "        if (!display || display === 'none') {{\n",
       "            console.log([gd, 'removed!']);\n",
       "            Plotly.purge(gd);\n",
       "            observer.disconnect();\n",
       "        }}\n",
       "}});\n",
       "\n",
       "// Listen for the removal of the full notebook cells\n",
       "var notebookContainer = gd.closest('#notebook-container');\n",
       "if (notebookContainer) {{\n",
       "    x.observe(notebookContainer, {childList: true});\n",
       "}}\n",
       "\n",
       "// Listen for the clearing of the current output cell\n",
       "var outputEl = gd.closest('.output');\n",
       "if (outputEl) {{\n",
       "    x.observe(outputEl, {childList: true});\n",
       "}}\n",
       "\n",
       "                        })                };                });            </script>        </div>"
      ]
     },
     "metadata": {},
     "output_type": "display_data"
    }
   ],
   "source": [
    "pFig1 = px.bar(performDf, x = 'Model', y = 'Score', color = 'Model')\n",
    "pFig1.update_layout(\n",
    "            title={\n",
    "            'text' : 'Model Accuracy - 2 Classes',\n",
    "            'x':0.4,\n",
    "            'xanchor': 'center'\n",
    "        })\n",
    "pFig1.show()"
   ]
  },
  {
   "cell_type": "markdown",
   "metadata": {},
   "source": [
    "### Evaluation\n",
    "\n",
    "#### Model Accuracy\n",
    "Many models fared only at the level of random chance. Howver, RandomForestClassifier was able to scre about 70%. This is without any hyperparameter tuning.\n",
    "\n",
    "#### Caveat\n",
    "The above analysis was done with a very small dataset! The results might change as more data is generated and brought into the analysis."
   ]
  },
  {
   "cell_type": "code",
   "execution_count": null,
   "metadata": {},
   "outputs": [],
   "source": []
  }
 ],
 "metadata": {
  "kernelspec": {
   "display_name": "Python 3 (ipykernel)",
   "language": "python",
   "name": "python3"
  },
  "language_info": {
   "codemirror_mode": {
    "name": "ipython",
    "version": 3
   },
   "file_extension": ".py",
   "mimetype": "text/x-python",
   "name": "python",
   "nbconvert_exporter": "python",
   "pygments_lexer": "ipython3",
   "version": "3.11.5"
  },
  "widgets": {
   "application/vnd.jupyter.widget-state+json": {
    "state": {},
    "version_major": 2,
    "version_minor": 0
   }
  }
 },
 "nbformat": 4,
 "nbformat_minor": 4
}
